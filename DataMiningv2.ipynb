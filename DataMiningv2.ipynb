{
  "nbformat": 4,
  "nbformat_minor": 0,
  "metadata": {
    "colab": {
      "name": "DataMiningv2",
      "provenance": [],
      "collapsed_sections": [],
      "toc_visible": true,
      "authorship_tag": "ABX9TyMZi+XhjlDLrzfP+niH3Ynx",
      "include_colab_link": true
    },
    "kernelspec": {
      "name": "python3",
      "display_name": "Python 3"
    },
    "language_info": {
      "name": "python"
    },
    "accelerator": "GPU"
  },
  "cells": [
    {
      "cell_type": "markdown",
      "metadata": {
        "id": "view-in-github",
        "colab_type": "text"
      },
      "source": [
        "<a href=\"https://colab.research.google.com/github/basakstuff/HAR-using-Smartphones/blob/main/DataMiningv2.ipynb\" target=\"_parent\"><img src=\"https://colab.research.google.com/assets/colab-badge.svg\" alt=\"Open In Colab\"/></a>"
      ]
    },
    {
      "cell_type": "code",
      "metadata": {
        "id": "27Qr3wD502SA"
      },
      "source": [
        "from google.colab import drive\n",
        "drive.mount('/content/drive')"
      ],
      "execution_count": null,
      "outputs": []
    },
    {
      "cell_type": "code",
      "metadata": {
        "id": "3xlCPtkS08Xh"
      },
      "source": [
        "cd /content/drive/MyDrive/Colab Notebooks/DataMining"
      ],
      "execution_count": null,
      "outputs": []
    },
    {
      "cell_type": "code",
      "metadata": {
        "id": "6C7sAM6T08aa"
      },
      "source": [
        "# To store data\n",
        "import pandas as pd\n",
        "\n",
        "# To do linear algebra\n",
        "import numpy as np\n",
        "from numpy import pi\n",
        "\n",
        "# To create plots\n",
        "from matplotlib.colors import rgb2hex\n",
        "from matplotlib.cm import get_cmap\n",
        "import matplotlib.pyplot as plt\n",
        "import itertools\n",
        "from mpl_toolkits.mplot3d import Axes3D\n",
        "from sklearn.utils import shuffle\n",
        "\n",
        "# To create nicer plots\n",
        "import seaborn as sns\n",
        "\n",
        "# To create interactive plots\n",
        "from plotly.offline import init_notebook_mode, iplot\n",
        "import plotly.graph_objs as go\n",
        "init_notebook_mode(connected=True)\n",
        "from mpl_toolkits.mplot3d import Axes3D\n",
        "from sklearn.utils import shuffle\n",
        "\n",
        "# To get new datatypes and functions\n",
        "from collections import Counter\n",
        "from cycler import cycler\n",
        "\n",
        "# To investigate distributions\n",
        "from scipy.stats import norm, skew, probplot\n",
        "from scipy.optimize import curve_fit\n",
        "\n",
        "# To build models\n",
        "from sklearn import metrics\n",
        "from sklearn.preprocessing import StandardScaler, LabelEncoder, MinMaxScaler\n",
        "from sklearn.model_selection import train_test_split\n",
        "from sklearn.metrics import accuracy_score\n",
        "from sklearn.metrics import f1_score\n",
        "from sklearn.decomposition import PCA\n",
        "from sklearn.manifold import TSNE\n",
        "from sklearn.discriminant_analysis import QuadraticDiscriminantAnalysis, LinearDiscriminantAnalysis\n",
        "from sklearn.naive_bayes import GaussianNB\n",
        "from sklearn.neighbors import KNeighborsClassifier\n",
        "from sklearn.svm import SVC\n",
        "from sklearn.pipeline import Pipeline\n",
        "import sklearn.neural_network as nn\n",
        "from sklearn.metrics import confusion_matrix,accuracy_score\n",
        "from sklearn.linear_model import LogisticRegression\n",
        "from sklearn.model_selection import KFold, GridSearchCV, StratifiedKFold,cross_val_score\n",
        "from sklearn.feature_selection import RFE\n",
        "from sklearn.ensemble import ExtraTreesClassifier,AdaBoostClassifier,RandomForestClassifier\n",
        "from sklearn.tree import DecisionTreeClassifier\n",
        "from sklearn import linear_model\n",
        "from sklearn.svm import LinearSVC\n",
        "\n",
        "\n",
        "# To gbm light\n",
        "from lightgbm import LGBMClassifier\n",
        "\n",
        "# To measure time\n",
        "import time\n",
        "\n",
        "#Neural Network\n",
        "from keras.models import Sequential\n",
        "from keras.layers import Dense, Dropout,Activation\n",
        "from keras.wrappers.scikit_learn import KerasClassifier\n",
        "from keras.utils.np_utils import to_categorical\n",
        "from keras.optimizers import SGD,Adam\n",
        "from keras.models import load_model"
      ],
      "execution_count": null,
      "outputs": []
    },
    {
      "cell_type": "code",
      "metadata": {
        "id": "hVg_Nuxt08dC"
      },
      "source": [
        "# Load datasets\n",
        "train = pd.read_csv('train.csv')\n",
        "test = pd.read_csv('test.csv')\n",
        "\n",
        "# Combine boths dataframes\n",
        "train['Data'] = 'Train'\n",
        "test['Data'] = 'Test'\n",
        "both_df = pd.concat([train, test], axis=0).reset_index(drop=True)\n",
        "both_df['subject'] = '#' + both_df['subject'].astype(str)\n",
        "\n",
        "# Create label\n",
        "label = both_df.pop('Activity')\n",
        "\n",
        "print('Train:\\t{}'.format(train.shape))\n",
        "print('Test:\\t{}\\n'.format(test.shape))"
      ],
      "execution_count": null,
      "outputs": []
    },
    {
      "cell_type": "code",
      "metadata": {
        "id": "lPBCSHTB1ENx"
      },
      "source": [
        ""
      ],
      "execution_count": null,
      "outputs": []
    },
    {
      "cell_type": "markdown",
      "metadata": {
        "id": "PAlIyOAQm9CI"
      },
      "source": [
        "# Visu"
      ]
    },
    {
      "cell_type": "code",
      "metadata": {
        "id": "MLiANb-CVQoh"
      },
      "source": [
        "train.head()"
      ],
      "execution_count": null,
      "outputs": []
    },
    {
      "cell_type": "code",
      "metadata": {
        "id": "wju-O28rWSbZ"
      },
      "source": [
        "test.head()"
      ],
      "execution_count": null,
      "outputs": []
    },
    {
      "cell_type": "code",
      "metadata": {
        "id": "--K9fhmfWSeT"
      },
      "source": [
        "# Group and count main names of columns\n",
        "pd.DataFrame.from_dict(Counter([col.split('-')[0].split('(')[0] for col in both_df.columns]), orient='index').rename(columns={0:'count'}).sort_values('count', ascending=False)"
      ],
      "execution_count": null,
      "outputs": []
    },
    {
      "cell_type": "code",
      "metadata": {
        "id": "G3NncUqGWShP"
      },
      "source": [
        "# Get null values and dataframe information\n",
        "print('Null Values In DataFrame: {}\\n'.format(both_df.isna().sum().sum()))\n",
        "both_df.info()"
      ],
      "execution_count": null,
      "outputs": []
    },
    {
      "cell_type": "code",
      "metadata": {
        "id": "1VREEoVNWSjy"
      },
      "source": [
        "train.describe()  #we see that the min = -1 and the max = +1. so no need for scaling"
      ],
      "execution_count": null,
      "outputs": []
    },
    {
      "cell_type": "code",
      "metadata": {
        "id": "fr8fFadQXL5m"
      },
      "source": [
        "test.describe()  #we see that the min = -1 and the max = +1. so no need for scaling"
      ],
      "execution_count": null,
      "outputs": []
    },
    {
      "cell_type": "code",
      "metadata": {
        "id": "a-_9AfsTWSne"
      },
      "source": [
        "# Plotting data\n",
        "label_counts = label.value_counts()\n",
        "\n",
        "# Get colors\n",
        "n = label_counts.shape[0]\n",
        "colormap = get_cmap('viridis')\n",
        "colors = [rgb2hex(colormap(col)) for col in np.arange(0, 1.01, 1/(n-1))]\n",
        "\n",
        "# Create plot\n",
        "data = go.Bar(x = label_counts.index,\n",
        "              y = label_counts,\n",
        "              marker = dict(color = colors))\n",
        "\n",
        "layout = go.Layout(title = 'Smartphone Activity Label Distribution',\n",
        "                   xaxis = dict(title = 'Activity'),\n",
        "                   yaxis = dict(title = 'Count'))\n",
        "\n",
        "plt = go.Figure(data=[data], layout=layout)\n",
        "plt.show()"
      ],
      "execution_count": null,
      "outputs": []
    },
    {
      "cell_type": "code",
      "metadata": {
        "id": "T9LmczyzXOKR"
      },
      "source": [
        "# # Create datasets\n",
        "# tsne_data = both_df.copy()\n",
        "# data_data = tsne_data.pop('Data')\n",
        "# subject_data = tsne_data.pop('subject')\n",
        "\n",
        "# # Scale data\n",
        "# scl = StandardScaler()\n",
        "# tsne_data = scl.fit_transform(tsne_data)\n",
        "\n",
        "# # Reduce dimensions (speed up)\n",
        "# pca = PCA(n_components=0.9, random_state=3)\n",
        "# tsne_data = pca.fit_transform(tsne_data)\n",
        "\n",
        "# # Transform data\n",
        "# tsne = TSNE(random_state=3)\n",
        "# tsne_transformed = tsne.fit_transform(tsne_data)\n",
        "\n",
        "\n",
        "# # Create subplots\n",
        "# #fig, axarr = plt.subplots(2, figsize=(15,10))\n",
        "\n",
        "# axarr = plt.subplots(2, figsize=(15,10))\n",
        "# fig, axarr = axarr[0], axarr[1:]\n",
        "\n",
        "\n",
        "# ### Plot Activities\n",
        "# # Get colors\n",
        "# n = label.unique().shape[0]\n",
        "# colormap = get_cmap('viridis')\n",
        "# colors = [rgb2hex(colormap(col)) for col in np.arange(0, 1.01, 1/(n-1))]\n",
        "\n",
        "# # Plot each activity\n",
        "# for i, group in enumerate(label_counts.index):\n",
        "#     # Mask to separate sets\n",
        "#     mask = (label==group).values\n",
        "#     axarr[0].scatter(x=tsne_transformed[mask][:,0], y=tsne_transformed[mask][:,1], c=colors[i], alpha=0.5, label=group)\n",
        "# axarr[0].set_title('t-SNE: Activity Visualisation')\n",
        "# axarr[0].legend()\n",
        "\n",
        "\n",
        "# ### Plot Subjects\n",
        "# # Get colors\n",
        "# n = subject_data.unique().shape[0]\n",
        "# colormap = get_cmap('gist_ncar')\n",
        "# colors = [rgb2hex(colormap(col)) for col in np.arange(0, 1.01, 1/(n-1))]\n",
        "\n",
        "# # Plot each participant\n",
        "# for i, group in enumerate(subject_data.unique()):\n",
        "#     # Mask to separate sets\n",
        "#     mask = (subject_data==group).values\n",
        "#     axarr[1].scatter(x=tsne_transformed[mask][:,0], y=tsne_transformed[mask][:,1], c=colors[i], alpha=0.5, label=group)\n",
        "\n",
        "# axarr[1].set_title('t-SNE: Participant Visualisation')\n",
        "# plt.show()"
      ],
      "execution_count": null,
      "outputs": []
    },
    {
      "cell_type": "code",
      "metadata": {
        "id": "GGV1-ttSXONP"
      },
      "source": [
        "feature_cols = train.columns[: -1]   #exclude the Activity column\n",
        "#Calculate the correlation values\n",
        "correlated_values = train[feature_cols].corr()\n",
        "#stack the data and convert to a dataframe\n",
        "\n",
        "correlated_values = (correlated_values.stack().to_frame().reset_index()\n",
        "                    .rename(columns={'level_0': 'Feature_1', 'level_1': 'Feature_2', 0:'Correlations'}))\n",
        "correlated_values.head()"
      ],
      "execution_count": null,
      "outputs": []
    },
    {
      "cell_type": "code",
      "metadata": {
        "id": "-NXWf69ZXOQV"
      },
      "source": [
        "#create an abs_correlation column\n",
        "correlated_values['abs_correlation'] = correlated_values.Correlations.abs()\n",
        "correlated_values.head()"
      ],
      "execution_count": null,
      "outputs": []
    },
    {
      "cell_type": "code",
      "metadata": {
        "id": "ZkzT_8shXOTb"
      },
      "source": [
        "#Picking most correlated features\n",
        "train_fields = correlated_values.sort_values('Correlations', ascending = False).query('abs_correlation>0.8')\n",
        "train_fields.sample(5)"
      ],
      "execution_count": null,
      "outputs": []
    },
    {
      "cell_type": "code",
      "metadata": {
        "id": "a3EMpIWcXOWB"
      },
      "source": [
        "# import libraries for visualization\n",
        "import matplotlib.pyplot as plt\n",
        "import seaborn as sns\n",
        "\n",
        "sns.set_style('whitegrid')\n",
        "plt.rcParams['font.family'] = 'Dejavu Sans'"
      ],
      "execution_count": null,
      "outputs": []
    },
    {
      "cell_type": "code",
      "metadata": {
        "id": "IKTQFRHWXOZC"
      },
      "source": [
        "plt.figure(figsize=(16,8))\n",
        "plt.title('Data provided by each user', fontsize=20)\n",
        "sns.countplot(x='subject',hue='Activity', data = train)\n",
        "plt.show()"
      ],
      "execution_count": null,
      "outputs": []
    },
    {
      "cell_type": "code",
      "metadata": {
        "id": "TeF6n65P1EVj"
      },
      "source": [
        ""
      ],
      "execution_count": null,
      "outputs": []
    },
    {
      "cell_type": "markdown",
      "metadata": {
        "id": "e3Hv879f1Zpn"
      },
      "source": [
        "# Functions\n"
      ]
    },
    {
      "cell_type": "code",
      "metadata": {
        "id": "JMNLhA2h1gsL"
      },
      "source": [
        "# get X_train and y_train from csv files\n",
        "X_train = train.drop(['subject', 'Activity', 'Data'], axis=1)\n",
        "y_train = train.Activity"
      ],
      "execution_count": null,
      "outputs": []
    },
    {
      "cell_type": "code",
      "metadata": {
        "id": "9-3487Fo1l_F"
      },
      "source": [
        "X_train.head()"
      ],
      "execution_count": null,
      "outputs": []
    },
    {
      "cell_type": "code",
      "metadata": {
        "id": "--zZXalw1gu7"
      },
      "source": [
        "# get X_test and y_test from test csv file\n",
        "X_test = test.drop(['subject', 'Activity', 'Data'], axis=1)\n",
        "y_test = test.Activity"
      ],
      "execution_count": null,
      "outputs": []
    },
    {
      "cell_type": "code",
      "metadata": {
        "id": "pgu-WQzd1-ox"
      },
      "source": [
        "print('X_train and y_train : ({},{})'.format(X_train.shape, y_train.shape))\n",
        "print('X_test  and y_test  : ({},{})'.format(X_test.shape, y_test.shape))"
      ],
      "execution_count": null,
      "outputs": []
    },
    {
      "cell_type": "markdown",
      "metadata": {
        "id": "_ljynqlZ2EJd"
      },
      "source": [
        "**Labels that are useful in plotting confusion matrix**"
      ]
    },
    {
      "cell_type": "code",
      "metadata": {
        "id": "fmBo35Fq1-rk"
      },
      "source": [
        "labels=['LAYING', 'SITTING','STANDING','WALKING','WALKING_DOWNSTAIRS','WALKING_UPSTAIRS']"
      ],
      "execution_count": null,
      "outputs": []
    },
    {
      "cell_type": "markdown",
      "metadata": {
        "id": "pLgPhKPD2Rwh"
      },
      "source": [
        "### **Function to plot the confusion matrix**"
      ]
    },
    {
      "cell_type": "code",
      "metadata": {
        "id": "gHAsSCEX1-un"
      },
      "source": [
        "\n",
        "plt.rcParams[\"font.family\"] = 'DejaVu Sans'\n",
        "\n",
        "def plot_confusion_matrix(cm, classes,\n",
        "                          normalize=False,\n",
        "                          title='Confusion matrix',\n",
        "                          cmap=plt.cm.Purples):\n",
        "    if normalize:\n",
        "        cm = cm.astype('float') / cm.sum(axis=1)[:, np.newaxis]\n",
        "\n",
        "    plt.imshow(cm, interpolation='nearest', cmap=cmap)\n",
        "    plt.title(title)\n",
        "    plt.colorbar()\n",
        "    tick_marks = np.arange(len(classes))\n",
        "    plt.xticks(tick_marks, classes, rotation=90)\n",
        "    plt.yticks(tick_marks, classes)\n",
        "\n",
        "    fmt = '.2f' if normalize else 'd'\n",
        "    thresh = cm.max() / 2.\n",
        "    for i, j in itertools.product(range(cm.shape[0]), range(cm.shape[1])):\n",
        "        plt.text(j, i, format(cm[i, j], fmt),\n",
        "                 horizontalalignment=\"center\",\n",
        "                 color=\"white\" if cm[i, j] > thresh else \"black\")\n",
        "\n",
        "    plt.tight_layout()\n",
        "    plt.ylabel('True label')\n",
        "    plt.xlabel('Predicted label')"
      ],
      "execution_count": null,
      "outputs": []
    },
    {
      "cell_type": "markdown",
      "metadata": {
        "id": "ZfHVVnVX24ZY"
      },
      "source": [
        "### **Generic function to run any model specified**"
      ]
    },
    {
      "cell_type": "code",
      "metadata": {
        "id": "C36eN18B1-xi"
      },
      "source": [
        "from datetime import datetime\n",
        "def perform_model(model, X_train, y_train, X_test, y_test, class_labels, cm_normalize=True, average='micro',\\\n",
        "                 print_cm=True, cm_cmap=plt.cm.Oranges):\n",
        "    \n",
        "    \n",
        "    # to store results at various phases\n",
        "    results = dict()\n",
        "    \n",
        "    # time at which model starts training \n",
        "    train_start_time = datetime.now()\n",
        "    print('training the model..')\n",
        "    model.fit(X_train, y_train)\n",
        "    print('Done \\n \\n')\n",
        "    train_end_time = datetime.now()\n",
        "    results['training_time'] =  train_end_time - train_start_time\n",
        "    print('training_time(HH:MM:SS.ms) - {}\\n\\n'.format(results['training_time']))\n",
        "    \n",
        "    \n",
        "    # predict test data\n",
        "    print('Predicting test data')\n",
        "    test_start_time = datetime.now()\n",
        "    y_pred = model.predict(X_test)\n",
        "    test_end_time = datetime.now()\n",
        "    print('Done \\n \\n')\n",
        "    results['testing_time'] = test_end_time - test_start_time\n",
        "    print('testing time(HH:MM:SS:ms) - {}\\n\\n'.format(results['testing_time']))\n",
        "    results['predicted'] = y_pred\n",
        "   \n",
        "\n",
        "    # calculate overall accuracy of the model\n",
        "    accuracy = metrics.accuracy_score(y_true=y_test, y_pred=y_pred)\n",
        "    # store accuracy in results\n",
        "    results['accuracy'] = accuracy\n",
        "    print('---------------------')\n",
        "    print('|      Accuracy      |')\n",
        "    print('---------------------')\n",
        "    print('\\n    {}\\n\\n'.format(accuracy))\n",
        "\n",
        "\n",
        "    # calculate overall F1 score of the model\n",
        "    f1_score = metrics.f1_score(y_true=y_test, y_pred=y_pred, average='micro')\n",
        "    # store accuracy in results\n",
        "    results['f1_score'] = f1_score\n",
        "    print('---------------------')\n",
        "    print('|      F1 Score      |')\n",
        "    print('---------------------')\n",
        "    print('\\n    {}\\n\\n'.format(f1_score))\n",
        "\n",
        "    \n",
        "    # confusion matrix\n",
        "    cm = metrics.confusion_matrix(y_test, y_pred)\n",
        "    results['confusion_matrix'] = cm\n",
        "    if print_cm: \n",
        "        print('--------------------')\n",
        "        print('| Confusion Matrix |')\n",
        "        print('--------------------')\n",
        "        print('\\n {}'.format(cm))\n",
        "        \n",
        "    # plot confusin matrix\n",
        "    plt.figure(figsize=(8,8))\n",
        "    plt.grid(b=False)\n",
        "    plot_confusion_matrix(cm, classes=class_labels, normalize=True, title='Normalized confusion matrix', cmap = cm_cmap)\n",
        "    plt.show()\n",
        "    \n",
        "    # get classification report\n",
        "    print('-------------------------')\n",
        "    print('| Classifiction Report |')\n",
        "    print('-------------------------')\n",
        "    classification_report = metrics.classification_report(y_test, y_pred)\n",
        "    # store report in results\n",
        "    results['classification_report'] = classification_report\n",
        "    print(classification_report)\n",
        "    \n",
        "    # add the trained  model to the results\n",
        "    results['model'] = model\n",
        "    \n",
        "    return results"
      ],
      "execution_count": null,
      "outputs": []
    },
    {
      "cell_type": "markdown",
      "metadata": {
        "id": "DLuB9Aab3L4R"
      },
      "source": [
        "\n",
        "### **Function to plot Train and Test AUC Curve**"
      ]
    },
    {
      "cell_type": "code",
      "metadata": {
        "id": "FwpJAFRx3IdJ"
      },
      "source": [
        "from sklearn.metrics import roc_curve, auc\n",
        "\n",
        "def best_model(model, X_train, Y_train, X_test, Y_test):\n",
        "  classifier = model.best_estimator_\n",
        "  print(classifier)\n",
        "  classifier.fit(X_train, Y_train)\n",
        "\n",
        "  try:\n",
        "    y_train_pred = classifier.predict_proba(X_train)[:,1]\n",
        "    y_test_pred = classifier.predict_proba(X_test)[:,1]\n",
        "  except:\n",
        "    y_train_pred = classifier.decision_function(X_train)\n",
        "    y_test_pred = classifier.decision_function(X_test)\n",
        "\n",
        "  train_fpr, train_tpr, tr_thresholds = roc_curve(Y_train, y_train_pred)\n",
        "  test_fpr, test_tpr, te_thresholds = roc_curve(Y_test, y_test_pred)\n",
        "\n",
        "  ### --- This is test AUC for TFIDF\n",
        "  auc_bow = auc(test_fpr, test_tpr)\n",
        "\n",
        "  plt.plot(train_fpr, train_tpr, label=\"train AUC =\"+str(auc(train_fpr, train_tpr)))\n",
        "  plt.plot(test_fpr, test_tpr, label=\"test AUC =\"+str(auc(test_fpr, test_tpr)))\n",
        "  plt.legend()\n",
        "  plt.xlabel(\"FPR\")\n",
        "  plt.ylabel(\"TPR\")\n",
        "  plt.title(\"ERROR PLOTS\")\n",
        "  plt.grid()\n",
        "  plt.show()"
      ],
      "execution_count": null,
      "outputs": []
    },
    {
      "cell_type": "markdown",
      "metadata": {
        "id": "eEVrtrHd3SiO"
      },
      "source": [
        "### **Method to print the gridsearch Attributes**"
      ]
    },
    {
      "cell_type": "code",
      "metadata": {
        "id": "nl41ND363VDb"
      },
      "source": [
        "def print_grid_search_attributes(model):\n",
        "    # Estimator that gave highest score among all the estimators formed in GridSearch\n",
        "    print('--------------------------')\n",
        "    print('|      Best Estimator     |')\n",
        "    print('--------------------------')\n",
        "    print('\\n\\t{}\\n'.format(model.best_estimator_))\n",
        "\n",
        "\n",
        "    # parameters that gave best results while performing grid search\n",
        "    print('--------------------------')\n",
        "    print('|     Best parameters     |')\n",
        "    print('--------------------------')\n",
        "    print('\\tParameters of best estimator : \\n\\n\\t{}\\n'.format(model.best_params_))\n",
        "\n",
        "\n",
        "    #  number of cross validation splits\n",
        "    print('---------------------------------')\n",
        "    print('|   No of CrossValidation sets   |')\n",
        "    print('--------------------------------')\n",
        "    print('\\n\\tTotal number of cross validation sets: {}\\n'.format(model.n_splits_))\n",
        "\n",
        "\n",
        "    # Average cross validated score of the best estimator, from the Grid Search \n",
        "    print('--------------------------')\n",
        "    print('|        Best Score       |')\n",
        "    print('--------------------------')\n",
        "    print('\\n\\tAverage Cross Validate scores of best estimator : \\n\\n\\t{}\\n'.format(model.best_score_))"
      ],
      "execution_count": null,
      "outputs": []
    },
    {
      "cell_type": "markdown",
      "metadata": {
        "id": "MwE_zXKH_ET9"
      },
      "source": [
        "# Models\n"
      ]
    },
    {
      "cell_type": "markdown",
      "metadata": {
        "id": "8rHgKtPc_GVZ"
      },
      "source": [
        "## 1. Logistic Regression with Grid Search\n"
      ]
    },
    {
      "cell_type": "code",
      "metadata": {
        "id": "FZyX-AJi_JKP"
      },
      "source": [
        "scaler = StandardScaler()\n",
        "\n",
        "scaler.fit(X_train)\n",
        "\n",
        "X_train_scaled = scaler.transform(X_train)\n",
        "X_test_scaled = scaler.transform(X_test)\n",
        "\n",
        "print('X_train_scaled and y_train : ({},{})'.format(X_train_scaled.shape, y_train.shape))\n",
        "print('X_test_scaled and y_test  : ({},{})'.format(X_test_scaled.shape, y_test.shape))"
      ],
      "execution_count": null,
      "outputs": []
    },
    {
      "cell_type": "code",
      "metadata": {
        "id": "hFRZgvwo_P-t"
      },
      "source": [
        "\n",
        "# start Grid search\n",
        "parameters_LR = {'C':[0.01, 0.1, 1, 10, 20, 30], 'penalty':['l2','l1']}\n",
        "log_reg = linear_model.LogisticRegression(solver='lbfgs', max_iter=1000)\n",
        "log_reg_grid = GridSearchCV(log_reg, param_grid=parameters_LR, cv=10, verbose=1, return_train_score=True, n_jobs=-1)\n",
        "log_reg_grid_results =  perform_model(log_reg_grid, X_train, y_train, X_test, y_test, class_labels=labels)"
      ],
      "execution_count": null,
      "outputs": []
    },
    {
      "cell_type": "code",
      "metadata": {
        "id": "e87yuoTK_g-a"
      },
      "source": [
        "\n",
        "plt.figure(figsize=(8,8))\n",
        "plt.grid(b=False)\n",
        "plot_confusion_matrix(log_reg_grid_results['confusion_matrix'], classes=labels, cmap=plt.cm.Purples, )\n",
        "plt.show()"
      ],
      "execution_count": null,
      "outputs": []
    },
    {
      "cell_type": "code",
      "metadata": {
        "id": "TzqnGybOBOJa"
      },
      "source": [
        "max_scores = pd.DataFrame(log_reg_grid.cv_results_).groupby(['param_penalty','param_C']).max().unstack()[['mean_test_score', 'mean_train_score']]\n",
        "\n",
        "fig, ax = plt.subplots(1,2, figsize=(20,6))\n",
        "\n",
        "sns.heatmap(max_scores.mean_train_score, annot = True, fmt='.4g', ax=ax[0])\n",
        "sns.heatmap(max_scores.mean_test_score, annot = True, fmt='.4g', ax=ax[1])\n",
        "\n",
        "ax[0].set_title('Train Set')\n",
        "ax[1].set_title('CV Set')\n",
        "\n",
        "plt.show()"
      ],
      "execution_count": null,
      "outputs": []
    },
    {
      "cell_type": "code",
      "metadata": {
        "id": "PRY18swJBOMX"
      },
      "source": [
        "# observe the attributes of the model \n",
        "print_grid_search_attributes(log_reg_grid_results['model'])"
      ],
      "execution_count": null,
      "outputs": []
    },
    {
      "cell_type": "code",
      "metadata": {
        "id": "dJ32W6JcBOPy"
      },
      "source": [
        "print(log_reg_grid.best_estimator_)"
      ],
      "execution_count": null,
      "outputs": []
    },
    {
      "cell_type": "markdown",
      "metadata": {
        "id": "k4RAlDTxBil6"
      },
      "source": [
        "### ?????? comment\n"
      ]
    },
    {
      "cell_type": "code",
      "metadata": {
        "id": "dweNvE4SBOSK"
      },
      "source": [
        "ModelBest = log_reg_grid.best_estimator_\n",
        "classifier = ModelBest\n",
        "classifier.fit(X_train_scaled, y_train)"
      ],
      "execution_count": null,
      "outputs": []
    },
    {
      "cell_type": "code",
      "metadata": {
        "id": "rvMZfbxpBOVF"
      },
      "source": [
        "y_train_pred = classifier.predict_proba(X_train_scaled)\n",
        "print(y_train_pred.shape)"
      ],
      "execution_count": null,
      "outputs": []
    },
    {
      "cell_type": "code",
      "metadata": {
        "id": "-nvXQWQIBno9"
      },
      "source": [
        "\n",
        "# Compute ROC curve and ROC area for each class\n",
        "fpr = dict()\n",
        "tpr = dict()\n",
        "roc_auc = dict()\n",
        "\n",
        "y_train_dummies = pd.get_dummies(y_train, drop_first=False).values\n",
        "\n",
        "for i in range(6):\n",
        "    fpr[i], tpr[i],_ = roc_curve(y_train_dummies[:, i], y_train_pred[:, i])\n",
        "    roc_auc[i] = auc(fpr[i], tpr[i])\n",
        "\n",
        "# roc for each class\n",
        "fig, ax = plt.subplots(figsize=(17, 6))\n",
        "ax.plot([0, 1], [0, 1], 'k--')\n",
        "ax.set_xlim([0.0, 1.0])\n",
        "ax.set_ylim([0.0, 1.05])\n",
        "ax.set_xlabel('False Positive Rate')\n",
        "ax.set_ylabel('True Positive Rate')\n",
        "ax.set_title('Receiver operating characteristic example')\n",
        "for i in range(6):\n",
        "    ax.plot(fpr[i], tpr[i], label='ROC curve (area = %0.2f) for label %i' % (roc_auc[i], i))\n",
        "ax.legend(loc=\"best\")\n",
        "ax.grid(alpha=.4)\n",
        "sns.despine()\n",
        "plt.show()"
      ],
      "execution_count": null,
      "outputs": []
    },
    {
      "cell_type": "markdown",
      "metadata": {
        "id": "El7SYP7eIaOs"
      },
      "source": [
        "## 2. Linear SVC with GridSearch\n"
      ]
    },
    {
      "cell_type": "markdown",
      "metadata": {
        "id": "ROv-jStyJD-j"
      },
      "source": [
        "**Rapor için not:**\n",
        "\n",
        "\n",
        "\n",
        "  Whether to enable probability estimates. This must be enabled prior to calling fit, will slow down that method as it internally uses 5-fold cross-validation, and predict_proba may be inconsistent with predict. Read more in the User Guide."
      ]
    },
    {
      "cell_type": "code",
      "metadata": {
        "id": "BKHOyRgNBnvB"
      },
      "source": [
        "parameters_LSVC = {'C':[0.125, 0.5, 1, 2, 8, 16]}\n",
        "lr_svc = LinearSVC(tol=0.00005)\n",
        "lr_svc_grid = GridSearchCV(lr_svc, param_grid=parameters_LSVC, cv=10, n_jobs=-1, verbose=1, return_train_score=True)\n",
        "lr_svc_grid_results = perform_model(lr_svc_grid, X_train, y_train, X_test, y_test, class_labels=labels)"
      ],
      "execution_count": null,
      "outputs": []
    },
    {
      "cell_type": "code",
      "metadata": {
        "id": "SZeFVdNtIila"
      },
      "source": [
        "plt.figure(figsize=(8,8))\n",
        "plt.grid(b=False)\n",
        "plot_confusion_matrix(lr_svc_grid_results['confusion_matrix'], classes=labels, cmap=plt.cm.Purples, )\n",
        "plt.show()"
      ],
      "execution_count": null,
      "outputs": []
    },
    {
      "cell_type": "code",
      "metadata": {
        "id": "Y4GUh_RIIioH"
      },
      "source": [
        "print_grid_search_attributes(lr_svc_grid_results['model'])"
      ],
      "execution_count": null,
      "outputs": []
    },
    {
      "cell_type": "markdown",
      "metadata": {
        "id": "QmjF5yL5Jbq8"
      },
      "source": [
        "## 3. Kernel SVM with GridSearch"
      ]
    },
    {
      "cell_type": "code",
      "metadata": {
        "id": "u85Bw5fQIiqx"
      },
      "source": [
        "from sklearn.svm import SVC\n",
        "parameters_ksvm = {'C':[2,8,16],\\\n",
        "              'gamma': [ 0.0078125, 0.125, 2]}\n",
        "rbf_svm = SVC(kernel='rbf')\n",
        "rbf_svm_grid = GridSearchCV(rbf_svm, param_grid=parameters_ksvm, cv=10, n_jobs=-1)\n",
        "rbf_svm_grid_results = perform_model(rbf_svm_grid, X_train, y_train, X_test, y_test, class_labels=labels)"
      ],
      "execution_count": null,
      "outputs": []
    },
    {
      "cell_type": "code",
      "metadata": {
        "id": "2fZBlolIIitf"
      },
      "source": [
        "print_grid_search_attributes(rbf_svm_grid_results['model'])"
      ],
      "execution_count": null,
      "outputs": []
    },
    {
      "cell_type": "markdown",
      "metadata": {
        "id": "LhiVZVtwJmaW"
      },
      "source": [
        "## 4. Decision Trees with GridSearchCV"
      ]
    },
    {
      "cell_type": "code",
      "metadata": {
        "id": "v7fWV44GIiv7"
      },
      "source": [
        "parameters_DT = {'max_depth':np.arange(3,10,2)}\n",
        "dt = DecisionTreeClassifier()\n",
        "dt_grid = GridSearchCV(dt,param_grid=parameters_DT, cv=10, n_jobs=-1, cv=10)\n",
        "dt_grid_results = perform_model(dt_grid, X_train, y_train, X_test, y_test, class_labels=labels)\n",
        "print_grid_search_attributes(dt_grid_results['model'])"
      ],
      "execution_count": null,
      "outputs": []
    },
    {
      "cell_type": "code",
      "metadata": {
        "id": "M5mT_sP4Bnwt"
      },
      "source": [
        "\n",
        "print_grid_search_attributes(dt_grid_results['model'])"
      ],
      "execution_count": null,
      "outputs": []
    },
    {
      "cell_type": "markdown",
      "metadata": {
        "id": "6Y5uQZrBKy3G"
      },
      "source": [
        "## 5. Random Forest Classifier with GridSearch"
      ]
    },
    {
      "cell_type": "code",
      "metadata": {
        "id": "sHg431v6K1Qz"
      },
      "source": [
        "\n",
        "from sklearn.ensemble import RandomForestClassifier\n",
        "params_RF = {'n_estimators': np.arange(10,201,20), 'max_depth':np.arange(3,15,2)}\n",
        "rfc = RandomForestClassifier()\n",
        "rfc_grid = GridSearchCV(rfc, cv=10, param_grid=params_RF, n_jobs=-1)\n",
        "rfc_grid_results = perform_model(rfc_grid, X_train, y_train, X_test, y_test, class_labels=labels)\n",
        "print_grid_search_attributes(rfc_grid_results['model'])"
      ],
      "execution_count": null,
      "outputs": []
    },
    {
      "cell_type": "markdown",
      "metadata": {
        "id": "VTGEeNT6QFYW"
      },
      "source": [
        "## 6. Gradient Boosted Decision Trees With GridSearch"
      ]
    },
    {
      "cell_type": "code",
      "metadata": {
        "id": "CizvrBIqK1U0"
      },
      "source": [
        "\n",
        "from sklearn.ensemble import GradientBoostingClassifier\n",
        "param_grid_GBDT = {'max_depth': np.arange(5,8,1), \\\n",
        "             'n_estimators':np.arange(130,170,10)}\n",
        "gbdt = GradientBoostingClassifier()\n",
        "gbdt_grid = GridSearchCV(gbdt, cv=10, param_grid=param_grid_GBDT, n_jobs=-1)\n",
        "gbdt_grid_results = perform_model(gbdt_grid, X_train, y_train, X_test, y_test, class_labels=labels)\n",
        "print_grid_search_attributes(gbdt_grid_results['model'])"
      ],
      "execution_count": null,
      "outputs": []
    },
    {
      "cell_type": "markdown",
      "metadata": {
        "id": "9PZU79m2QOCH"
      },
      "source": [
        "## 7. Light GBM with GridSearch"
      ]
    },
    {
      "cell_type": "code",
      "metadata": {
        "id": "Ry80kYtSK1X0"
      },
      "source": [
        "from lightgbm import LGBMClassifier\n",
        "parameters_lgbm = {'max_depth': [1, 5, 10, 50], 'n_estimators':np.arange(10,121,20)}\n",
        "\n",
        "lgbm = LGBMClassifier()\n",
        "lgbm_grid = GridSearchCV(lgbm,param_grid=parameters_lgbm, cv=10, verbose=1, n_jobs=-1, return_train_score=True)\n",
        "lgbm_grid_results = perform_model(lgbm_grid, X_train, y_train, X_test, y_test, class_labels=labels)\n",
        "print_grid_search_attributes(lgbm_grid_results['model'])"
      ],
      "execution_count": null,
      "outputs": []
    },
    {
      "cell_type": "markdown",
      "metadata": {
        "id": "p3E_f_7TQUxt"
      },
      "source": [
        "## 8. XGBoost with GridSearch"
      ]
    },
    {
      "cell_type": "code",
      "metadata": {
        "id": "SeQQglvEQV12"
      },
      "source": [
        "\n",
        "from xgboost import XGBClassifier\n",
        "parameters_xgb = {'max_depth': [1, 5, 10, 50], 'n_estimators':np.arange(10,121,20)}\n",
        "\n",
        "xgb = XGBClassifier()\n",
        "xgb_grid = GridSearchCV(xgb,param_grid=parameters_xgb, cv=10, verbose=1, n_jobs=-1, return_train_score=True)\n",
        "xgb_grid_results = perform_model(xgb_grid, X_train, y_train, X_test, y_test, class_labels=labels)\n",
        "print_grid_search_attributes(xgb_grid_results['model'])"
      ],
      "execution_count": null,
      "outputs": []
    },
    {
      "cell_type": "markdown",
      "metadata": {
        "id": "9cIaSmR6QbRy"
      },
      "source": [
        "## 9. KNN with Grid Search"
      ]
    },
    {
      "cell_type": "code",
      "metadata": {
        "id": "Jpb9QHxmQcME"
      },
      "source": [
        "import matplotlib.pyplot as plt\n",
        "from sklearn.neighbors import KNeighborsClassifier\n",
        "from sklearn.metrics import roc_auc_score\n",
        "\n",
        "# start Grid search\n",
        "parameters_KNN = {'n_neighbors':[3, 15, 25, 51, 101, 151, 201, 301, 401]}\n",
        "KNN_Class = KNeighborsClassifier()\n",
        "KNN_Class_grid = GridSearchCV(KNN_Class, param_grid=parameters_KNN, cv=10, verbose=1, n_jobs=-1, return_train_score=True)\n",
        "KNN_Class_grid_results =  perform_model(KNN_Class_grid, X_train, y_train, X_test, y_test, class_labels=labels)\n",
        "print_grid_search_attributes(KNN_Class_grid_results['model'])"
      ],
      "execution_count": null,
      "outputs": []
    },
    {
      "cell_type": "markdown",
      "metadata": {
        "id": "JENOhC5BQngC"
      },
      "source": [
        "# Comparing Models"
      ]
    },
    {
      "cell_type": "code",
      "metadata": {
        "id": "h2sPp1MXQm8q"
      },
      "source": [
        "\n",
        "print('\\n                     Accuracy     Error     F1 Score')\n",
        "print('                     ----------   --------   ---------')\n",
        "print('Logistic Regression : {:.04}%       {:.04}%    {:.04}%'.format(log_reg_grid_results['accuracy'] * 100,\\\n",
        "                                                  100-(log_reg_grid_results['accuracy'] * 100),\\\n",
        "                                                  (log_reg_grid_results['f1_score'] * 100)))\n",
        "\n",
        "print('Linear SVC          : {:.04}%       {:.04}%    {:.04}%'.format(lr_svc_grid_results['accuracy'] * 100,\\\n",
        "                                                        100-(lr_svc_grid_results['accuracy'] * 100),\\\n",
        "                                                  (lr_svc_grid_results['f1_score'] * 100)))\n",
        "\n",
        "print('rbf SVM classifier  : {:.04}%      {:.04}%    {:.04}%'.format(rbf_svm_grid_results['accuracy'] * 100,\\\n",
        "                                                          100-(rbf_svm_grid_results['accuracy'] * 100),\\\n",
        "                                                  (rbf_svm_grid_results['f1_score'] * 100)))\n",
        "\n",
        "print('DecisionTree        : {:.04}%      {:.04}%    {:.04}%'.format(dt_grid_results['accuracy'] * 100,\\\n",
        "                                                        100-(dt_grid_results['accuracy'] * 100),\\\n",
        "                                                  (dt_grid_results['f1_score'] * 100)))\n",
        "\n",
        "print('Random Forest       : {:.04}%      {:.04}%    {:.04}%'.format(rfc_grid_results['accuracy'] * 100,\\\n",
        "                                                           100-(rfc_grid_results['accuracy'] * 100),\\\n",
        "                                                  (rfc_grid_results['f1_score'] * 100)))\n",
        "\n",
        "print('GradientBoosting DT : {:.04}%      {:.04}%    {:.04}%'.format(gbdt_grid_results['accuracy'] * 100,\\\n",
        "                                                        100-(gbdt_grid_results['accuracy'] * 100),\\\n",
        "                                                  (gbdt_grid_results['f1_score'] * 100)))\n",
        "\n",
        "print('Light GBM           : {:.04}%      {:.04}%    {:.04}%'.format(lgbm_grid_results['accuracy'] * 100,\\\n",
        "                                                        100-(lgbm_grid_results['accuracy'] * 100),\\\n",
        "                                                  (lgbm_grid_results['f1_score'] * 100)))\n",
        "\n",
        "print('XGBoost             : {:.04}%     {:.04}%    {:.04}%'.format(xgb_grid_results['accuracy'] * 100,\\\n",
        "                                                        100-(xgb_grid_results['accuracy'] * 100),\\\n",
        "                                                  (xgb_grid_results['f1_score'] * 100)))\n",
        "\n",
        "print('KNN                 : {:.04}%      {:.04}%    {:.04}%'.format(KNN_Class_grid_results['accuracy'] * 100,\\\n",
        "                                                        100-(KNN_Class_grid_results['accuracy'] * 100,\\\n",
        "                                                  (KNN_Class_grid_results['f1_score'] * 100)))\n",
        "\n",
        "\n",
        "\n"
      ],
      "execution_count": null,
      "outputs": []
    }
  ]
}