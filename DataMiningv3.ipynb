{
  "nbformat": 4,
  "nbformat_minor": 0,
  "metadata": {
    "accelerator": "GPU",
    "colab": {
      "name": "DataMiningv3",
      "provenance": [],
      "collapsed_sections": [],
      "toc_visible": true,
      "authorship_tag": "ABX9TyP/4Ic99NKAnyQiWRSaN1wO",
      "include_colab_link": true
    },
    "kernelspec": {
      "display_name": "Python 3",
      "name": "python3"
    },
    "language_info": {
      "name": "python"
    }
  },
  "cells": [
    {
      "cell_type": "markdown",
      "metadata": {
        "id": "view-in-github",
        "colab_type": "text"
      },
      "source": [
        "<a href=\"https://colab.research.google.com/github/basakstuff/HAR-using-Smartphones/blob/main/DataMiningv3.ipynb\" target=\"_parent\"><img src=\"https://colab.research.google.com/assets/colab-badge.svg\" alt=\"Open In Colab\"/></a>"
      ]
    },
    {
      "cell_type": "markdown",
      "metadata": {
        "id": "a5gTtEfv8ZaS"
      },
      "source": [
        "**[Author ](https://github.com/basakstuff?tab=repositories): Başak ER**"
      ]
    },
    {
      "cell_type": "code",
      "metadata": {
        "colab": {
          "background_save": true,
          "base_uri": "https://localhost:8080/"
        },
        "id": "27Qr3wD502SA",
        "outputId": "75d35718-5fc3-4f81-aff1-a36b68fa82c1"
      },
      "source": [
        "from google.colab import drive\n",
        "drive.mount('/content/drive')"
      ],
      "execution_count": null,
      "outputs": [
        {
          "output_type": "stream",
          "text": [
            "Drive already mounted at /content/drive; to attempt to forcibly remount, call drive.mount(\"/content/drive\", force_remount=True).\n"
          ],
          "name": "stdout"
        }
      ]
    },
    {
      "cell_type": "code",
      "metadata": {
        "colab": {
          "base_uri": "https://localhost:8080/"
        },
        "id": "3xlCPtkS08Xh",
        "outputId": "d820d04c-9a12-4c6f-e059-36c132a392cd"
      },
      "source": [
        "cd /content/drive/MyDrive/Colab Notebooks/DataMining"
      ],
      "execution_count": null,
      "outputs": [
        {
          "output_type": "stream",
          "text": [
            "/content/drive/MyDrive/Colab Notebooks/DataMining\n"
          ],
          "name": "stdout"
        }
      ]
    },
    {
      "cell_type": "markdown",
      "metadata": {
        "id": "KoaAOPqE8YO5"
      },
      "source": [
        "# Importing Libraries and Dataset"
      ]
    },
    {
      "cell_type": "code",
      "metadata": {
        "colab": {
          "base_uri": "https://localhost:8080/",
          "height": 17
        },
        "id": "6C7sAM6T08aa",
        "outputId": "a9c75398-26e1-4737-9330-a279b2d8cf39"
      },
      "source": [
        "# To store data\n",
        "import pandas as pd\n",
        "\n",
        "# To do linear algebra\n",
        "import numpy as np\n",
        "from numpy import pi\n",
        "\n",
        "# To create plots\n",
        "from matplotlib.colors import rgb2hex\n",
        "from matplotlib.cm import get_cmap\n",
        "import matplotlib.pyplot as plt\n",
        "import itertools\n",
        "from mpl_toolkits.mplot3d import Axes3D\n",
        "from sklearn.utils import shuffle\n",
        "\n",
        "# To create nicer plots\n",
        "import seaborn as sns\n",
        "\n",
        "# To create interactive plots\n",
        "from plotly.offline import init_notebook_mode, iplot\n",
        "import plotly.graph_objs as go\n",
        "init_notebook_mode(connected=True)\n",
        "from mpl_toolkits.mplot3d import Axes3D\n",
        "from sklearn.utils import shuffle\n",
        "\n",
        "# To get new datatypes and functions\n",
        "from collections import Counter\n",
        "from cycler import cycler\n",
        "\n",
        "# To investigate distributions\n",
        "from scipy.stats import norm, skew, probplot\n",
        "from scipy.optimize import curve_fit\n",
        "\n",
        "# To build models\n",
        "from sklearn import metrics\n",
        "from sklearn.preprocessing import StandardScaler, LabelEncoder, MinMaxScaler\n",
        "from sklearn.model_selection import train_test_split\n",
        "from sklearn.metrics import accuracy_score\n",
        "from sklearn.metrics import f1_score\n",
        "from sklearn.decomposition import PCA\n",
        "from sklearn.manifold import TSNE\n",
        "from sklearn.discriminant_analysis import QuadraticDiscriminantAnalysis, LinearDiscriminantAnalysis\n",
        "from sklearn.naive_bayes import GaussianNB\n",
        "from sklearn.neighbors import KNeighborsClassifier\n",
        "from sklearn.svm import SVC\n",
        "from sklearn.pipeline import Pipeline\n",
        "import sklearn.neural_network as nn\n",
        "from sklearn.metrics import confusion_matrix,accuracy_score\n",
        "from sklearn.linear_model import LogisticRegression\n",
        "from sklearn.model_selection import KFold, GridSearchCV, StratifiedKFold,cross_val_score\n",
        "from sklearn.feature_selection import RFE\n",
        "from sklearn.ensemble import ExtraTreesClassifier,AdaBoostClassifier,RandomForestClassifier\n",
        "from sklearn.tree import DecisionTreeClassifier\n",
        "from sklearn import linear_model\n",
        "from sklearn.svm import LinearSVC\n",
        "\n",
        "\n",
        "# To gbm light\n",
        "from lightgbm import LGBMClassifier\n",
        "\n",
        "# To measure time\n",
        "import time\n",
        "\n",
        "#Neural Network\n",
        "from keras.models import Sequential\n",
        "from keras.layers import Dense, Dropout,Activation\n",
        "from keras.wrappers.scikit_learn import KerasClassifier\n",
        "from keras.utils.np_utils import to_categorical\n",
        "from keras.optimizers import SGD,Adam\n",
        "from keras.models import load_model\n",
        "\n",
        "#save model\n",
        "import joblib\n",
        "\n",
        "##\n",
        "## Save---> joblib.dump(dt_grid_results, 'dt_grid_results.best_estimator_.pkl')\n",
        "## Load--->joblib.load(\"dt_grid_results.best_estimator_.pkl\")"
      ],
      "execution_count": null,
      "outputs": [
        {
          "output_type": "display_data",
          "data": {
            "text/html": [
              "        <script type=\"text/javascript\">\n",
              "        window.PlotlyConfig = {MathJaxConfig: 'local'};\n",
              "        if (window.MathJax) {MathJax.Hub.Config({SVG: {font: \"STIX-Web\"}});}\n",
              "        if (typeof require !== 'undefined') {\n",
              "        require.undef(\"plotly\");\n",
              "        requirejs.config({\n",
              "            paths: {\n",
              "                'plotly': ['https://cdn.plot.ly/plotly-latest.min']\n",
              "            }\n",
              "        });\n",
              "        require(['plotly'], function(Plotly) {\n",
              "            window._Plotly = Plotly;\n",
              "        });\n",
              "        }\n",
              "        </script>\n",
              "        "
            ]
          },
          "metadata": {
            "tags": []
          }
        }
      ]
    },
    {
      "cell_type": "code",
      "metadata": {
        "colab": {
          "base_uri": "https://localhost:8080/"
        },
        "id": "hVg_Nuxt08dC",
        "outputId": "9acac2b3-2a49-4d2b-e494-e1f7dd4d8be9"
      },
      "source": [
        "# Load datasets\n",
        "train = pd.read_csv('train.csv')\n",
        "test = pd.read_csv('test.csv')\n",
        "\n",
        "# Combine boths dataframes\n",
        "train['Data'] = 'Train'\n",
        "test['Data'] = 'Test'\n",
        "both_df = pd.concat([train, test], axis=0).reset_index(drop=True)\n",
        "both_df['subject'] = '#' + both_df['subject'].astype(str)\n",
        "\n",
        "# Create label\n",
        "label = both_df.pop('Activity')\n",
        "\n",
        "print('Train:\\t{}'.format(train.shape))\n",
        "print('Test:\\t{}\\n'.format(test.shape))"
      ],
      "execution_count": null,
      "outputs": [
        {
          "output_type": "stream",
          "text": [
            "Train:\t(7352, 564)\n",
            "Test:\t(2947, 564)\n",
            "\n"
          ],
          "name": "stdout"
        }
      ]
    },
    {
      "cell_type": "markdown",
      "metadata": {
        "id": "PAlIyOAQm9CI"
      },
      "source": [
        "# Visualization"
      ]
    },
    {
      "cell_type": "code",
      "metadata": {
        "colab": {
          "base_uri": "https://localhost:8080/"
        },
        "id": "MLiANb-CVQoh",
        "outputId": "50a07393-eefb-4bdf-93aa-b6f1a4ecb6c6"
      },
      "source": [
        "train.head()"
      ],
      "execution_count": null,
      "outputs": [
        {
          "output_type": "execute_result",
          "data": {
            "text/html": [
              "<div>\n",
              "<style scoped>\n",
              "    .dataframe tbody tr th:only-of-type {\n",
              "        vertical-align: middle;\n",
              "    }\n",
              "\n",
              "    .dataframe tbody tr th {\n",
              "        vertical-align: top;\n",
              "    }\n",
              "\n",
              "    .dataframe thead th {\n",
              "        text-align: right;\n",
              "    }\n",
              "</style>\n",
              "<table border=\"1\" class=\"dataframe\">\n",
              "  <thead>\n",
              "    <tr style=\"text-align: right;\">\n",
              "      <th></th>\n",
              "      <th>tBodyAcc-mean()-X</th>\n",
              "      <th>tBodyAcc-mean()-Y</th>\n",
              "      <th>tBodyAcc-mean()-Z</th>\n",
              "      <th>tBodyAcc-std()-X</th>\n",
              "      <th>tBodyAcc-std()-Y</th>\n",
              "      <th>tBodyAcc-std()-Z</th>\n",
              "      <th>tBodyAcc-mad()-X</th>\n",
              "      <th>tBodyAcc-mad()-Y</th>\n",
              "      <th>tBodyAcc-mad()-Z</th>\n",
              "      <th>tBodyAcc-max()-X</th>\n",
              "      <th>tBodyAcc-max()-Y</th>\n",
              "      <th>tBodyAcc-max()-Z</th>\n",
              "      <th>tBodyAcc-min()-X</th>\n",
              "      <th>tBodyAcc-min()-Y</th>\n",
              "      <th>tBodyAcc-min()-Z</th>\n",
              "      <th>tBodyAcc-sma()</th>\n",
              "      <th>tBodyAcc-energy()-X</th>\n",
              "      <th>tBodyAcc-energy()-Y</th>\n",
              "      <th>tBodyAcc-energy()-Z</th>\n",
              "      <th>tBodyAcc-iqr()-X</th>\n",
              "      <th>tBodyAcc-iqr()-Y</th>\n",
              "      <th>tBodyAcc-iqr()-Z</th>\n",
              "      <th>tBodyAcc-entropy()-X</th>\n",
              "      <th>tBodyAcc-entropy()-Y</th>\n",
              "      <th>tBodyAcc-entropy()-Z</th>\n",
              "      <th>tBodyAcc-arCoeff()-X,1</th>\n",
              "      <th>tBodyAcc-arCoeff()-X,2</th>\n",
              "      <th>tBodyAcc-arCoeff()-X,3</th>\n",
              "      <th>tBodyAcc-arCoeff()-X,4</th>\n",
              "      <th>tBodyAcc-arCoeff()-Y,1</th>\n",
              "      <th>tBodyAcc-arCoeff()-Y,2</th>\n",
              "      <th>tBodyAcc-arCoeff()-Y,3</th>\n",
              "      <th>tBodyAcc-arCoeff()-Y,4</th>\n",
              "      <th>tBodyAcc-arCoeff()-Z,1</th>\n",
              "      <th>tBodyAcc-arCoeff()-Z,2</th>\n",
              "      <th>tBodyAcc-arCoeff()-Z,3</th>\n",
              "      <th>tBodyAcc-arCoeff()-Z,4</th>\n",
              "      <th>tBodyAcc-correlation()-X,Y</th>\n",
              "      <th>tBodyAcc-correlation()-X,Z</th>\n",
              "      <th>tBodyAcc-correlation()-Y,Z</th>\n",
              "      <th>...</th>\n",
              "      <th>fBodyBodyAccJerkMag-maxInds</th>\n",
              "      <th>fBodyBodyAccJerkMag-meanFreq()</th>\n",
              "      <th>fBodyBodyAccJerkMag-skewness()</th>\n",
              "      <th>fBodyBodyAccJerkMag-kurtosis()</th>\n",
              "      <th>fBodyBodyGyroMag-mean()</th>\n",
              "      <th>fBodyBodyGyroMag-std()</th>\n",
              "      <th>fBodyBodyGyroMag-mad()</th>\n",
              "      <th>fBodyBodyGyroMag-max()</th>\n",
              "      <th>fBodyBodyGyroMag-min()</th>\n",
              "      <th>fBodyBodyGyroMag-sma()</th>\n",
              "      <th>fBodyBodyGyroMag-energy()</th>\n",
              "      <th>fBodyBodyGyroMag-iqr()</th>\n",
              "      <th>fBodyBodyGyroMag-entropy()</th>\n",
              "      <th>fBodyBodyGyroMag-maxInds</th>\n",
              "      <th>fBodyBodyGyroMag-meanFreq()</th>\n",
              "      <th>fBodyBodyGyroMag-skewness()</th>\n",
              "      <th>fBodyBodyGyroMag-kurtosis()</th>\n",
              "      <th>fBodyBodyGyroJerkMag-mean()</th>\n",
              "      <th>fBodyBodyGyroJerkMag-std()</th>\n",
              "      <th>fBodyBodyGyroJerkMag-mad()</th>\n",
              "      <th>fBodyBodyGyroJerkMag-max()</th>\n",
              "      <th>fBodyBodyGyroJerkMag-min()</th>\n",
              "      <th>fBodyBodyGyroJerkMag-sma()</th>\n",
              "      <th>fBodyBodyGyroJerkMag-energy()</th>\n",
              "      <th>fBodyBodyGyroJerkMag-iqr()</th>\n",
              "      <th>fBodyBodyGyroJerkMag-entropy()</th>\n",
              "      <th>fBodyBodyGyroJerkMag-maxInds</th>\n",
              "      <th>fBodyBodyGyroJerkMag-meanFreq()</th>\n",
              "      <th>fBodyBodyGyroJerkMag-skewness()</th>\n",
              "      <th>fBodyBodyGyroJerkMag-kurtosis()</th>\n",
              "      <th>angle(tBodyAccMean,gravity)</th>\n",
              "      <th>angle(tBodyAccJerkMean),gravityMean)</th>\n",
              "      <th>angle(tBodyGyroMean,gravityMean)</th>\n",
              "      <th>angle(tBodyGyroJerkMean,gravityMean)</th>\n",
              "      <th>angle(X,gravityMean)</th>\n",
              "      <th>angle(Y,gravityMean)</th>\n",
              "      <th>angle(Z,gravityMean)</th>\n",
              "      <th>subject</th>\n",
              "      <th>Activity</th>\n",
              "      <th>Data</th>\n",
              "    </tr>\n",
              "  </thead>\n",
              "  <tbody>\n",
              "    <tr>\n",
              "      <th>0</th>\n",
              "      <td>0.288585</td>\n",
              "      <td>-0.020294</td>\n",
              "      <td>-0.132905</td>\n",
              "      <td>-0.995279</td>\n",
              "      <td>-0.983111</td>\n",
              "      <td>-0.913526</td>\n",
              "      <td>-0.995112</td>\n",
              "      <td>-0.983185</td>\n",
              "      <td>-0.923527</td>\n",
              "      <td>-0.934724</td>\n",
              "      <td>-0.567378</td>\n",
              "      <td>-0.744413</td>\n",
              "      <td>0.852947</td>\n",
              "      <td>0.685845</td>\n",
              "      <td>0.814263</td>\n",
              "      <td>-0.965523</td>\n",
              "      <td>-0.999945</td>\n",
              "      <td>-0.999863</td>\n",
              "      <td>-0.994612</td>\n",
              "      <td>-0.994231</td>\n",
              "      <td>-0.987614</td>\n",
              "      <td>-0.943220</td>\n",
              "      <td>-0.407747</td>\n",
              "      <td>-0.679338</td>\n",
              "      <td>-0.602122</td>\n",
              "      <td>0.929294</td>\n",
              "      <td>-0.853011</td>\n",
              "      <td>0.359910</td>\n",
              "      <td>-0.058526</td>\n",
              "      <td>0.256892</td>\n",
              "      <td>-0.224848</td>\n",
              "      <td>0.264106</td>\n",
              "      <td>-0.095246</td>\n",
              "      <td>0.278851</td>\n",
              "      <td>-0.465085</td>\n",
              "      <td>0.491936</td>\n",
              "      <td>-0.190884</td>\n",
              "      <td>0.376314</td>\n",
              "      <td>0.435129</td>\n",
              "      <td>0.660790</td>\n",
              "      <td>...</td>\n",
              "      <td>-0.936508</td>\n",
              "      <td>0.346989</td>\n",
              "      <td>-0.516080</td>\n",
              "      <td>-0.802760</td>\n",
              "      <td>-0.980135</td>\n",
              "      <td>-0.961309</td>\n",
              "      <td>-0.973653</td>\n",
              "      <td>-0.952264</td>\n",
              "      <td>-0.989498</td>\n",
              "      <td>-0.980135</td>\n",
              "      <td>-0.999240</td>\n",
              "      <td>-0.992656</td>\n",
              "      <td>-0.701291</td>\n",
              "      <td>-1.000000</td>\n",
              "      <td>-0.128989</td>\n",
              "      <td>0.586156</td>\n",
              "      <td>0.374605</td>\n",
              "      <td>-0.991990</td>\n",
              "      <td>-0.990697</td>\n",
              "      <td>-0.989941</td>\n",
              "      <td>-0.992448</td>\n",
              "      <td>-0.991048</td>\n",
              "      <td>-0.991990</td>\n",
              "      <td>-0.999937</td>\n",
              "      <td>-0.990458</td>\n",
              "      <td>-0.871306</td>\n",
              "      <td>-1.000000</td>\n",
              "      <td>-0.074323</td>\n",
              "      <td>-0.298676</td>\n",
              "      <td>-0.710304</td>\n",
              "      <td>-0.112754</td>\n",
              "      <td>0.030400</td>\n",
              "      <td>-0.464761</td>\n",
              "      <td>-0.018446</td>\n",
              "      <td>-0.841247</td>\n",
              "      <td>0.179941</td>\n",
              "      <td>-0.058627</td>\n",
              "      <td>1</td>\n",
              "      <td>STANDING</td>\n",
              "      <td>Train</td>\n",
              "    </tr>\n",
              "    <tr>\n",
              "      <th>1</th>\n",
              "      <td>0.278419</td>\n",
              "      <td>-0.016411</td>\n",
              "      <td>-0.123520</td>\n",
              "      <td>-0.998245</td>\n",
              "      <td>-0.975300</td>\n",
              "      <td>-0.960322</td>\n",
              "      <td>-0.998807</td>\n",
              "      <td>-0.974914</td>\n",
              "      <td>-0.957686</td>\n",
              "      <td>-0.943068</td>\n",
              "      <td>-0.557851</td>\n",
              "      <td>-0.818409</td>\n",
              "      <td>0.849308</td>\n",
              "      <td>0.685845</td>\n",
              "      <td>0.822637</td>\n",
              "      <td>-0.981930</td>\n",
              "      <td>-0.999991</td>\n",
              "      <td>-0.999788</td>\n",
              "      <td>-0.998405</td>\n",
              "      <td>-0.999150</td>\n",
              "      <td>-0.977866</td>\n",
              "      <td>-0.948225</td>\n",
              "      <td>-0.714892</td>\n",
              "      <td>-0.500930</td>\n",
              "      <td>-0.570979</td>\n",
              "      <td>0.611627</td>\n",
              "      <td>-0.329549</td>\n",
              "      <td>0.284213</td>\n",
              "      <td>0.284595</td>\n",
              "      <td>0.115705</td>\n",
              "      <td>-0.090963</td>\n",
              "      <td>0.294310</td>\n",
              "      <td>-0.281211</td>\n",
              "      <td>0.085988</td>\n",
              "      <td>-0.022153</td>\n",
              "      <td>-0.016657</td>\n",
              "      <td>-0.220643</td>\n",
              "      <td>-0.013429</td>\n",
              "      <td>-0.072692</td>\n",
              "      <td>0.579382</td>\n",
              "      <td>...</td>\n",
              "      <td>-0.841270</td>\n",
              "      <td>0.532061</td>\n",
              "      <td>-0.624871</td>\n",
              "      <td>-0.900160</td>\n",
              "      <td>-0.988296</td>\n",
              "      <td>-0.983322</td>\n",
              "      <td>-0.982659</td>\n",
              "      <td>-0.986321</td>\n",
              "      <td>-0.991829</td>\n",
              "      <td>-0.988296</td>\n",
              "      <td>-0.999811</td>\n",
              "      <td>-0.993979</td>\n",
              "      <td>-0.720683</td>\n",
              "      <td>-0.948718</td>\n",
              "      <td>-0.271958</td>\n",
              "      <td>-0.336310</td>\n",
              "      <td>-0.720015</td>\n",
              "      <td>-0.995854</td>\n",
              "      <td>-0.996399</td>\n",
              "      <td>-0.995442</td>\n",
              "      <td>-0.996866</td>\n",
              "      <td>-0.994440</td>\n",
              "      <td>-0.995854</td>\n",
              "      <td>-0.999981</td>\n",
              "      <td>-0.994544</td>\n",
              "      <td>-1.000000</td>\n",
              "      <td>-1.000000</td>\n",
              "      <td>0.158075</td>\n",
              "      <td>-0.595051</td>\n",
              "      <td>-0.861499</td>\n",
              "      <td>0.053477</td>\n",
              "      <td>-0.007435</td>\n",
              "      <td>-0.732626</td>\n",
              "      <td>0.703511</td>\n",
              "      <td>-0.844788</td>\n",
              "      <td>0.180289</td>\n",
              "      <td>-0.054317</td>\n",
              "      <td>1</td>\n",
              "      <td>STANDING</td>\n",
              "      <td>Train</td>\n",
              "    </tr>\n",
              "    <tr>\n",
              "      <th>2</th>\n",
              "      <td>0.279653</td>\n",
              "      <td>-0.019467</td>\n",
              "      <td>-0.113462</td>\n",
              "      <td>-0.995380</td>\n",
              "      <td>-0.967187</td>\n",
              "      <td>-0.978944</td>\n",
              "      <td>-0.996520</td>\n",
              "      <td>-0.963668</td>\n",
              "      <td>-0.977469</td>\n",
              "      <td>-0.938692</td>\n",
              "      <td>-0.557851</td>\n",
              "      <td>-0.818409</td>\n",
              "      <td>0.843609</td>\n",
              "      <td>0.682401</td>\n",
              "      <td>0.839344</td>\n",
              "      <td>-0.983478</td>\n",
              "      <td>-0.999969</td>\n",
              "      <td>-0.999660</td>\n",
              "      <td>-0.999470</td>\n",
              "      <td>-0.997130</td>\n",
              "      <td>-0.964810</td>\n",
              "      <td>-0.974675</td>\n",
              "      <td>-0.592235</td>\n",
              "      <td>-0.485821</td>\n",
              "      <td>-0.570979</td>\n",
              "      <td>0.273025</td>\n",
              "      <td>-0.086309</td>\n",
              "      <td>0.337202</td>\n",
              "      <td>-0.164739</td>\n",
              "      <td>0.017150</td>\n",
              "      <td>-0.074507</td>\n",
              "      <td>0.342256</td>\n",
              "      <td>-0.332564</td>\n",
              "      <td>0.239281</td>\n",
              "      <td>-0.136204</td>\n",
              "      <td>0.173863</td>\n",
              "      <td>-0.299493</td>\n",
              "      <td>-0.124698</td>\n",
              "      <td>-0.181105</td>\n",
              "      <td>0.608900</td>\n",
              "      <td>...</td>\n",
              "      <td>-0.904762</td>\n",
              "      <td>0.660795</td>\n",
              "      <td>-0.724697</td>\n",
              "      <td>-0.928539</td>\n",
              "      <td>-0.989255</td>\n",
              "      <td>-0.986028</td>\n",
              "      <td>-0.984274</td>\n",
              "      <td>-0.990979</td>\n",
              "      <td>-0.995703</td>\n",
              "      <td>-0.989255</td>\n",
              "      <td>-0.999854</td>\n",
              "      <td>-0.993238</td>\n",
              "      <td>-0.736521</td>\n",
              "      <td>-0.794872</td>\n",
              "      <td>-0.212728</td>\n",
              "      <td>-0.535352</td>\n",
              "      <td>-0.871914</td>\n",
              "      <td>-0.995031</td>\n",
              "      <td>-0.995127</td>\n",
              "      <td>-0.994640</td>\n",
              "      <td>-0.996060</td>\n",
              "      <td>-0.995866</td>\n",
              "      <td>-0.995031</td>\n",
              "      <td>-0.999973</td>\n",
              "      <td>-0.993755</td>\n",
              "      <td>-1.000000</td>\n",
              "      <td>-0.555556</td>\n",
              "      <td>0.414503</td>\n",
              "      <td>-0.390748</td>\n",
              "      <td>-0.760104</td>\n",
              "      <td>-0.118559</td>\n",
              "      <td>0.177899</td>\n",
              "      <td>0.100699</td>\n",
              "      <td>0.808529</td>\n",
              "      <td>-0.848933</td>\n",
              "      <td>0.180637</td>\n",
              "      <td>-0.049118</td>\n",
              "      <td>1</td>\n",
              "      <td>STANDING</td>\n",
              "      <td>Train</td>\n",
              "    </tr>\n",
              "    <tr>\n",
              "      <th>3</th>\n",
              "      <td>0.279174</td>\n",
              "      <td>-0.026201</td>\n",
              "      <td>-0.123283</td>\n",
              "      <td>-0.996091</td>\n",
              "      <td>-0.983403</td>\n",
              "      <td>-0.990675</td>\n",
              "      <td>-0.997099</td>\n",
              "      <td>-0.982750</td>\n",
              "      <td>-0.989302</td>\n",
              "      <td>-0.938692</td>\n",
              "      <td>-0.576159</td>\n",
              "      <td>-0.829711</td>\n",
              "      <td>0.843609</td>\n",
              "      <td>0.682401</td>\n",
              "      <td>0.837869</td>\n",
              "      <td>-0.986093</td>\n",
              "      <td>-0.999976</td>\n",
              "      <td>-0.999736</td>\n",
              "      <td>-0.999504</td>\n",
              "      <td>-0.997180</td>\n",
              "      <td>-0.983799</td>\n",
              "      <td>-0.986007</td>\n",
              "      <td>-0.627446</td>\n",
              "      <td>-0.850930</td>\n",
              "      <td>-0.911872</td>\n",
              "      <td>0.061436</td>\n",
              "      <td>0.074840</td>\n",
              "      <td>0.198204</td>\n",
              "      <td>-0.264307</td>\n",
              "      <td>0.072545</td>\n",
              "      <td>-0.155320</td>\n",
              "      <td>0.323154</td>\n",
              "      <td>-0.170813</td>\n",
              "      <td>0.294938</td>\n",
              "      <td>-0.306081</td>\n",
              "      <td>0.482148</td>\n",
              "      <td>-0.470129</td>\n",
              "      <td>-0.305693</td>\n",
              "      <td>-0.362654</td>\n",
              "      <td>0.507459</td>\n",
              "      <td>...</td>\n",
              "      <td>1.000000</td>\n",
              "      <td>0.678921</td>\n",
              "      <td>-0.701131</td>\n",
              "      <td>-0.909639</td>\n",
              "      <td>-0.989413</td>\n",
              "      <td>-0.987836</td>\n",
              "      <td>-0.986850</td>\n",
              "      <td>-0.986749</td>\n",
              "      <td>-0.996199</td>\n",
              "      <td>-0.989413</td>\n",
              "      <td>-0.999876</td>\n",
              "      <td>-0.989136</td>\n",
              "      <td>-0.720891</td>\n",
              "      <td>-1.000000</td>\n",
              "      <td>-0.035684</td>\n",
              "      <td>-0.230091</td>\n",
              "      <td>-0.511217</td>\n",
              "      <td>-0.995221</td>\n",
              "      <td>-0.995237</td>\n",
              "      <td>-0.995722</td>\n",
              "      <td>-0.995273</td>\n",
              "      <td>-0.995732</td>\n",
              "      <td>-0.995221</td>\n",
              "      <td>-0.999974</td>\n",
              "      <td>-0.995226</td>\n",
              "      <td>-0.955696</td>\n",
              "      <td>-0.936508</td>\n",
              "      <td>0.404573</td>\n",
              "      <td>-0.117290</td>\n",
              "      <td>-0.482845</td>\n",
              "      <td>-0.036788</td>\n",
              "      <td>-0.012892</td>\n",
              "      <td>0.640011</td>\n",
              "      <td>-0.485366</td>\n",
              "      <td>-0.848649</td>\n",
              "      <td>0.181935</td>\n",
              "      <td>-0.047663</td>\n",
              "      <td>1</td>\n",
              "      <td>STANDING</td>\n",
              "      <td>Train</td>\n",
              "    </tr>\n",
              "    <tr>\n",
              "      <th>4</th>\n",
              "      <td>0.276629</td>\n",
              "      <td>-0.016570</td>\n",
              "      <td>-0.115362</td>\n",
              "      <td>-0.998139</td>\n",
              "      <td>-0.980817</td>\n",
              "      <td>-0.990482</td>\n",
              "      <td>-0.998321</td>\n",
              "      <td>-0.979672</td>\n",
              "      <td>-0.990441</td>\n",
              "      <td>-0.942469</td>\n",
              "      <td>-0.569174</td>\n",
              "      <td>-0.824705</td>\n",
              "      <td>0.849095</td>\n",
              "      <td>0.683250</td>\n",
              "      <td>0.837869</td>\n",
              "      <td>-0.992653</td>\n",
              "      <td>-0.999991</td>\n",
              "      <td>-0.999856</td>\n",
              "      <td>-0.999757</td>\n",
              "      <td>-0.998004</td>\n",
              "      <td>-0.981232</td>\n",
              "      <td>-0.991325</td>\n",
              "      <td>-0.786553</td>\n",
              "      <td>-0.559477</td>\n",
              "      <td>-0.761434</td>\n",
              "      <td>0.313276</td>\n",
              "      <td>-0.131208</td>\n",
              "      <td>0.191161</td>\n",
              "      <td>0.086904</td>\n",
              "      <td>0.257615</td>\n",
              "      <td>-0.272505</td>\n",
              "      <td>0.434728</td>\n",
              "      <td>-0.315375</td>\n",
              "      <td>0.439744</td>\n",
              "      <td>-0.269069</td>\n",
              "      <td>0.179414</td>\n",
              "      <td>-0.088952</td>\n",
              "      <td>-0.155804</td>\n",
              "      <td>-0.189763</td>\n",
              "      <td>0.599213</td>\n",
              "      <td>...</td>\n",
              "      <td>-1.000000</td>\n",
              "      <td>0.559058</td>\n",
              "      <td>-0.528901</td>\n",
              "      <td>-0.858933</td>\n",
              "      <td>-0.991433</td>\n",
              "      <td>-0.989059</td>\n",
              "      <td>-0.987744</td>\n",
              "      <td>-0.991462</td>\n",
              "      <td>-0.998353</td>\n",
              "      <td>-0.991433</td>\n",
              "      <td>-0.999902</td>\n",
              "      <td>-0.989321</td>\n",
              "      <td>-0.763372</td>\n",
              "      <td>-0.897436</td>\n",
              "      <td>-0.273582</td>\n",
              "      <td>-0.510282</td>\n",
              "      <td>-0.830702</td>\n",
              "      <td>-0.995093</td>\n",
              "      <td>-0.995465</td>\n",
              "      <td>-0.995279</td>\n",
              "      <td>-0.995609</td>\n",
              "      <td>-0.997418</td>\n",
              "      <td>-0.995093</td>\n",
              "      <td>-0.999974</td>\n",
              "      <td>-0.995487</td>\n",
              "      <td>-1.000000</td>\n",
              "      <td>-0.936508</td>\n",
              "      <td>0.087753</td>\n",
              "      <td>-0.351471</td>\n",
              "      <td>-0.699205</td>\n",
              "      <td>0.123320</td>\n",
              "      <td>0.122542</td>\n",
              "      <td>0.693578</td>\n",
              "      <td>-0.615971</td>\n",
              "      <td>-0.847865</td>\n",
              "      <td>0.185151</td>\n",
              "      <td>-0.043892</td>\n",
              "      <td>1</td>\n",
              "      <td>STANDING</td>\n",
              "      <td>Train</td>\n",
              "    </tr>\n",
              "  </tbody>\n",
              "</table>\n",
              "<p>5 rows × 564 columns</p>\n",
              "</div>"
            ],
            "text/plain": [
              "   tBodyAcc-mean()-X  tBodyAcc-mean()-Y  ...  Activity   Data\n",
              "0           0.288585          -0.020294  ...  STANDING  Train\n",
              "1           0.278419          -0.016411  ...  STANDING  Train\n",
              "2           0.279653          -0.019467  ...  STANDING  Train\n",
              "3           0.279174          -0.026201  ...  STANDING  Train\n",
              "4           0.276629          -0.016570  ...  STANDING  Train\n",
              "\n",
              "[5 rows x 564 columns]"
            ]
          },
          "metadata": {
            "tags": []
          },
          "execution_count": 5
        }
      ]
    },
    {
      "cell_type": "code",
      "metadata": {
        "colab": {
          "base_uri": "https://localhost:8080/"
        },
        "id": "wju-O28rWSbZ",
        "outputId": "e324e58b-b6bd-4eea-a591-bd841cc68670"
      },
      "source": [
        "test.head()"
      ],
      "execution_count": null,
      "outputs": [
        {
          "output_type": "execute_result",
          "data": {
            "text/html": [
              "<div>\n",
              "<style scoped>\n",
              "    .dataframe tbody tr th:only-of-type {\n",
              "        vertical-align: middle;\n",
              "    }\n",
              "\n",
              "    .dataframe tbody tr th {\n",
              "        vertical-align: top;\n",
              "    }\n",
              "\n",
              "    .dataframe thead th {\n",
              "        text-align: right;\n",
              "    }\n",
              "</style>\n",
              "<table border=\"1\" class=\"dataframe\">\n",
              "  <thead>\n",
              "    <tr style=\"text-align: right;\">\n",
              "      <th></th>\n",
              "      <th>tBodyAcc-mean()-X</th>\n",
              "      <th>tBodyAcc-mean()-Y</th>\n",
              "      <th>tBodyAcc-mean()-Z</th>\n",
              "      <th>tBodyAcc-std()-X</th>\n",
              "      <th>tBodyAcc-std()-Y</th>\n",
              "      <th>tBodyAcc-std()-Z</th>\n",
              "      <th>tBodyAcc-mad()-X</th>\n",
              "      <th>tBodyAcc-mad()-Y</th>\n",
              "      <th>tBodyAcc-mad()-Z</th>\n",
              "      <th>tBodyAcc-max()-X</th>\n",
              "      <th>tBodyAcc-max()-Y</th>\n",
              "      <th>tBodyAcc-max()-Z</th>\n",
              "      <th>tBodyAcc-min()-X</th>\n",
              "      <th>tBodyAcc-min()-Y</th>\n",
              "      <th>tBodyAcc-min()-Z</th>\n",
              "      <th>tBodyAcc-sma()</th>\n",
              "      <th>tBodyAcc-energy()-X</th>\n",
              "      <th>tBodyAcc-energy()-Y</th>\n",
              "      <th>tBodyAcc-energy()-Z</th>\n",
              "      <th>tBodyAcc-iqr()-X</th>\n",
              "      <th>tBodyAcc-iqr()-Y</th>\n",
              "      <th>tBodyAcc-iqr()-Z</th>\n",
              "      <th>tBodyAcc-entropy()-X</th>\n",
              "      <th>tBodyAcc-entropy()-Y</th>\n",
              "      <th>tBodyAcc-entropy()-Z</th>\n",
              "      <th>tBodyAcc-arCoeff()-X,1</th>\n",
              "      <th>tBodyAcc-arCoeff()-X,2</th>\n",
              "      <th>tBodyAcc-arCoeff()-X,3</th>\n",
              "      <th>tBodyAcc-arCoeff()-X,4</th>\n",
              "      <th>tBodyAcc-arCoeff()-Y,1</th>\n",
              "      <th>tBodyAcc-arCoeff()-Y,2</th>\n",
              "      <th>tBodyAcc-arCoeff()-Y,3</th>\n",
              "      <th>tBodyAcc-arCoeff()-Y,4</th>\n",
              "      <th>tBodyAcc-arCoeff()-Z,1</th>\n",
              "      <th>tBodyAcc-arCoeff()-Z,2</th>\n",
              "      <th>tBodyAcc-arCoeff()-Z,3</th>\n",
              "      <th>tBodyAcc-arCoeff()-Z,4</th>\n",
              "      <th>tBodyAcc-correlation()-X,Y</th>\n",
              "      <th>tBodyAcc-correlation()-X,Z</th>\n",
              "      <th>tBodyAcc-correlation()-Y,Z</th>\n",
              "      <th>...</th>\n",
              "      <th>fBodyBodyAccJerkMag-maxInds</th>\n",
              "      <th>fBodyBodyAccJerkMag-meanFreq()</th>\n",
              "      <th>fBodyBodyAccJerkMag-skewness()</th>\n",
              "      <th>fBodyBodyAccJerkMag-kurtosis()</th>\n",
              "      <th>fBodyBodyGyroMag-mean()</th>\n",
              "      <th>fBodyBodyGyroMag-std()</th>\n",
              "      <th>fBodyBodyGyroMag-mad()</th>\n",
              "      <th>fBodyBodyGyroMag-max()</th>\n",
              "      <th>fBodyBodyGyroMag-min()</th>\n",
              "      <th>fBodyBodyGyroMag-sma()</th>\n",
              "      <th>fBodyBodyGyroMag-energy()</th>\n",
              "      <th>fBodyBodyGyroMag-iqr()</th>\n",
              "      <th>fBodyBodyGyroMag-entropy()</th>\n",
              "      <th>fBodyBodyGyroMag-maxInds</th>\n",
              "      <th>fBodyBodyGyroMag-meanFreq()</th>\n",
              "      <th>fBodyBodyGyroMag-skewness()</th>\n",
              "      <th>fBodyBodyGyroMag-kurtosis()</th>\n",
              "      <th>fBodyBodyGyroJerkMag-mean()</th>\n",
              "      <th>fBodyBodyGyroJerkMag-std()</th>\n",
              "      <th>fBodyBodyGyroJerkMag-mad()</th>\n",
              "      <th>fBodyBodyGyroJerkMag-max()</th>\n",
              "      <th>fBodyBodyGyroJerkMag-min()</th>\n",
              "      <th>fBodyBodyGyroJerkMag-sma()</th>\n",
              "      <th>fBodyBodyGyroJerkMag-energy()</th>\n",
              "      <th>fBodyBodyGyroJerkMag-iqr()</th>\n",
              "      <th>fBodyBodyGyroJerkMag-entropy()</th>\n",
              "      <th>fBodyBodyGyroJerkMag-maxInds</th>\n",
              "      <th>fBodyBodyGyroJerkMag-meanFreq()</th>\n",
              "      <th>fBodyBodyGyroJerkMag-skewness()</th>\n",
              "      <th>fBodyBodyGyroJerkMag-kurtosis()</th>\n",
              "      <th>angle(tBodyAccMean,gravity)</th>\n",
              "      <th>angle(tBodyAccJerkMean),gravityMean)</th>\n",
              "      <th>angle(tBodyGyroMean,gravityMean)</th>\n",
              "      <th>angle(tBodyGyroJerkMean,gravityMean)</th>\n",
              "      <th>angle(X,gravityMean)</th>\n",
              "      <th>angle(Y,gravityMean)</th>\n",
              "      <th>angle(Z,gravityMean)</th>\n",
              "      <th>subject</th>\n",
              "      <th>Activity</th>\n",
              "      <th>Data</th>\n",
              "    </tr>\n",
              "  </thead>\n",
              "  <tbody>\n",
              "    <tr>\n",
              "      <th>0</th>\n",
              "      <td>0.257178</td>\n",
              "      <td>-0.023285</td>\n",
              "      <td>-0.014654</td>\n",
              "      <td>-0.938404</td>\n",
              "      <td>-0.920091</td>\n",
              "      <td>-0.667683</td>\n",
              "      <td>-0.952501</td>\n",
              "      <td>-0.925249</td>\n",
              "      <td>-0.674302</td>\n",
              "      <td>-0.894088</td>\n",
              "      <td>-0.554577</td>\n",
              "      <td>-0.466223</td>\n",
              "      <td>0.717208</td>\n",
              "      <td>0.635502</td>\n",
              "      <td>0.789497</td>\n",
              "      <td>-0.877764</td>\n",
              "      <td>-0.997766</td>\n",
              "      <td>-0.998414</td>\n",
              "      <td>-0.934345</td>\n",
              "      <td>-0.975669</td>\n",
              "      <td>-0.949824</td>\n",
              "      <td>-0.830478</td>\n",
              "      <td>-0.168084</td>\n",
              "      <td>-0.378996</td>\n",
              "      <td>0.246217</td>\n",
              "      <td>0.521204</td>\n",
              "      <td>-0.487793</td>\n",
              "      <td>0.482280</td>\n",
              "      <td>-0.045462</td>\n",
              "      <td>0.211955</td>\n",
              "      <td>-0.134894</td>\n",
              "      <td>0.130858</td>\n",
              "      <td>-0.014176</td>\n",
              "      <td>-0.105971</td>\n",
              "      <td>0.073544</td>\n",
              "      <td>-0.171516</td>\n",
              "      <td>0.040063</td>\n",
              "      <td>0.076989</td>\n",
              "      <td>-0.490546</td>\n",
              "      <td>-0.709003</td>\n",
              "      <td>...</td>\n",
              "      <td>-1.000000</td>\n",
              "      <td>-0.035356</td>\n",
              "      <td>-0.254248</td>\n",
              "      <td>-0.700326</td>\n",
              "      <td>-0.770610</td>\n",
              "      <td>-0.797113</td>\n",
              "      <td>-0.764485</td>\n",
              "      <td>-0.820188</td>\n",
              "      <td>-0.937959</td>\n",
              "      <td>-0.770610</td>\n",
              "      <td>-0.970958</td>\n",
              "      <td>-0.798387</td>\n",
              "      <td>0.179435</td>\n",
              "      <td>-1.000000</td>\n",
              "      <td>-0.047391</td>\n",
              "      <td>-0.467849</td>\n",
              "      <td>-0.761326</td>\n",
              "      <td>-0.890165</td>\n",
              "      <td>-0.907308</td>\n",
              "      <td>-0.895301</td>\n",
              "      <td>-0.917883</td>\n",
              "      <td>-0.909829</td>\n",
              "      <td>-0.890165</td>\n",
              "      <td>-0.994105</td>\n",
              "      <td>-0.898022</td>\n",
              "      <td>-0.234815</td>\n",
              "      <td>-1.000000</td>\n",
              "      <td>0.071645</td>\n",
              "      <td>-0.330370</td>\n",
              "      <td>-0.705974</td>\n",
              "      <td>0.006462</td>\n",
              "      <td>0.162920</td>\n",
              "      <td>-0.825886</td>\n",
              "      <td>0.271151</td>\n",
              "      <td>-0.720009</td>\n",
              "      <td>0.276801</td>\n",
              "      <td>-0.057978</td>\n",
              "      <td>2</td>\n",
              "      <td>STANDING</td>\n",
              "      <td>Test</td>\n",
              "    </tr>\n",
              "    <tr>\n",
              "      <th>1</th>\n",
              "      <td>0.286027</td>\n",
              "      <td>-0.013163</td>\n",
              "      <td>-0.119083</td>\n",
              "      <td>-0.975415</td>\n",
              "      <td>-0.967458</td>\n",
              "      <td>-0.944958</td>\n",
              "      <td>-0.986799</td>\n",
              "      <td>-0.968401</td>\n",
              "      <td>-0.945823</td>\n",
              "      <td>-0.894088</td>\n",
              "      <td>-0.554577</td>\n",
              "      <td>-0.806013</td>\n",
              "      <td>0.768031</td>\n",
              "      <td>0.683698</td>\n",
              "      <td>0.796706</td>\n",
              "      <td>-0.969097</td>\n",
              "      <td>-0.999580</td>\n",
              "      <td>-0.999646</td>\n",
              "      <td>-0.997720</td>\n",
              "      <td>-0.994006</td>\n",
              "      <td>-0.973637</td>\n",
              "      <td>-0.950720</td>\n",
              "      <td>-0.302437</td>\n",
              "      <td>-0.348243</td>\n",
              "      <td>-0.404785</td>\n",
              "      <td>0.507492</td>\n",
              "      <td>-0.156495</td>\n",
              "      <td>0.040674</td>\n",
              "      <td>0.272991</td>\n",
              "      <td>0.197566</td>\n",
              "      <td>-0.194556</td>\n",
              "      <td>0.411411</td>\n",
              "      <td>-0.340466</td>\n",
              "      <td>0.077555</td>\n",
              "      <td>-0.084024</td>\n",
              "      <td>0.035305</td>\n",
              "      <td>-0.010083</td>\n",
              "      <td>-0.104983</td>\n",
              "      <td>-0.429134</td>\n",
              "      <td>0.399177</td>\n",
              "      <td>...</td>\n",
              "      <td>-1.000000</td>\n",
              "      <td>-0.491213</td>\n",
              "      <td>-0.215404</td>\n",
              "      <td>-0.666004</td>\n",
              "      <td>-0.924461</td>\n",
              "      <td>-0.916774</td>\n",
              "      <td>-0.919383</td>\n",
              "      <td>-0.917983</td>\n",
              "      <td>-0.991121</td>\n",
              "      <td>-0.924461</td>\n",
              "      <td>-0.995727</td>\n",
              "      <td>-0.933127</td>\n",
              "      <td>-0.218860</td>\n",
              "      <td>-1.000000</td>\n",
              "      <td>-0.031474</td>\n",
              "      <td>-0.090655</td>\n",
              "      <td>-0.461801</td>\n",
              "      <td>-0.951977</td>\n",
              "      <td>-0.938212</td>\n",
              "      <td>-0.938008</td>\n",
              "      <td>-0.949922</td>\n",
              "      <td>-0.986902</td>\n",
              "      <td>-0.951977</td>\n",
              "      <td>-0.998272</td>\n",
              "      <td>-0.951255</td>\n",
              "      <td>-0.431053</td>\n",
              "      <td>-1.000000</td>\n",
              "      <td>-0.401189</td>\n",
              "      <td>-0.121845</td>\n",
              "      <td>-0.594944</td>\n",
              "      <td>-0.083495</td>\n",
              "      <td>0.017500</td>\n",
              "      <td>-0.434375</td>\n",
              "      <td>0.920593</td>\n",
              "      <td>-0.698091</td>\n",
              "      <td>0.281343</td>\n",
              "      <td>-0.083898</td>\n",
              "      <td>2</td>\n",
              "      <td>STANDING</td>\n",
              "      <td>Test</td>\n",
              "    </tr>\n",
              "    <tr>\n",
              "      <th>2</th>\n",
              "      <td>0.275485</td>\n",
              "      <td>-0.026050</td>\n",
              "      <td>-0.118152</td>\n",
              "      <td>-0.993819</td>\n",
              "      <td>-0.969926</td>\n",
              "      <td>-0.962748</td>\n",
              "      <td>-0.994403</td>\n",
              "      <td>-0.970735</td>\n",
              "      <td>-0.963483</td>\n",
              "      <td>-0.939260</td>\n",
              "      <td>-0.568512</td>\n",
              "      <td>-0.799116</td>\n",
              "      <td>0.848305</td>\n",
              "      <td>0.667864</td>\n",
              "      <td>0.822442</td>\n",
              "      <td>-0.976782</td>\n",
              "      <td>-0.999954</td>\n",
              "      <td>-0.999570</td>\n",
              "      <td>-0.998720</td>\n",
              "      <td>-0.993456</td>\n",
              "      <td>-0.974266</td>\n",
              "      <td>-0.964976</td>\n",
              "      <td>-0.617916</td>\n",
              "      <td>-0.695490</td>\n",
              "      <td>-0.536693</td>\n",
              "      <td>0.242147</td>\n",
              "      <td>-0.114997</td>\n",
              "      <td>0.032703</td>\n",
              "      <td>0.192385</td>\n",
              "      <td>-0.011945</td>\n",
              "      <td>-0.063363</td>\n",
              "      <td>0.470819</td>\n",
              "      <td>-0.507395</td>\n",
              "      <td>0.188536</td>\n",
              "      <td>-0.231575</td>\n",
              "      <td>0.632120</td>\n",
              "      <td>-0.550708</td>\n",
              "      <td>0.305653</td>\n",
              "      <td>-0.323848</td>\n",
              "      <td>0.279786</td>\n",
              "      <td>...</td>\n",
              "      <td>-1.000000</td>\n",
              "      <td>0.140729</td>\n",
              "      <td>-0.206062</td>\n",
              "      <td>-0.639809</td>\n",
              "      <td>-0.975209</td>\n",
              "      <td>-0.973998</td>\n",
              "      <td>-0.967097</td>\n",
              "      <td>-0.982849</td>\n",
              "      <td>-0.997663</td>\n",
              "      <td>-0.975209</td>\n",
              "      <td>-0.999504</td>\n",
              "      <td>-0.968260</td>\n",
              "      <td>-0.561266</td>\n",
              "      <td>-0.897436</td>\n",
              "      <td>-0.168805</td>\n",
              "      <td>-0.662317</td>\n",
              "      <td>-0.925364</td>\n",
              "      <td>-0.985689</td>\n",
              "      <td>-0.983273</td>\n",
              "      <td>-0.983422</td>\n",
              "      <td>-0.986857</td>\n",
              "      <td>-0.989609</td>\n",
              "      <td>-0.985689</td>\n",
              "      <td>-0.999831</td>\n",
              "      <td>-0.986148</td>\n",
              "      <td>-0.809976</td>\n",
              "      <td>-0.936508</td>\n",
              "      <td>0.062891</td>\n",
              "      <td>-0.190422</td>\n",
              "      <td>-0.640736</td>\n",
              "      <td>-0.034956</td>\n",
              "      <td>0.202302</td>\n",
              "      <td>0.064103</td>\n",
              "      <td>0.145068</td>\n",
              "      <td>-0.702771</td>\n",
              "      <td>0.280083</td>\n",
              "      <td>-0.079346</td>\n",
              "      <td>2</td>\n",
              "      <td>STANDING</td>\n",
              "      <td>Test</td>\n",
              "    </tr>\n",
              "    <tr>\n",
              "      <th>3</th>\n",
              "      <td>0.270298</td>\n",
              "      <td>-0.032614</td>\n",
              "      <td>-0.117520</td>\n",
              "      <td>-0.994743</td>\n",
              "      <td>-0.973268</td>\n",
              "      <td>-0.967091</td>\n",
              "      <td>-0.995274</td>\n",
              "      <td>-0.974471</td>\n",
              "      <td>-0.968897</td>\n",
              "      <td>-0.938610</td>\n",
              "      <td>-0.568512</td>\n",
              "      <td>-0.799116</td>\n",
              "      <td>0.848305</td>\n",
              "      <td>0.667864</td>\n",
              "      <td>0.822442</td>\n",
              "      <td>-0.974418</td>\n",
              "      <td>-0.999953</td>\n",
              "      <td>-0.999330</td>\n",
              "      <td>-0.998933</td>\n",
              "      <td>-0.995236</td>\n",
              "      <td>-0.978739</td>\n",
              "      <td>-0.969982</td>\n",
              "      <td>-0.749578</td>\n",
              "      <td>-0.899226</td>\n",
              "      <td>-0.553813</td>\n",
              "      <td>0.174684</td>\n",
              "      <td>-0.051332</td>\n",
              "      <td>0.034200</td>\n",
              "      <td>0.153639</td>\n",
              "      <td>0.030767</td>\n",
              "      <td>-0.129277</td>\n",
              "      <td>0.446100</td>\n",
              "      <td>-0.419496</td>\n",
              "      <td>0.271493</td>\n",
              "      <td>-0.225769</td>\n",
              "      <td>0.416376</td>\n",
              "      <td>-0.286445</td>\n",
              "      <td>-0.063792</td>\n",
              "      <td>-0.167111</td>\n",
              "      <td>0.544916</td>\n",
              "      <td>...</td>\n",
              "      <td>-0.968254</td>\n",
              "      <td>0.148649</td>\n",
              "      <td>-0.619905</td>\n",
              "      <td>-0.887178</td>\n",
              "      <td>-0.976297</td>\n",
              "      <td>-0.971248</td>\n",
              "      <td>-0.966029</td>\n",
              "      <td>-0.974878</td>\n",
              "      <td>-0.996129</td>\n",
              "      <td>-0.976297</td>\n",
              "      <td>-0.999458</td>\n",
              "      <td>-0.975174</td>\n",
              "      <td>-0.566733</td>\n",
              "      <td>-0.948718</td>\n",
              "      <td>-0.285636</td>\n",
              "      <td>-0.446478</td>\n",
              "      <td>-0.756855</td>\n",
              "      <td>-0.985562</td>\n",
              "      <td>-0.985843</td>\n",
              "      <td>-0.984217</td>\n",
              "      <td>-0.988566</td>\n",
              "      <td>-0.992021</td>\n",
              "      <td>-0.985562</td>\n",
              "      <td>-0.999850</td>\n",
              "      <td>-0.984015</td>\n",
              "      <td>-0.849081</td>\n",
              "      <td>-0.936508</td>\n",
              "      <td>0.116695</td>\n",
              "      <td>-0.344418</td>\n",
              "      <td>-0.736124</td>\n",
              "      <td>-0.017067</td>\n",
              "      <td>0.154438</td>\n",
              "      <td>0.340134</td>\n",
              "      <td>0.296407</td>\n",
              "      <td>-0.698954</td>\n",
              "      <td>0.284114</td>\n",
              "      <td>-0.077108</td>\n",
              "      <td>2</td>\n",
              "      <td>STANDING</td>\n",
              "      <td>Test</td>\n",
              "    </tr>\n",
              "    <tr>\n",
              "      <th>4</th>\n",
              "      <td>0.274833</td>\n",
              "      <td>-0.027848</td>\n",
              "      <td>-0.129527</td>\n",
              "      <td>-0.993852</td>\n",
              "      <td>-0.967445</td>\n",
              "      <td>-0.978295</td>\n",
              "      <td>-0.994111</td>\n",
              "      <td>-0.965953</td>\n",
              "      <td>-0.977346</td>\n",
              "      <td>-0.938610</td>\n",
              "      <td>-0.560831</td>\n",
              "      <td>-0.825894</td>\n",
              "      <td>0.849179</td>\n",
              "      <td>0.670700</td>\n",
              "      <td>0.829897</td>\n",
              "      <td>-0.975283</td>\n",
              "      <td>-0.999954</td>\n",
              "      <td>-0.999467</td>\n",
              "      <td>-0.998823</td>\n",
              "      <td>-0.993498</td>\n",
              "      <td>-0.967032</td>\n",
              "      <td>-0.976257</td>\n",
              "      <td>-0.590576</td>\n",
              "      <td>-0.740206</td>\n",
              "      <td>-0.799419</td>\n",
              "      <td>0.115570</td>\n",
              "      <td>-0.028923</td>\n",
              "      <td>-0.032804</td>\n",
              "      <td>0.294340</td>\n",
              "      <td>0.000630</td>\n",
              "      <td>-0.045272</td>\n",
              "      <td>0.168419</td>\n",
              "      <td>-0.068156</td>\n",
              "      <td>0.074384</td>\n",
              "      <td>0.027138</td>\n",
              "      <td>-0.145931</td>\n",
              "      <td>-0.050197</td>\n",
              "      <td>0.235151</td>\n",
              "      <td>0.290487</td>\n",
              "      <td>0.457718</td>\n",
              "      <td>...</td>\n",
              "      <td>-0.809524</td>\n",
              "      <td>0.422249</td>\n",
              "      <td>-0.543096</td>\n",
              "      <td>-0.831313</td>\n",
              "      <td>-0.977007</td>\n",
              "      <td>-0.969619</td>\n",
              "      <td>-0.968915</td>\n",
              "      <td>-0.973746</td>\n",
              "      <td>-0.996970</td>\n",
              "      <td>-0.977007</td>\n",
              "      <td>-0.999429</td>\n",
              "      <td>-0.976111</td>\n",
              "      <td>-0.555564</td>\n",
              "      <td>-1.000000</td>\n",
              "      <td>-0.349061</td>\n",
              "      <td>-0.319763</td>\n",
              "      <td>-0.691739</td>\n",
              "      <td>-0.990498</td>\n",
              "      <td>-0.990572</td>\n",
              "      <td>-0.988406</td>\n",
              "      <td>-0.992653</td>\n",
              "      <td>-0.992505</td>\n",
              "      <td>-0.990498</td>\n",
              "      <td>-0.999925</td>\n",
              "      <td>-0.986376</td>\n",
              "      <td>-0.895847</td>\n",
              "      <td>-0.936508</td>\n",
              "      <td>-0.121711</td>\n",
              "      <td>-0.534685</td>\n",
              "      <td>-0.846595</td>\n",
              "      <td>-0.002223</td>\n",
              "      <td>-0.040046</td>\n",
              "      <td>0.736715</td>\n",
              "      <td>-0.118545</td>\n",
              "      <td>-0.692245</td>\n",
              "      <td>0.290722</td>\n",
              "      <td>-0.073857</td>\n",
              "      <td>2</td>\n",
              "      <td>STANDING</td>\n",
              "      <td>Test</td>\n",
              "    </tr>\n",
              "  </tbody>\n",
              "</table>\n",
              "<p>5 rows × 564 columns</p>\n",
              "</div>"
            ],
            "text/plain": [
              "   tBodyAcc-mean()-X  tBodyAcc-mean()-Y  ...  Activity  Data\n",
              "0           0.257178          -0.023285  ...  STANDING  Test\n",
              "1           0.286027          -0.013163  ...  STANDING  Test\n",
              "2           0.275485          -0.026050  ...  STANDING  Test\n",
              "3           0.270298          -0.032614  ...  STANDING  Test\n",
              "4           0.274833          -0.027848  ...  STANDING  Test\n",
              "\n",
              "[5 rows x 564 columns]"
            ]
          },
          "metadata": {
            "tags": []
          },
          "execution_count": 6
        }
      ]
    },
    {
      "cell_type": "code",
      "metadata": {
        "colab": {
          "base_uri": "https://localhost:8080/"
        },
        "id": "--K9fhmfWSeT",
        "outputId": "0b135f88-0c1d-4ef4-b904-37a46966f5b8"
      },
      "source": [
        "# Group and count main names of columns\n",
        "pd.DataFrame.from_dict(Counter([col.split('-')[0].split('(')[0] for col in both_df.columns]), orient='index').rename(columns={0:'count'}).sort_values('count', ascending=False)"
      ],
      "execution_count": null,
      "outputs": [
        {
          "output_type": "execute_result",
          "data": {
            "text/html": [
              "<div>\n",
              "<style scoped>\n",
              "    .dataframe tbody tr th:only-of-type {\n",
              "        vertical-align: middle;\n",
              "    }\n",
              "\n",
              "    .dataframe tbody tr th {\n",
              "        vertical-align: top;\n",
              "    }\n",
              "\n",
              "    .dataframe thead th {\n",
              "        text-align: right;\n",
              "    }\n",
              "</style>\n",
              "<table border=\"1\" class=\"dataframe\">\n",
              "  <thead>\n",
              "    <tr style=\"text-align: right;\">\n",
              "      <th></th>\n",
              "      <th>count</th>\n",
              "    </tr>\n",
              "  </thead>\n",
              "  <tbody>\n",
              "    <tr>\n",
              "      <th>fBodyAcc</th>\n",
              "      <td>79</td>\n",
              "    </tr>\n",
              "    <tr>\n",
              "      <th>fBodyGyro</th>\n",
              "      <td>79</td>\n",
              "    </tr>\n",
              "    <tr>\n",
              "      <th>fBodyAccJerk</th>\n",
              "      <td>79</td>\n",
              "    </tr>\n",
              "    <tr>\n",
              "      <th>tGravityAcc</th>\n",
              "      <td>40</td>\n",
              "    </tr>\n",
              "    <tr>\n",
              "      <th>tBodyAcc</th>\n",
              "      <td>40</td>\n",
              "    </tr>\n",
              "    <tr>\n",
              "      <th>tBodyGyroJerk</th>\n",
              "      <td>40</td>\n",
              "    </tr>\n",
              "    <tr>\n",
              "      <th>tBodyGyro</th>\n",
              "      <td>40</td>\n",
              "    </tr>\n",
              "    <tr>\n",
              "      <th>tBodyAccJerk</th>\n",
              "      <td>40</td>\n",
              "    </tr>\n",
              "    <tr>\n",
              "      <th>tBodyAccMag</th>\n",
              "      <td>13</td>\n",
              "    </tr>\n",
              "    <tr>\n",
              "      <th>tGravityAccMag</th>\n",
              "      <td>13</td>\n",
              "    </tr>\n",
              "    <tr>\n",
              "      <th>tBodyAccJerkMag</th>\n",
              "      <td>13</td>\n",
              "    </tr>\n",
              "    <tr>\n",
              "      <th>tBodyGyroMag</th>\n",
              "      <td>13</td>\n",
              "    </tr>\n",
              "    <tr>\n",
              "      <th>tBodyGyroJerkMag</th>\n",
              "      <td>13</td>\n",
              "    </tr>\n",
              "    <tr>\n",
              "      <th>fBodyAccMag</th>\n",
              "      <td>13</td>\n",
              "    </tr>\n",
              "    <tr>\n",
              "      <th>fBodyBodyAccJerkMag</th>\n",
              "      <td>13</td>\n",
              "    </tr>\n",
              "    <tr>\n",
              "      <th>fBodyBodyGyroMag</th>\n",
              "      <td>13</td>\n",
              "    </tr>\n",
              "    <tr>\n",
              "      <th>fBodyBodyGyroJerkMag</th>\n",
              "      <td>13</td>\n",
              "    </tr>\n",
              "    <tr>\n",
              "      <th>angle</th>\n",
              "      <td>7</td>\n",
              "    </tr>\n",
              "    <tr>\n",
              "      <th>subject</th>\n",
              "      <td>1</td>\n",
              "    </tr>\n",
              "    <tr>\n",
              "      <th>Data</th>\n",
              "      <td>1</td>\n",
              "    </tr>\n",
              "  </tbody>\n",
              "</table>\n",
              "</div>"
            ],
            "text/plain": [
              "                      count\n",
              "fBodyAcc                 79\n",
              "fBodyGyro                79\n",
              "fBodyAccJerk             79\n",
              "tGravityAcc              40\n",
              "tBodyAcc                 40\n",
              "tBodyGyroJerk            40\n",
              "tBodyGyro                40\n",
              "tBodyAccJerk             40\n",
              "tBodyAccMag              13\n",
              "tGravityAccMag           13\n",
              "tBodyAccJerkMag          13\n",
              "tBodyGyroMag             13\n",
              "tBodyGyroJerkMag         13\n",
              "fBodyAccMag              13\n",
              "fBodyBodyAccJerkMag      13\n",
              "fBodyBodyGyroMag         13\n",
              "fBodyBodyGyroJerkMag     13\n",
              "angle                     7\n",
              "subject                   1\n",
              "Data                      1"
            ]
          },
          "metadata": {
            "tags": []
          },
          "execution_count": 7
        }
      ]
    },
    {
      "cell_type": "code",
      "metadata": {
        "colab": {
          "base_uri": "https://localhost:8080/"
        },
        "id": "G3NncUqGWShP",
        "outputId": "b1f1a98c-e486-4a18-a863-4e9802f1b9f5"
      },
      "source": [
        "# Get null values and dataframe information\n",
        "print('Null Values In DataFrame: {}\\n'.format(both_df.isna().sum().sum()))\n",
        "both_df.info()"
      ],
      "execution_count": null,
      "outputs": [
        {
          "output_type": "stream",
          "text": [
            "Null Values In DataFrame: 0\n",
            "\n",
            "<class 'pandas.core.frame.DataFrame'>\n",
            "RangeIndex: 10299 entries, 0 to 10298\n",
            "Columns: 563 entries, tBodyAcc-mean()-X to Data\n",
            "dtypes: float64(561), object(2)\n",
            "memory usage: 44.2+ MB\n"
          ],
          "name": "stdout"
        }
      ]
    },
    {
      "cell_type": "code",
      "metadata": {
        "colab": {
          "base_uri": "https://localhost:8080/"
        },
        "id": "1VREEoVNWSjy",
        "outputId": "de0ff5a4-0311-48f5-fcc3-c04d7ce23d84"
      },
      "source": [
        "train.describe()  #we see that the min = -1 and the max = +1. so no need for scaling"
      ],
      "execution_count": null,
      "outputs": [
        {
          "output_type": "execute_result",
          "data": {
            "text/html": [
              "<div>\n",
              "<style scoped>\n",
              "    .dataframe tbody tr th:only-of-type {\n",
              "        vertical-align: middle;\n",
              "    }\n",
              "\n",
              "    .dataframe tbody tr th {\n",
              "        vertical-align: top;\n",
              "    }\n",
              "\n",
              "    .dataframe thead th {\n",
              "        text-align: right;\n",
              "    }\n",
              "</style>\n",
              "<table border=\"1\" class=\"dataframe\">\n",
              "  <thead>\n",
              "    <tr style=\"text-align: right;\">\n",
              "      <th></th>\n",
              "      <th>tBodyAcc-mean()-X</th>\n",
              "      <th>tBodyAcc-mean()-Y</th>\n",
              "      <th>tBodyAcc-mean()-Z</th>\n",
              "      <th>tBodyAcc-std()-X</th>\n",
              "      <th>tBodyAcc-std()-Y</th>\n",
              "      <th>tBodyAcc-std()-Z</th>\n",
              "      <th>tBodyAcc-mad()-X</th>\n",
              "      <th>tBodyAcc-mad()-Y</th>\n",
              "      <th>tBodyAcc-mad()-Z</th>\n",
              "      <th>tBodyAcc-max()-X</th>\n",
              "      <th>tBodyAcc-max()-Y</th>\n",
              "      <th>tBodyAcc-max()-Z</th>\n",
              "      <th>tBodyAcc-min()-X</th>\n",
              "      <th>tBodyAcc-min()-Y</th>\n",
              "      <th>tBodyAcc-min()-Z</th>\n",
              "      <th>tBodyAcc-sma()</th>\n",
              "      <th>tBodyAcc-energy()-X</th>\n",
              "      <th>tBodyAcc-energy()-Y</th>\n",
              "      <th>tBodyAcc-energy()-Z</th>\n",
              "      <th>tBodyAcc-iqr()-X</th>\n",
              "      <th>tBodyAcc-iqr()-Y</th>\n",
              "      <th>tBodyAcc-iqr()-Z</th>\n",
              "      <th>tBodyAcc-entropy()-X</th>\n",
              "      <th>tBodyAcc-entropy()-Y</th>\n",
              "      <th>tBodyAcc-entropy()-Z</th>\n",
              "      <th>tBodyAcc-arCoeff()-X,1</th>\n",
              "      <th>tBodyAcc-arCoeff()-X,2</th>\n",
              "      <th>tBodyAcc-arCoeff()-X,3</th>\n",
              "      <th>tBodyAcc-arCoeff()-X,4</th>\n",
              "      <th>tBodyAcc-arCoeff()-Y,1</th>\n",
              "      <th>tBodyAcc-arCoeff()-Y,2</th>\n",
              "      <th>tBodyAcc-arCoeff()-Y,3</th>\n",
              "      <th>tBodyAcc-arCoeff()-Y,4</th>\n",
              "      <th>tBodyAcc-arCoeff()-Z,1</th>\n",
              "      <th>tBodyAcc-arCoeff()-Z,2</th>\n",
              "      <th>tBodyAcc-arCoeff()-Z,3</th>\n",
              "      <th>tBodyAcc-arCoeff()-Z,4</th>\n",
              "      <th>tBodyAcc-correlation()-X,Y</th>\n",
              "      <th>tBodyAcc-correlation()-X,Z</th>\n",
              "      <th>tBodyAcc-correlation()-Y,Z</th>\n",
              "      <th>...</th>\n",
              "      <th>fBodyBodyAccJerkMag-iqr()</th>\n",
              "      <th>fBodyBodyAccJerkMag-entropy()</th>\n",
              "      <th>fBodyBodyAccJerkMag-maxInds</th>\n",
              "      <th>fBodyBodyAccJerkMag-meanFreq()</th>\n",
              "      <th>fBodyBodyAccJerkMag-skewness()</th>\n",
              "      <th>fBodyBodyAccJerkMag-kurtosis()</th>\n",
              "      <th>fBodyBodyGyroMag-mean()</th>\n",
              "      <th>fBodyBodyGyroMag-std()</th>\n",
              "      <th>fBodyBodyGyroMag-mad()</th>\n",
              "      <th>fBodyBodyGyroMag-max()</th>\n",
              "      <th>fBodyBodyGyroMag-min()</th>\n",
              "      <th>fBodyBodyGyroMag-sma()</th>\n",
              "      <th>fBodyBodyGyroMag-energy()</th>\n",
              "      <th>fBodyBodyGyroMag-iqr()</th>\n",
              "      <th>fBodyBodyGyroMag-entropy()</th>\n",
              "      <th>fBodyBodyGyroMag-maxInds</th>\n",
              "      <th>fBodyBodyGyroMag-meanFreq()</th>\n",
              "      <th>fBodyBodyGyroMag-skewness()</th>\n",
              "      <th>fBodyBodyGyroMag-kurtosis()</th>\n",
              "      <th>fBodyBodyGyroJerkMag-mean()</th>\n",
              "      <th>fBodyBodyGyroJerkMag-std()</th>\n",
              "      <th>fBodyBodyGyroJerkMag-mad()</th>\n",
              "      <th>fBodyBodyGyroJerkMag-max()</th>\n",
              "      <th>fBodyBodyGyroJerkMag-min()</th>\n",
              "      <th>fBodyBodyGyroJerkMag-sma()</th>\n",
              "      <th>fBodyBodyGyroJerkMag-energy()</th>\n",
              "      <th>fBodyBodyGyroJerkMag-iqr()</th>\n",
              "      <th>fBodyBodyGyroJerkMag-entropy()</th>\n",
              "      <th>fBodyBodyGyroJerkMag-maxInds</th>\n",
              "      <th>fBodyBodyGyroJerkMag-meanFreq()</th>\n",
              "      <th>fBodyBodyGyroJerkMag-skewness()</th>\n",
              "      <th>fBodyBodyGyroJerkMag-kurtosis()</th>\n",
              "      <th>angle(tBodyAccMean,gravity)</th>\n",
              "      <th>angle(tBodyAccJerkMean),gravityMean)</th>\n",
              "      <th>angle(tBodyGyroMean,gravityMean)</th>\n",
              "      <th>angle(tBodyGyroJerkMean,gravityMean)</th>\n",
              "      <th>angle(X,gravityMean)</th>\n",
              "      <th>angle(Y,gravityMean)</th>\n",
              "      <th>angle(Z,gravityMean)</th>\n",
              "      <th>subject</th>\n",
              "    </tr>\n",
              "  </thead>\n",
              "  <tbody>\n",
              "    <tr>\n",
              "      <th>count</th>\n",
              "      <td>7352.000000</td>\n",
              "      <td>7352.000000</td>\n",
              "      <td>7352.000000</td>\n",
              "      <td>7352.000000</td>\n",
              "      <td>7352.000000</td>\n",
              "      <td>7352.000000</td>\n",
              "      <td>7352.000000</td>\n",
              "      <td>7352.000000</td>\n",
              "      <td>7352.000000</td>\n",
              "      <td>7352.000000</td>\n",
              "      <td>7352.000000</td>\n",
              "      <td>7352.000000</td>\n",
              "      <td>7352.000000</td>\n",
              "      <td>7352.000000</td>\n",
              "      <td>7352.000000</td>\n",
              "      <td>7352.000000</td>\n",
              "      <td>7352.000000</td>\n",
              "      <td>7352.000000</td>\n",
              "      <td>7352.000000</td>\n",
              "      <td>7352.000000</td>\n",
              "      <td>7352.000000</td>\n",
              "      <td>7352.000000</td>\n",
              "      <td>7352.000000</td>\n",
              "      <td>7352.000000</td>\n",
              "      <td>7352.000000</td>\n",
              "      <td>7352.000000</td>\n",
              "      <td>7352.000000</td>\n",
              "      <td>7352.000000</td>\n",
              "      <td>7352.000000</td>\n",
              "      <td>7352.000000</td>\n",
              "      <td>7352.000000</td>\n",
              "      <td>7352.000000</td>\n",
              "      <td>7352.000000</td>\n",
              "      <td>7352.000000</td>\n",
              "      <td>7352.000000</td>\n",
              "      <td>7352.000000</td>\n",
              "      <td>7352.000000</td>\n",
              "      <td>7352.000000</td>\n",
              "      <td>7352.000000</td>\n",
              "      <td>7352.000000</td>\n",
              "      <td>...</td>\n",
              "      <td>7352.000000</td>\n",
              "      <td>7352.000000</td>\n",
              "      <td>7352.000000</td>\n",
              "      <td>7352.000000</td>\n",
              "      <td>7352.000000</td>\n",
              "      <td>7352.000000</td>\n",
              "      <td>7352.000000</td>\n",
              "      <td>7352.000000</td>\n",
              "      <td>7352.000000</td>\n",
              "      <td>7352.000000</td>\n",
              "      <td>7352.000000</td>\n",
              "      <td>7352.000000</td>\n",
              "      <td>7352.000000</td>\n",
              "      <td>7352.000000</td>\n",
              "      <td>7352.000000</td>\n",
              "      <td>7352.000000</td>\n",
              "      <td>7352.000000</td>\n",
              "      <td>7352.000000</td>\n",
              "      <td>7352.000000</td>\n",
              "      <td>7352.000000</td>\n",
              "      <td>7352.000000</td>\n",
              "      <td>7352.000000</td>\n",
              "      <td>7352.000000</td>\n",
              "      <td>7352.000000</td>\n",
              "      <td>7352.000000</td>\n",
              "      <td>7352.000000</td>\n",
              "      <td>7352.000000</td>\n",
              "      <td>7352.000000</td>\n",
              "      <td>7352.000000</td>\n",
              "      <td>7352.000000</td>\n",
              "      <td>7352.000000</td>\n",
              "      <td>7352.000000</td>\n",
              "      <td>7352.000000</td>\n",
              "      <td>7352.000000</td>\n",
              "      <td>7352.000000</td>\n",
              "      <td>7352.000000</td>\n",
              "      <td>7352.000000</td>\n",
              "      <td>7352.000000</td>\n",
              "      <td>7352.000000</td>\n",
              "      <td>7352.000000</td>\n",
              "    </tr>\n",
              "    <tr>\n",
              "      <th>mean</th>\n",
              "      <td>0.274488</td>\n",
              "      <td>-0.017695</td>\n",
              "      <td>-0.109141</td>\n",
              "      <td>-0.605438</td>\n",
              "      <td>-0.510938</td>\n",
              "      <td>-0.604754</td>\n",
              "      <td>-0.630512</td>\n",
              "      <td>-0.526907</td>\n",
              "      <td>-0.606150</td>\n",
              "      <td>-0.468604</td>\n",
              "      <td>-0.306043</td>\n",
              "      <td>-0.557121</td>\n",
              "      <td>0.523551</td>\n",
              "      <td>0.387386</td>\n",
              "      <td>0.594374</td>\n",
              "      <td>-0.547569</td>\n",
              "      <td>-0.820041</td>\n",
              "      <td>-0.901874</td>\n",
              "      <td>-0.845784</td>\n",
              "      <td>-0.684345</td>\n",
              "      <td>-0.643770</td>\n",
              "      <td>-0.631069</td>\n",
              "      <td>-0.102993</td>\n",
              "      <td>-0.137937</td>\n",
              "      <td>-0.163946</td>\n",
              "      <td>-0.116599</td>\n",
              "      <td>0.102762</td>\n",
              "      <td>-0.037786</td>\n",
              "      <td>0.130477</td>\n",
              "      <td>-0.026229</td>\n",
              "      <td>0.026322</td>\n",
              "      <td>0.159966</td>\n",
              "      <td>-0.019575</td>\n",
              "      <td>0.009420</td>\n",
              "      <td>0.033291</td>\n",
              "      <td>0.036587</td>\n",
              "      <td>-0.078640</td>\n",
              "      <td>-0.125131</td>\n",
              "      <td>-0.193802</td>\n",
              "      <td>0.105005</td>\n",
              "      <td>...</td>\n",
              "      <td>-0.678618</td>\n",
              "      <td>-0.347657</td>\n",
              "      <td>-0.877995</td>\n",
              "      <td>0.178195</td>\n",
              "      <td>-0.312968</td>\n",
              "      <td>-0.615441</td>\n",
              "      <td>-0.693210</td>\n",
              "      <td>-0.692876</td>\n",
              "      <td>-0.674830</td>\n",
              "      <td>-0.726645</td>\n",
              "      <td>-0.885103</td>\n",
              "      <td>-0.693210</td>\n",
              "      <td>-0.874292</td>\n",
              "      <td>-0.719795</td>\n",
              "      <td>-0.087878</td>\n",
              "      <td>-0.889442</td>\n",
              "      <td>-0.046516</td>\n",
              "      <td>-0.253649</td>\n",
              "      <td>-0.565425</td>\n",
              "      <td>-0.779376</td>\n",
              "      <td>-0.792391</td>\n",
              "      <td>-0.772836</td>\n",
              "      <td>-0.811409</td>\n",
              "      <td>-0.871927</td>\n",
              "      <td>-0.779376</td>\n",
              "      <td>-0.935785</td>\n",
              "      <td>-0.771497</td>\n",
              "      <td>-0.284627</td>\n",
              "      <td>-0.898859</td>\n",
              "      <td>0.125293</td>\n",
              "      <td>-0.307009</td>\n",
              "      <td>-0.625294</td>\n",
              "      <td>0.008684</td>\n",
              "      <td>0.002186</td>\n",
              "      <td>0.008726</td>\n",
              "      <td>-0.005981</td>\n",
              "      <td>-0.489547</td>\n",
              "      <td>0.058593</td>\n",
              "      <td>-0.056515</td>\n",
              "      <td>17.413085</td>\n",
              "    </tr>\n",
              "    <tr>\n",
              "      <th>std</th>\n",
              "      <td>0.070261</td>\n",
              "      <td>0.040811</td>\n",
              "      <td>0.056635</td>\n",
              "      <td>0.448734</td>\n",
              "      <td>0.502645</td>\n",
              "      <td>0.418687</td>\n",
              "      <td>0.424073</td>\n",
              "      <td>0.485942</td>\n",
              "      <td>0.414122</td>\n",
              "      <td>0.544547</td>\n",
              "      <td>0.282243</td>\n",
              "      <td>0.293867</td>\n",
              "      <td>0.363594</td>\n",
              "      <td>0.343611</td>\n",
              "      <td>0.297818</td>\n",
              "      <td>0.471808</td>\n",
              "      <td>0.259607</td>\n",
              "      <td>0.126333</td>\n",
              "      <td>0.221983</td>\n",
              "      <td>0.371608</td>\n",
              "      <td>0.371581</td>\n",
              "      <td>0.386569</td>\n",
              "      <td>0.468959</td>\n",
              "      <td>0.437268</td>\n",
              "      <td>0.371363</td>\n",
              "      <td>0.306507</td>\n",
              "      <td>0.246593</td>\n",
              "      <td>0.243635</td>\n",
              "      <td>0.230067</td>\n",
              "      <td>0.257383</td>\n",
              "      <td>0.215001</td>\n",
              "      <td>0.208837</td>\n",
              "      <td>0.221432</td>\n",
              "      <td>0.286081</td>\n",
              "      <td>0.216289</td>\n",
              "      <td>0.236226</td>\n",
              "      <td>0.232757</td>\n",
              "      <td>0.363155</td>\n",
              "      <td>0.331122</td>\n",
              "      <td>0.385379</td>\n",
              "      <td>...</td>\n",
              "      <td>0.370612</td>\n",
              "      <td>0.670112</td>\n",
              "      <td>0.188636</td>\n",
              "      <td>0.253755</td>\n",
              "      <td>0.358631</td>\n",
              "      <td>0.345329</td>\n",
              "      <td>0.335026</td>\n",
              "      <td>0.322850</td>\n",
              "      <td>0.343454</td>\n",
              "      <td>0.293098</td>\n",
              "      <td>0.173574</td>\n",
              "      <td>0.335026</td>\n",
              "      <td>0.192684</td>\n",
              "      <td>0.318706</td>\n",
              "      <td>0.611793</td>\n",
              "      <td>0.157653</td>\n",
              "      <td>0.282665</td>\n",
              "      <td>0.326624</td>\n",
              "      <td>0.326620</td>\n",
              "      <td>0.275733</td>\n",
              "      <td>0.265434</td>\n",
              "      <td>0.287613</td>\n",
              "      <td>0.246680</td>\n",
              "      <td>0.193344</td>\n",
              "      <td>0.275733</td>\n",
              "      <td>0.138683</td>\n",
              "      <td>0.287577</td>\n",
              "      <td>0.630896</td>\n",
              "      <td>0.143135</td>\n",
              "      <td>0.250994</td>\n",
              "      <td>0.321011</td>\n",
              "      <td>0.307584</td>\n",
              "      <td>0.336787</td>\n",
              "      <td>0.448306</td>\n",
              "      <td>0.608303</td>\n",
              "      <td>0.477975</td>\n",
              "      <td>0.511807</td>\n",
              "      <td>0.297480</td>\n",
              "      <td>0.279122</td>\n",
              "      <td>8.975143</td>\n",
              "    </tr>\n",
              "    <tr>\n",
              "      <th>min</th>\n",
              "      <td>-1.000000</td>\n",
              "      <td>-1.000000</td>\n",
              "      <td>-1.000000</td>\n",
              "      <td>-1.000000</td>\n",
              "      <td>-0.999873</td>\n",
              "      <td>-1.000000</td>\n",
              "      <td>-1.000000</td>\n",
              "      <td>-1.000000</td>\n",
              "      <td>-1.000000</td>\n",
              "      <td>-1.000000</td>\n",
              "      <td>-1.000000</td>\n",
              "      <td>-1.000000</td>\n",
              "      <td>-1.000000</td>\n",
              "      <td>-1.000000</td>\n",
              "      <td>-1.000000</td>\n",
              "      <td>-1.000000</td>\n",
              "      <td>-1.000000</td>\n",
              "      <td>-0.999999</td>\n",
              "      <td>-1.000000</td>\n",
              "      <td>-1.000000</td>\n",
              "      <td>-1.000000</td>\n",
              "      <td>-1.000000</td>\n",
              "      <td>-1.000000</td>\n",
              "      <td>-1.000000</td>\n",
              "      <td>-1.000000</td>\n",
              "      <td>-0.925897</td>\n",
              "      <td>-0.963099</td>\n",
              "      <td>-1.000000</td>\n",
              "      <td>-0.822053</td>\n",
              "      <td>-1.000000</td>\n",
              "      <td>-1.000000</td>\n",
              "      <td>-1.000000</td>\n",
              "      <td>-1.000000</td>\n",
              "      <td>-1.000000</td>\n",
              "      <td>-0.753754</td>\n",
              "      <td>-1.000000</td>\n",
              "      <td>-1.000000</td>\n",
              "      <td>-1.000000</td>\n",
              "      <td>-1.000000</td>\n",
              "      <td>-0.972219</td>\n",
              "      <td>...</td>\n",
              "      <td>-0.999499</td>\n",
              "      <td>-1.000000</td>\n",
              "      <td>-1.000000</td>\n",
              "      <td>-1.000000</td>\n",
              "      <td>-1.000000</td>\n",
              "      <td>-1.000000</td>\n",
              "      <td>-1.000000</td>\n",
              "      <td>-1.000000</td>\n",
              "      <td>-1.000000</td>\n",
              "      <td>-1.000000</td>\n",
              "      <td>-1.000000</td>\n",
              "      <td>-1.000000</td>\n",
              "      <td>-1.000000</td>\n",
              "      <td>-1.000000</td>\n",
              "      <td>-1.000000</td>\n",
              "      <td>-1.000000</td>\n",
              "      <td>-0.997500</td>\n",
              "      <td>-1.000000</td>\n",
              "      <td>-1.000000</td>\n",
              "      <td>-0.999996</td>\n",
              "      <td>-1.000000</td>\n",
              "      <td>-1.000000</td>\n",
              "      <td>-1.000000</td>\n",
              "      <td>-1.000000</td>\n",
              "      <td>-0.999996</td>\n",
              "      <td>-1.000000</td>\n",
              "      <td>-1.000000</td>\n",
              "      <td>-1.000000</td>\n",
              "      <td>-1.000000</td>\n",
              "      <td>-1.000000</td>\n",
              "      <td>-0.995357</td>\n",
              "      <td>-0.999765</td>\n",
              "      <td>-0.976580</td>\n",
              "      <td>-1.000000</td>\n",
              "      <td>-1.000000</td>\n",
              "      <td>-1.000000</td>\n",
              "      <td>-1.000000</td>\n",
              "      <td>-1.000000</td>\n",
              "      <td>-1.000000</td>\n",
              "      <td>1.000000</td>\n",
              "    </tr>\n",
              "    <tr>\n",
              "      <th>25%</th>\n",
              "      <td>0.262975</td>\n",
              "      <td>-0.024863</td>\n",
              "      <td>-0.120993</td>\n",
              "      <td>-0.992754</td>\n",
              "      <td>-0.978129</td>\n",
              "      <td>-0.980233</td>\n",
              "      <td>-0.993591</td>\n",
              "      <td>-0.978162</td>\n",
              "      <td>-0.980251</td>\n",
              "      <td>-0.936219</td>\n",
              "      <td>-0.563561</td>\n",
              "      <td>-0.812744</td>\n",
              "      <td>0.197051</td>\n",
              "      <td>0.101829</td>\n",
              "      <td>0.389787</td>\n",
              "      <td>-0.982992</td>\n",
              "      <td>-0.999936</td>\n",
              "      <td>-0.999786</td>\n",
              "      <td>-0.999460</td>\n",
              "      <td>-0.994387</td>\n",
              "      <td>-0.982159</td>\n",
              "      <td>-0.979623</td>\n",
              "      <td>-0.573441</td>\n",
              "      <td>-0.559584</td>\n",
              "      <td>-0.505512</td>\n",
              "      <td>-0.364926</td>\n",
              "      <td>-0.082544</td>\n",
              "      <td>-0.190581</td>\n",
              "      <td>-0.023857</td>\n",
              "      <td>-0.221943</td>\n",
              "      <td>-0.135433</td>\n",
              "      <td>0.034430</td>\n",
              "      <td>-0.168841</td>\n",
              "      <td>-0.207296</td>\n",
              "      <td>-0.123514</td>\n",
              "      <td>-0.106542</td>\n",
              "      <td>-0.238877</td>\n",
              "      <td>-0.373937</td>\n",
              "      <td>-0.403511</td>\n",
              "      <td>-0.147970</td>\n",
              "      <td>...</td>\n",
              "      <td>-0.989044</td>\n",
              "      <td>-1.000000</td>\n",
              "      <td>-0.968254</td>\n",
              "      <td>-0.000409</td>\n",
              "      <td>-0.607485</td>\n",
              "      <td>-0.882254</td>\n",
              "      <td>-0.984123</td>\n",
              "      <td>-0.980329</td>\n",
              "      <td>-0.980453</td>\n",
              "      <td>-0.981029</td>\n",
              "      <td>-0.994189</td>\n",
              "      <td>-0.984123</td>\n",
              "      <td>-0.999725</td>\n",
              "      <td>-0.986633</td>\n",
              "      <td>-0.690397</td>\n",
              "      <td>-1.000000</td>\n",
              "      <td>-0.240882</td>\n",
              "      <td>-0.492028</td>\n",
              "      <td>-0.802207</td>\n",
              "      <td>-0.993100</td>\n",
              "      <td>-0.993508</td>\n",
              "      <td>-0.992736</td>\n",
              "      <td>-0.994355</td>\n",
              "      <td>-0.994065</td>\n",
              "      <td>-0.993100</td>\n",
              "      <td>-0.999957</td>\n",
              "      <td>-0.992268</td>\n",
              "      <td>-0.955696</td>\n",
              "      <td>-0.968254</td>\n",
              "      <td>-0.023692</td>\n",
              "      <td>-0.542602</td>\n",
              "      <td>-0.845573</td>\n",
              "      <td>-0.121527</td>\n",
              "      <td>-0.289549</td>\n",
              "      <td>-0.482273</td>\n",
              "      <td>-0.376341</td>\n",
              "      <td>-0.812065</td>\n",
              "      <td>-0.017885</td>\n",
              "      <td>-0.143414</td>\n",
              "      <td>8.000000</td>\n",
              "    </tr>\n",
              "    <tr>\n",
              "      <th>50%</th>\n",
              "      <td>0.277193</td>\n",
              "      <td>-0.017219</td>\n",
              "      <td>-0.108676</td>\n",
              "      <td>-0.946196</td>\n",
              "      <td>-0.851897</td>\n",
              "      <td>-0.859365</td>\n",
              "      <td>-0.950709</td>\n",
              "      <td>-0.857328</td>\n",
              "      <td>-0.857143</td>\n",
              "      <td>-0.881637</td>\n",
              "      <td>-0.479677</td>\n",
              "      <td>-0.736516</td>\n",
              "      <td>0.792060</td>\n",
              "      <td>0.627737</td>\n",
              "      <td>0.778059</td>\n",
              "      <td>-0.885461</td>\n",
              "      <td>-0.998046</td>\n",
              "      <td>-0.994065</td>\n",
              "      <td>-0.985546</td>\n",
              "      <td>-0.957859</td>\n",
              "      <td>-0.896093</td>\n",
              "      <td>-0.864515</td>\n",
              "      <td>-0.073369</td>\n",
              "      <td>-0.136793</td>\n",
              "      <td>-0.148889</td>\n",
              "      <td>-0.129393</td>\n",
              "      <td>0.070073</td>\n",
              "      <td>-0.019001</td>\n",
              "      <td>0.134149</td>\n",
              "      <td>-0.040710</td>\n",
              "      <td>0.011748</td>\n",
              "      <td>0.168444</td>\n",
              "      <td>-0.022448</td>\n",
              "      <td>0.029044</td>\n",
              "      <td>0.003266</td>\n",
              "      <td>0.049432</td>\n",
              "      <td>-0.081940</td>\n",
              "      <td>-0.163728</td>\n",
              "      <td>-0.189673</td>\n",
              "      <td>0.147482</td>\n",
              "      <td>...</td>\n",
              "      <td>-0.950502</td>\n",
              "      <td>-0.740806</td>\n",
              "      <td>-0.904762</td>\n",
              "      <td>0.168645</td>\n",
              "      <td>-0.364784</td>\n",
              "      <td>-0.727332</td>\n",
              "      <td>-0.886439</td>\n",
              "      <td>-0.837698</td>\n",
              "      <td>-0.859053</td>\n",
              "      <td>-0.836296</td>\n",
              "      <td>-0.960136</td>\n",
              "      <td>-0.886439</td>\n",
              "      <td>-0.986266</td>\n",
              "      <td>-0.923298</td>\n",
              "      <td>-0.190223</td>\n",
              "      <td>-0.948718</td>\n",
              "      <td>-0.061597</td>\n",
              "      <td>-0.309252</td>\n",
              "      <td>-0.655594</td>\n",
              "      <td>-0.952398</td>\n",
              "      <td>-0.947140</td>\n",
              "      <td>-0.945223</td>\n",
              "      <td>-0.950796</td>\n",
              "      <td>-0.975676</td>\n",
              "      <td>-0.952398</td>\n",
              "      <td>-0.998471</td>\n",
              "      <td>-0.949768</td>\n",
              "      <td>-0.455569</td>\n",
              "      <td>-0.904762</td>\n",
              "      <td>0.134000</td>\n",
              "      <td>-0.343685</td>\n",
              "      <td>-0.711692</td>\n",
              "      <td>0.009509</td>\n",
              "      <td>0.008943</td>\n",
              "      <td>0.008735</td>\n",
              "      <td>-0.000368</td>\n",
              "      <td>-0.709417</td>\n",
              "      <td>0.182071</td>\n",
              "      <td>0.003181</td>\n",
              "      <td>19.000000</td>\n",
              "    </tr>\n",
              "    <tr>\n",
              "      <th>75%</th>\n",
              "      <td>0.288461</td>\n",
              "      <td>-0.010783</td>\n",
              "      <td>-0.097794</td>\n",
              "      <td>-0.242813</td>\n",
              "      <td>-0.034231</td>\n",
              "      <td>-0.262415</td>\n",
              "      <td>-0.292680</td>\n",
              "      <td>-0.066701</td>\n",
              "      <td>-0.265671</td>\n",
              "      <td>-0.017129</td>\n",
              "      <td>-0.065364</td>\n",
              "      <td>-0.332014</td>\n",
              "      <td>0.844420</td>\n",
              "      <td>0.685622</td>\n",
              "      <td>0.837323</td>\n",
              "      <td>-0.107428</td>\n",
              "      <td>-0.710707</td>\n",
              "      <td>-0.816703</td>\n",
              "      <td>-0.748018</td>\n",
              "      <td>-0.393220</td>\n",
              "      <td>-0.310548</td>\n",
              "      <td>-0.316037</td>\n",
              "      <td>0.336504</td>\n",
              "      <td>0.280170</td>\n",
              "      <td>0.164123</td>\n",
              "      <td>0.132657</td>\n",
              "      <td>0.276872</td>\n",
              "      <td>0.128635</td>\n",
              "      <td>0.285318</td>\n",
              "      <td>0.172344</td>\n",
              "      <td>0.177832</td>\n",
              "      <td>0.293410</td>\n",
              "      <td>0.130862</td>\n",
              "      <td>0.230983</td>\n",
              "      <td>0.175602</td>\n",
              "      <td>0.195556</td>\n",
              "      <td>0.079229</td>\n",
              "      <td>0.070818</td>\n",
              "      <td>0.005170</td>\n",
              "      <td>0.382231</td>\n",
              "      <td>...</td>\n",
              "      <td>-0.371989</td>\n",
              "      <td>0.350640</td>\n",
              "      <td>-0.873016</td>\n",
              "      <td>0.364240</td>\n",
              "      <td>-0.082569</td>\n",
              "      <td>-0.449997</td>\n",
              "      <td>-0.438439</td>\n",
              "      <td>-0.451900</td>\n",
              "      <td>-0.397123</td>\n",
              "      <td>-0.540666</td>\n",
              "      <td>-0.837425</td>\n",
              "      <td>-0.438439</td>\n",
              "      <td>-0.800743</td>\n",
              "      <td>-0.484202</td>\n",
              "      <td>0.515789</td>\n",
              "      <td>-0.846154</td>\n",
              "      <td>0.148795</td>\n",
              "      <td>-0.069952</td>\n",
              "      <td>-0.428376</td>\n",
              "      <td>-0.611952</td>\n",
              "      <td>-0.642627</td>\n",
              "      <td>-0.608047</td>\n",
              "      <td>-0.688776</td>\n",
              "      <td>-0.808263</td>\n",
              "      <td>-0.611952</td>\n",
              "      <td>-0.922503</td>\n",
              "      <td>-0.603952</td>\n",
              "      <td>0.336785</td>\n",
              "      <td>-0.873016</td>\n",
              "      <td>0.289096</td>\n",
              "      <td>-0.126979</td>\n",
              "      <td>-0.503878</td>\n",
              "      <td>0.150865</td>\n",
              "      <td>0.292861</td>\n",
              "      <td>0.506187</td>\n",
              "      <td>0.359368</td>\n",
              "      <td>-0.509079</td>\n",
              "      <td>0.248353</td>\n",
              "      <td>0.107659</td>\n",
              "      <td>26.000000</td>\n",
              "    </tr>\n",
              "    <tr>\n",
              "      <th>max</th>\n",
              "      <td>1.000000</td>\n",
              "      <td>1.000000</td>\n",
              "      <td>1.000000</td>\n",
              "      <td>1.000000</td>\n",
              "      <td>0.916238</td>\n",
              "      <td>1.000000</td>\n",
              "      <td>1.000000</td>\n",
              "      <td>0.967664</td>\n",
              "      <td>1.000000</td>\n",
              "      <td>1.000000</td>\n",
              "      <td>1.000000</td>\n",
              "      <td>1.000000</td>\n",
              "      <td>1.000000</td>\n",
              "      <td>1.000000</td>\n",
              "      <td>1.000000</td>\n",
              "      <td>1.000000</td>\n",
              "      <td>1.000000</td>\n",
              "      <td>1.000000</td>\n",
              "      <td>1.000000</td>\n",
              "      <td>1.000000</td>\n",
              "      <td>1.000000</td>\n",
              "      <td>1.000000</td>\n",
              "      <td>0.919662</td>\n",
              "      <td>1.000000</td>\n",
              "      <td>1.000000</td>\n",
              "      <td>1.000000</td>\n",
              "      <td>0.978449</td>\n",
              "      <td>1.000000</td>\n",
              "      <td>1.000000</td>\n",
              "      <td>1.000000</td>\n",
              "      <td>1.000000</td>\n",
              "      <td>1.000000</td>\n",
              "      <td>1.000000</td>\n",
              "      <td>0.814623</td>\n",
              "      <td>1.000000</td>\n",
              "      <td>0.997207</td>\n",
              "      <td>1.000000</td>\n",
              "      <td>1.000000</td>\n",
              "      <td>1.000000</td>\n",
              "      <td>1.000000</td>\n",
              "      <td>...</td>\n",
              "      <td>1.000000</td>\n",
              "      <td>1.000000</td>\n",
              "      <td>1.000000</td>\n",
              "      <td>0.975821</td>\n",
              "      <td>1.000000</td>\n",
              "      <td>1.000000</td>\n",
              "      <td>1.000000</td>\n",
              "      <td>1.000000</td>\n",
              "      <td>1.000000</td>\n",
              "      <td>0.842119</td>\n",
              "      <td>1.000000</td>\n",
              "      <td>1.000000</td>\n",
              "      <td>1.000000</td>\n",
              "      <td>1.000000</td>\n",
              "      <td>1.000000</td>\n",
              "      <td>1.000000</td>\n",
              "      <td>1.000000</td>\n",
              "      <td>0.969311</td>\n",
              "      <td>0.949350</td>\n",
              "      <td>1.000000</td>\n",
              "      <td>1.000000</td>\n",
              "      <td>1.000000</td>\n",
              "      <td>1.000000</td>\n",
              "      <td>1.000000</td>\n",
              "      <td>1.000000</td>\n",
              "      <td>1.000000</td>\n",
              "      <td>1.000000</td>\n",
              "      <td>1.000000</td>\n",
              "      <td>0.968254</td>\n",
              "      <td>0.946700</td>\n",
              "      <td>0.989538</td>\n",
              "      <td>0.956845</td>\n",
              "      <td>1.000000</td>\n",
              "      <td>1.000000</td>\n",
              "      <td>0.998702</td>\n",
              "      <td>0.996078</td>\n",
              "      <td>1.000000</td>\n",
              "      <td>0.478157</td>\n",
              "      <td>1.000000</td>\n",
              "      <td>30.000000</td>\n",
              "    </tr>\n",
              "  </tbody>\n",
              "</table>\n",
              "<p>8 rows × 562 columns</p>\n",
              "</div>"
            ],
            "text/plain": [
              "       tBodyAcc-mean()-X  tBodyAcc-mean()-Y  ...  angle(Z,gravityMean)      subject\n",
              "count        7352.000000        7352.000000  ...           7352.000000  7352.000000\n",
              "mean            0.274488          -0.017695  ...             -0.056515    17.413085\n",
              "std             0.070261           0.040811  ...              0.279122     8.975143\n",
              "min            -1.000000          -1.000000  ...             -1.000000     1.000000\n",
              "25%             0.262975          -0.024863  ...             -0.143414     8.000000\n",
              "50%             0.277193          -0.017219  ...              0.003181    19.000000\n",
              "75%             0.288461          -0.010783  ...              0.107659    26.000000\n",
              "max             1.000000           1.000000  ...              1.000000    30.000000\n",
              "\n",
              "[8 rows x 562 columns]"
            ]
          },
          "metadata": {
            "tags": []
          },
          "execution_count": 9
        }
      ]
    },
    {
      "cell_type": "code",
      "metadata": {
        "colab": {
          "base_uri": "https://localhost:8080/"
        },
        "id": "fr8fFadQXL5m",
        "outputId": "dba25fc4-3e22-400a-becb-41699c9975f1"
      },
      "source": [
        "test.describe()  #we see that the min = -1 and the max = +1. so no need for scaling"
      ],
      "execution_count": null,
      "outputs": [
        {
          "output_type": "execute_result",
          "data": {
            "text/html": [
              "<div>\n",
              "<style scoped>\n",
              "    .dataframe tbody tr th:only-of-type {\n",
              "        vertical-align: middle;\n",
              "    }\n",
              "\n",
              "    .dataframe tbody tr th {\n",
              "        vertical-align: top;\n",
              "    }\n",
              "\n",
              "    .dataframe thead th {\n",
              "        text-align: right;\n",
              "    }\n",
              "</style>\n",
              "<table border=\"1\" class=\"dataframe\">\n",
              "  <thead>\n",
              "    <tr style=\"text-align: right;\">\n",
              "      <th></th>\n",
              "      <th>tBodyAcc-mean()-X</th>\n",
              "      <th>tBodyAcc-mean()-Y</th>\n",
              "      <th>tBodyAcc-mean()-Z</th>\n",
              "      <th>tBodyAcc-std()-X</th>\n",
              "      <th>tBodyAcc-std()-Y</th>\n",
              "      <th>tBodyAcc-std()-Z</th>\n",
              "      <th>tBodyAcc-mad()-X</th>\n",
              "      <th>tBodyAcc-mad()-Y</th>\n",
              "      <th>tBodyAcc-mad()-Z</th>\n",
              "      <th>tBodyAcc-max()-X</th>\n",
              "      <th>tBodyAcc-max()-Y</th>\n",
              "      <th>tBodyAcc-max()-Z</th>\n",
              "      <th>tBodyAcc-min()-X</th>\n",
              "      <th>tBodyAcc-min()-Y</th>\n",
              "      <th>tBodyAcc-min()-Z</th>\n",
              "      <th>tBodyAcc-sma()</th>\n",
              "      <th>tBodyAcc-energy()-X</th>\n",
              "      <th>tBodyAcc-energy()-Y</th>\n",
              "      <th>tBodyAcc-energy()-Z</th>\n",
              "      <th>tBodyAcc-iqr()-X</th>\n",
              "      <th>tBodyAcc-iqr()-Y</th>\n",
              "      <th>tBodyAcc-iqr()-Z</th>\n",
              "      <th>tBodyAcc-entropy()-X</th>\n",
              "      <th>tBodyAcc-entropy()-Y</th>\n",
              "      <th>tBodyAcc-entropy()-Z</th>\n",
              "      <th>tBodyAcc-arCoeff()-X,1</th>\n",
              "      <th>tBodyAcc-arCoeff()-X,2</th>\n",
              "      <th>tBodyAcc-arCoeff()-X,3</th>\n",
              "      <th>tBodyAcc-arCoeff()-X,4</th>\n",
              "      <th>tBodyAcc-arCoeff()-Y,1</th>\n",
              "      <th>tBodyAcc-arCoeff()-Y,2</th>\n",
              "      <th>tBodyAcc-arCoeff()-Y,3</th>\n",
              "      <th>tBodyAcc-arCoeff()-Y,4</th>\n",
              "      <th>tBodyAcc-arCoeff()-Z,1</th>\n",
              "      <th>tBodyAcc-arCoeff()-Z,2</th>\n",
              "      <th>tBodyAcc-arCoeff()-Z,3</th>\n",
              "      <th>tBodyAcc-arCoeff()-Z,4</th>\n",
              "      <th>tBodyAcc-correlation()-X,Y</th>\n",
              "      <th>tBodyAcc-correlation()-X,Z</th>\n",
              "      <th>tBodyAcc-correlation()-Y,Z</th>\n",
              "      <th>...</th>\n",
              "      <th>fBodyBodyAccJerkMag-iqr()</th>\n",
              "      <th>fBodyBodyAccJerkMag-entropy()</th>\n",
              "      <th>fBodyBodyAccJerkMag-maxInds</th>\n",
              "      <th>fBodyBodyAccJerkMag-meanFreq()</th>\n",
              "      <th>fBodyBodyAccJerkMag-skewness()</th>\n",
              "      <th>fBodyBodyAccJerkMag-kurtosis()</th>\n",
              "      <th>fBodyBodyGyroMag-mean()</th>\n",
              "      <th>fBodyBodyGyroMag-std()</th>\n",
              "      <th>fBodyBodyGyroMag-mad()</th>\n",
              "      <th>fBodyBodyGyroMag-max()</th>\n",
              "      <th>fBodyBodyGyroMag-min()</th>\n",
              "      <th>fBodyBodyGyroMag-sma()</th>\n",
              "      <th>fBodyBodyGyroMag-energy()</th>\n",
              "      <th>fBodyBodyGyroMag-iqr()</th>\n",
              "      <th>fBodyBodyGyroMag-entropy()</th>\n",
              "      <th>fBodyBodyGyroMag-maxInds</th>\n",
              "      <th>fBodyBodyGyroMag-meanFreq()</th>\n",
              "      <th>fBodyBodyGyroMag-skewness()</th>\n",
              "      <th>fBodyBodyGyroMag-kurtosis()</th>\n",
              "      <th>fBodyBodyGyroJerkMag-mean()</th>\n",
              "      <th>fBodyBodyGyroJerkMag-std()</th>\n",
              "      <th>fBodyBodyGyroJerkMag-mad()</th>\n",
              "      <th>fBodyBodyGyroJerkMag-max()</th>\n",
              "      <th>fBodyBodyGyroJerkMag-min()</th>\n",
              "      <th>fBodyBodyGyroJerkMag-sma()</th>\n",
              "      <th>fBodyBodyGyroJerkMag-energy()</th>\n",
              "      <th>fBodyBodyGyroJerkMag-iqr()</th>\n",
              "      <th>fBodyBodyGyroJerkMag-entropy()</th>\n",
              "      <th>fBodyBodyGyroJerkMag-maxInds</th>\n",
              "      <th>fBodyBodyGyroJerkMag-meanFreq()</th>\n",
              "      <th>fBodyBodyGyroJerkMag-skewness()</th>\n",
              "      <th>fBodyBodyGyroJerkMag-kurtosis()</th>\n",
              "      <th>angle(tBodyAccMean,gravity)</th>\n",
              "      <th>angle(tBodyAccJerkMean),gravityMean)</th>\n",
              "      <th>angle(tBodyGyroMean,gravityMean)</th>\n",
              "      <th>angle(tBodyGyroJerkMean,gravityMean)</th>\n",
              "      <th>angle(X,gravityMean)</th>\n",
              "      <th>angle(Y,gravityMean)</th>\n",
              "      <th>angle(Z,gravityMean)</th>\n",
              "      <th>subject</th>\n",
              "    </tr>\n",
              "  </thead>\n",
              "  <tbody>\n",
              "    <tr>\n",
              "      <th>count</th>\n",
              "      <td>2947.000000</td>\n",
              "      <td>2947.000000</td>\n",
              "      <td>2947.000000</td>\n",
              "      <td>2947.000000</td>\n",
              "      <td>2947.000000</td>\n",
              "      <td>2947.000000</td>\n",
              "      <td>2947.000000</td>\n",
              "      <td>2947.000000</td>\n",
              "      <td>2947.000000</td>\n",
              "      <td>2947.000000</td>\n",
              "      <td>2947.000000</td>\n",
              "      <td>2947.000000</td>\n",
              "      <td>2947.000000</td>\n",
              "      <td>2947.000000</td>\n",
              "      <td>2947.000000</td>\n",
              "      <td>2947.000000</td>\n",
              "      <td>2947.000000</td>\n",
              "      <td>2947.000000</td>\n",
              "      <td>2947.000000</td>\n",
              "      <td>2947.000000</td>\n",
              "      <td>2947.000000</td>\n",
              "      <td>2947.000000</td>\n",
              "      <td>2947.000000</td>\n",
              "      <td>2947.000000</td>\n",
              "      <td>2947.000000</td>\n",
              "      <td>2947.000000</td>\n",
              "      <td>2947.000000</td>\n",
              "      <td>2947.000000</td>\n",
              "      <td>2947.000000</td>\n",
              "      <td>2947.000000</td>\n",
              "      <td>2947.000000</td>\n",
              "      <td>2947.000000</td>\n",
              "      <td>2947.000000</td>\n",
              "      <td>2947.000000</td>\n",
              "      <td>2947.000000</td>\n",
              "      <td>2947.000000</td>\n",
              "      <td>2947.000000</td>\n",
              "      <td>2947.000000</td>\n",
              "      <td>2947.000000</td>\n",
              "      <td>2947.000000</td>\n",
              "      <td>...</td>\n",
              "      <td>2947.000000</td>\n",
              "      <td>2947.000000</td>\n",
              "      <td>2947.000000</td>\n",
              "      <td>2947.000000</td>\n",
              "      <td>2947.000000</td>\n",
              "      <td>2947.000000</td>\n",
              "      <td>2947.000000</td>\n",
              "      <td>2947.000000</td>\n",
              "      <td>2947.000000</td>\n",
              "      <td>2947.000000</td>\n",
              "      <td>2947.000000</td>\n",
              "      <td>2947.000000</td>\n",
              "      <td>2947.000000</td>\n",
              "      <td>2947.000000</td>\n",
              "      <td>2947.000000</td>\n",
              "      <td>2947.000000</td>\n",
              "      <td>2947.000000</td>\n",
              "      <td>2947.000000</td>\n",
              "      <td>2947.000000</td>\n",
              "      <td>2947.000000</td>\n",
              "      <td>2947.000000</td>\n",
              "      <td>2947.000000</td>\n",
              "      <td>2947.000000</td>\n",
              "      <td>2947.000000</td>\n",
              "      <td>2947.000000</td>\n",
              "      <td>2947.000000</td>\n",
              "      <td>2947.000000</td>\n",
              "      <td>2947.000000</td>\n",
              "      <td>2947.000000</td>\n",
              "      <td>2947.000000</td>\n",
              "      <td>2947.000000</td>\n",
              "      <td>2947.000000</td>\n",
              "      <td>2947.000000</td>\n",
              "      <td>2947.000000</td>\n",
              "      <td>2947.000000</td>\n",
              "      <td>2947.000000</td>\n",
              "      <td>2947.000000</td>\n",
              "      <td>2947.000000</td>\n",
              "      <td>2947.000000</td>\n",
              "      <td>2947.000000</td>\n",
              "    </tr>\n",
              "    <tr>\n",
              "      <th>mean</th>\n",
              "      <td>0.273996</td>\n",
              "      <td>-0.017863</td>\n",
              "      <td>-0.108386</td>\n",
              "      <td>-0.613635</td>\n",
              "      <td>-0.508330</td>\n",
              "      <td>-0.633797</td>\n",
              "      <td>-0.641278</td>\n",
              "      <td>-0.522676</td>\n",
              "      <td>-0.637038</td>\n",
              "      <td>-0.462063</td>\n",
              "      <td>-0.303028</td>\n",
              "      <td>-0.574975</td>\n",
              "      <td>0.529679</td>\n",
              "      <td>0.394903</td>\n",
              "      <td>0.607122</td>\n",
              "      <td>-0.563359</td>\n",
              "      <td>-0.838978</td>\n",
              "      <td>-0.904777</td>\n",
              "      <td>-0.876810</td>\n",
              "      <td>-0.701179</td>\n",
              "      <td>-0.642868</td>\n",
              "      <td>-0.664678</td>\n",
              "      <td>-0.093694</td>\n",
              "      <td>-0.105883</td>\n",
              "      <td>-0.142690</td>\n",
              "      <td>-0.124831</td>\n",
              "      <td>0.123073</td>\n",
              "      <td>-0.030495</td>\n",
              "      <td>0.100853</td>\n",
              "      <td>-0.038277</td>\n",
              "      <td>0.045200</td>\n",
              "      <td>0.143128</td>\n",
              "      <td>-0.014339</td>\n",
              "      <td>-0.002145</td>\n",
              "      <td>0.048802</td>\n",
              "      <td>0.029028</td>\n",
              "      <td>-0.092721</td>\n",
              "      <td>-0.108279</td>\n",
              "      <td>-0.207585</td>\n",
              "      <td>0.095198</td>\n",
              "      <td>...</td>\n",
              "      <td>-0.671666</td>\n",
              "      <td>-0.315550</td>\n",
              "      <td>-0.877314</td>\n",
              "      <td>0.160807</td>\n",
              "      <td>-0.262749</td>\n",
              "      <td>-0.567276</td>\n",
              "      <td>-0.707893</td>\n",
              "      <td>-0.717690</td>\n",
              "      <td>-0.696441</td>\n",
              "      <td>-0.754527</td>\n",
              "      <td>-0.897678</td>\n",
              "      <td>-0.707893</td>\n",
              "      <td>-0.898787</td>\n",
              "      <td>-0.727937</td>\n",
              "      <td>-0.047341</td>\n",
              "      <td>-0.880905</td>\n",
              "      <td>-0.029208</td>\n",
              "      <td>-0.290799</td>\n",
              "      <td>-0.601914</td>\n",
              "      <td>-0.780744</td>\n",
              "      <td>-0.791688</td>\n",
              "      <td>-0.774820</td>\n",
              "      <td>-0.806254</td>\n",
              "      <td>-0.869391</td>\n",
              "      <td>-0.780744</td>\n",
              "      <td>-0.943172</td>\n",
              "      <td>-0.775752</td>\n",
              "      <td>-0.248673</td>\n",
              "      <td>-0.902963</td>\n",
              "      <td>0.130236</td>\n",
              "      <td>-0.277593</td>\n",
              "      <td>-0.598756</td>\n",
              "      <td>0.005264</td>\n",
              "      <td>0.003799</td>\n",
              "      <td>0.040029</td>\n",
              "      <td>-0.017298</td>\n",
              "      <td>-0.513923</td>\n",
              "      <td>0.074886</td>\n",
              "      <td>-0.048720</td>\n",
              "      <td>12.986427</td>\n",
              "    </tr>\n",
              "    <tr>\n",
              "      <th>std</th>\n",
              "      <td>0.060570</td>\n",
              "      <td>0.025745</td>\n",
              "      <td>0.042747</td>\n",
              "      <td>0.412597</td>\n",
              "      <td>0.494269</td>\n",
              "      <td>0.362699</td>\n",
              "      <td>0.385199</td>\n",
              "      <td>0.479899</td>\n",
              "      <td>0.357753</td>\n",
              "      <td>0.523916</td>\n",
              "      <td>0.274075</td>\n",
              "      <td>0.253431</td>\n",
              "      <td>0.338503</td>\n",
              "      <td>0.326645</td>\n",
              "      <td>0.271650</td>\n",
              "      <td>0.434127</td>\n",
              "      <td>0.211957</td>\n",
              "      <td>0.125120</td>\n",
              "      <td>0.157134</td>\n",
              "      <td>0.325979</td>\n",
              "      <td>0.362060</td>\n",
              "      <td>0.331992</td>\n",
              "      <td>0.445319</td>\n",
              "      <td>0.423831</td>\n",
              "      <td>0.359451</td>\n",
              "      <td>0.310705</td>\n",
              "      <td>0.247947</td>\n",
              "      <td>0.257935</td>\n",
              "      <td>0.235618</td>\n",
              "      <td>0.246854</td>\n",
              "      <td>0.209876</td>\n",
              "      <td>0.207973</td>\n",
              "      <td>0.217290</td>\n",
              "      <td>0.270411</td>\n",
              "      <td>0.212999</td>\n",
              "      <td>0.238369</td>\n",
              "      <td>0.226133</td>\n",
              "      <td>0.343396</td>\n",
              "      <td>0.309413</td>\n",
              "      <td>0.351661</td>\n",
              "      <td>...</td>\n",
              "      <td>0.352619</td>\n",
              "      <td>0.658222</td>\n",
              "      <td>0.192204</td>\n",
              "      <td>0.249082</td>\n",
              "      <td>0.377180</td>\n",
              "      <td>0.372363</td>\n",
              "      <td>0.293343</td>\n",
              "      <td>0.276336</td>\n",
              "      <td>0.298029</td>\n",
              "      <td>0.247612</td>\n",
              "      <td>0.135109</td>\n",
              "      <td>0.293343</td>\n",
              "      <td>0.143982</td>\n",
              "      <td>0.289218</td>\n",
              "      <td>0.579318</td>\n",
              "      <td>0.165518</td>\n",
              "      <td>0.273403</td>\n",
              "      <td>0.310733</td>\n",
              "      <td>0.301356</td>\n",
              "      <td>0.246152</td>\n",
              "      <td>0.242846</td>\n",
              "      <td>0.259050</td>\n",
              "      <td>0.232465</td>\n",
              "      <td>0.180039</td>\n",
              "      <td>0.246152</td>\n",
              "      <td>0.097448</td>\n",
              "      <td>0.254097</td>\n",
              "      <td>0.606778</td>\n",
              "      <td>0.130682</td>\n",
              "      <td>0.231018</td>\n",
              "      <td>0.317245</td>\n",
              "      <td>0.311042</td>\n",
              "      <td>0.336147</td>\n",
              "      <td>0.445077</td>\n",
              "      <td>0.634989</td>\n",
              "      <td>0.501311</td>\n",
              "      <td>0.509205</td>\n",
              "      <td>0.324300</td>\n",
              "      <td>0.241467</td>\n",
              "      <td>6.950984</td>\n",
              "    </tr>\n",
              "    <tr>\n",
              "      <th>min</th>\n",
              "      <td>-0.592004</td>\n",
              "      <td>-0.362884</td>\n",
              "      <td>-0.576184</td>\n",
              "      <td>-0.999606</td>\n",
              "      <td>-1.000000</td>\n",
              "      <td>-0.998955</td>\n",
              "      <td>-0.999417</td>\n",
              "      <td>-0.999914</td>\n",
              "      <td>-0.998899</td>\n",
              "      <td>-0.952357</td>\n",
              "      <td>-0.583487</td>\n",
              "      <td>-0.846114</td>\n",
              "      <td>-0.506816</td>\n",
              "      <td>-0.880782</td>\n",
              "      <td>-0.648680</td>\n",
              "      <td>-0.998967</td>\n",
              "      <td>-0.999999</td>\n",
              "      <td>-1.000000</td>\n",
              "      <td>-0.999992</td>\n",
              "      <td>-0.999339</td>\n",
              "      <td>-0.999762</td>\n",
              "      <td>-0.998174</td>\n",
              "      <td>-1.000000</td>\n",
              "      <td>-1.000000</td>\n",
              "      <td>-1.000000</td>\n",
              "      <td>-1.000000</td>\n",
              "      <td>-1.000000</td>\n",
              "      <td>-0.983510</td>\n",
              "      <td>-1.000000</td>\n",
              "      <td>-0.828130</td>\n",
              "      <td>-0.604075</td>\n",
              "      <td>-0.658814</td>\n",
              "      <td>-0.899870</td>\n",
              "      <td>-0.817744</td>\n",
              "      <td>-1.000000</td>\n",
              "      <td>-0.953766</td>\n",
              "      <td>-0.946135</td>\n",
              "      <td>-0.987633</td>\n",
              "      <td>-0.977345</td>\n",
              "      <td>-1.000000</td>\n",
              "      <td>...</td>\n",
              "      <td>-1.000000</td>\n",
              "      <td>-1.000000</td>\n",
              "      <td>-1.000000</td>\n",
              "      <td>-0.758136</td>\n",
              "      <td>-0.998620</td>\n",
              "      <td>-0.997958</td>\n",
              "      <td>-0.999356</td>\n",
              "      <td>-0.999303</td>\n",
              "      <td>-0.999415</td>\n",
              "      <td>-0.999294</td>\n",
              "      <td>-0.999992</td>\n",
              "      <td>-0.999356</td>\n",
              "      <td>-0.999997</td>\n",
              "      <td>-0.999495</td>\n",
              "      <td>-1.000000</td>\n",
              "      <td>-1.000000</td>\n",
              "      <td>-1.000000</td>\n",
              "      <td>-0.888784</td>\n",
              "      <td>-0.994580</td>\n",
              "      <td>-1.000000</td>\n",
              "      <td>-0.999629</td>\n",
              "      <td>-0.999684</td>\n",
              "      <td>-0.999933</td>\n",
              "      <td>-0.999978</td>\n",
              "      <td>-1.000000</td>\n",
              "      <td>-1.000000</td>\n",
              "      <td>-0.999381</td>\n",
              "      <td>-1.000000</td>\n",
              "      <td>-1.000000</td>\n",
              "      <td>-0.785543</td>\n",
              "      <td>-1.000000</td>\n",
              "      <td>-1.000000</td>\n",
              "      <td>-1.000000</td>\n",
              "      <td>-0.993402</td>\n",
              "      <td>-0.998898</td>\n",
              "      <td>-0.991096</td>\n",
              "      <td>-0.984195</td>\n",
              "      <td>-0.913704</td>\n",
              "      <td>-0.949228</td>\n",
              "      <td>2.000000</td>\n",
              "    </tr>\n",
              "    <tr>\n",
              "      <th>25%</th>\n",
              "      <td>0.262075</td>\n",
              "      <td>-0.024961</td>\n",
              "      <td>-0.121162</td>\n",
              "      <td>-0.990914</td>\n",
              "      <td>-0.973664</td>\n",
              "      <td>-0.976122</td>\n",
              "      <td>-0.992333</td>\n",
              "      <td>-0.974131</td>\n",
              "      <td>-0.975352</td>\n",
              "      <td>-0.934447</td>\n",
              "      <td>-0.559938</td>\n",
              "      <td>-0.810242</td>\n",
              "      <td>0.240895</td>\n",
              "      <td>0.147252</td>\n",
              "      <td>0.406540</td>\n",
              "      <td>-0.978328</td>\n",
              "      <td>-0.999909</td>\n",
              "      <td>-0.999721</td>\n",
              "      <td>-0.999280</td>\n",
              "      <td>-0.993495</td>\n",
              "      <td>-0.979146</td>\n",
              "      <td>-0.974952</td>\n",
              "      <td>-0.542829</td>\n",
              "      <td>-0.527646</td>\n",
              "      <td>-0.474951</td>\n",
              "      <td>-0.376473</td>\n",
              "      <td>-0.070611</td>\n",
              "      <td>-0.189644</td>\n",
              "      <td>-0.054935</td>\n",
              "      <td>-0.221837</td>\n",
              "      <td>-0.108801</td>\n",
              "      <td>0.012272</td>\n",
              "      <td>-0.156446</td>\n",
              "      <td>-0.204864</td>\n",
              "      <td>-0.106736</td>\n",
              "      <td>-0.125360</td>\n",
              "      <td>-0.240741</td>\n",
              "      <td>-0.340341</td>\n",
              "      <td>-0.422432</td>\n",
              "      <td>-0.126838</td>\n",
              "      <td>...</td>\n",
              "      <td>-0.987334</td>\n",
              "      <td>-1.000000</td>\n",
              "      <td>-0.968254</td>\n",
              "      <td>-0.015285</td>\n",
              "      <td>-0.585078</td>\n",
              "      <td>-0.871625</td>\n",
              "      <td>-0.977967</td>\n",
              "      <td>-0.973950</td>\n",
              "      <td>-0.973828</td>\n",
              "      <td>-0.975674</td>\n",
              "      <td>-0.992971</td>\n",
              "      <td>-0.977967</td>\n",
              "      <td>-0.999532</td>\n",
              "      <td>-0.981950</td>\n",
              "      <td>-0.617225</td>\n",
              "      <td>-1.000000</td>\n",
              "      <td>-0.221124</td>\n",
              "      <td>-0.515385</td>\n",
              "      <td>-0.817069</td>\n",
              "      <td>-0.989330</td>\n",
              "      <td>-0.990052</td>\n",
              "      <td>-0.988884</td>\n",
              "      <td>-0.991516</td>\n",
              "      <td>-0.992428</td>\n",
              "      <td>-0.989330</td>\n",
              "      <td>-0.999913</td>\n",
              "      <td>-0.988450</td>\n",
              "      <td>-0.895847</td>\n",
              "      <td>-0.968254</td>\n",
              "      <td>-0.008433</td>\n",
              "      <td>-0.517494</td>\n",
              "      <td>-0.829593</td>\n",
              "      <td>-0.130541</td>\n",
              "      <td>-0.282600</td>\n",
              "      <td>-0.518924</td>\n",
              "      <td>-0.428375</td>\n",
              "      <td>-0.829722</td>\n",
              "      <td>0.022140</td>\n",
              "      <td>-0.098485</td>\n",
              "      <td>9.000000</td>\n",
              "    </tr>\n",
              "    <tr>\n",
              "      <th>50%</th>\n",
              "      <td>0.277113</td>\n",
              "      <td>-0.016967</td>\n",
              "      <td>-0.108458</td>\n",
              "      <td>-0.931214</td>\n",
              "      <td>-0.790972</td>\n",
              "      <td>-0.827534</td>\n",
              "      <td>-0.937664</td>\n",
              "      <td>-0.799907</td>\n",
              "      <td>-0.817005</td>\n",
              "      <td>-0.852659</td>\n",
              "      <td>-0.436526</td>\n",
              "      <td>-0.684548</td>\n",
              "      <td>0.755450</td>\n",
              "      <td>0.594357</td>\n",
              "      <td>0.760873</td>\n",
              "      <td>-0.861996</td>\n",
              "      <td>-0.996592</td>\n",
              "      <td>-0.988943</td>\n",
              "      <td>-0.979327</td>\n",
              "      <td>-0.950298</td>\n",
              "      <td>-0.851073</td>\n",
              "      <td>-0.815177</td>\n",
              "      <td>-0.023429</td>\n",
              "      <td>-0.026398</td>\n",
              "      <td>-0.120243</td>\n",
              "      <td>-0.156251</td>\n",
              "      <td>0.097385</td>\n",
              "      <td>-0.012846</td>\n",
              "      <td>0.104655</td>\n",
              "      <td>-0.050634</td>\n",
              "      <td>0.031271</td>\n",
              "      <td>0.141983</td>\n",
              "      <td>-0.013008</td>\n",
              "      <td>0.001248</td>\n",
              "      <td>0.027743</td>\n",
              "      <td>0.039789</td>\n",
              "      <td>-0.086980</td>\n",
              "      <td>-0.155979</td>\n",
              "      <td>-0.195685</td>\n",
              "      <td>0.109329</td>\n",
              "      <td>...</td>\n",
              "      <td>-0.917926</td>\n",
              "      <td>-0.517213</td>\n",
              "      <td>-0.904762</td>\n",
              "      <td>0.149504</td>\n",
              "      <td>-0.292845</td>\n",
              "      <td>-0.669574</td>\n",
              "      <td>-0.841053</td>\n",
              "      <td>-0.792615</td>\n",
              "      <td>-0.798822</td>\n",
              "      <td>-0.813861</td>\n",
              "      <td>-0.956318</td>\n",
              "      <td>-0.841053</td>\n",
              "      <td>-0.976355</td>\n",
              "      <td>-0.874889</td>\n",
              "      <td>-0.054084</td>\n",
              "      <td>-0.948718</td>\n",
              "      <td>-0.029349</td>\n",
              "      <td>-0.342078</td>\n",
              "      <td>-0.688084</td>\n",
              "      <td>-0.916276</td>\n",
              "      <td>-0.911730</td>\n",
              "      <td>-0.907344</td>\n",
              "      <td>-0.919685</td>\n",
              "      <td>-0.963172</td>\n",
              "      <td>-0.916276</td>\n",
              "      <td>-0.995908</td>\n",
              "      <td>-0.913253</td>\n",
              "      <td>-0.290417</td>\n",
              "      <td>-0.904762</td>\n",
              "      <td>0.142676</td>\n",
              "      <td>-0.311023</td>\n",
              "      <td>-0.683672</td>\n",
              "      <td>0.005188</td>\n",
              "      <td>0.006767</td>\n",
              "      <td>0.047113</td>\n",
              "      <td>-0.026726</td>\n",
              "      <td>-0.729648</td>\n",
              "      <td>0.181563</td>\n",
              "      <td>-0.010671</td>\n",
              "      <td>12.000000</td>\n",
              "    </tr>\n",
              "    <tr>\n",
              "      <th>75%</th>\n",
              "      <td>0.288097</td>\n",
              "      <td>-0.010143</td>\n",
              "      <td>-0.097123</td>\n",
              "      <td>-0.267395</td>\n",
              "      <td>-0.105919</td>\n",
              "      <td>-0.311432</td>\n",
              "      <td>-0.321719</td>\n",
              "      <td>-0.133488</td>\n",
              "      <td>-0.322771</td>\n",
              "      <td>-0.009965</td>\n",
              "      <td>-0.075040</td>\n",
              "      <td>-0.375213</td>\n",
              "      <td>0.841741</td>\n",
              "      <td>0.683272</td>\n",
              "      <td>0.835222</td>\n",
              "      <td>-0.154299</td>\n",
              "      <td>-0.727769</td>\n",
              "      <td>-0.842496</td>\n",
              "      <td>-0.781542</td>\n",
              "      <td>-0.437599</td>\n",
              "      <td>-0.352592</td>\n",
              "      <td>-0.377377</td>\n",
              "      <td>0.311450</td>\n",
              "      <td>0.293194</td>\n",
              "      <td>0.174342</td>\n",
              "      <td>0.134813</td>\n",
              "      <td>0.303994</td>\n",
              "      <td>0.144869</td>\n",
              "      <td>0.255446</td>\n",
              "      <td>0.136855</td>\n",
              "      <td>0.190827</td>\n",
              "      <td>0.279454</td>\n",
              "      <td>0.132858</td>\n",
              "      <td>0.201981</td>\n",
              "      <td>0.190522</td>\n",
              "      <td>0.190513</td>\n",
              "      <td>0.060242</td>\n",
              "      <td>0.105231</td>\n",
              "      <td>-0.003469</td>\n",
              "      <td>0.342747</td>\n",
              "      <td>...</td>\n",
              "      <td>-0.370690</td>\n",
              "      <td>0.337622</td>\n",
              "      <td>-0.873016</td>\n",
              "      <td>0.341836</td>\n",
              "      <td>-0.010910</td>\n",
              "      <td>-0.369213</td>\n",
              "      <td>-0.481641</td>\n",
              "      <td>-0.513562</td>\n",
              "      <td>-0.466695</td>\n",
              "      <td>-0.592454</td>\n",
              "      <td>-0.845553</td>\n",
              "      <td>-0.481641</td>\n",
              "      <td>-0.842119</td>\n",
              "      <td>-0.521036</td>\n",
              "      <td>0.511101</td>\n",
              "      <td>-0.846154</td>\n",
              "      <td>0.159855</td>\n",
              "      <td>-0.121568</td>\n",
              "      <td>-0.474098</td>\n",
              "      <td>-0.613892</td>\n",
              "      <td>-0.646427</td>\n",
              "      <td>-0.615198</td>\n",
              "      <td>-0.672505</td>\n",
              "      <td>-0.798295</td>\n",
              "      <td>-0.613892</td>\n",
              "      <td>-0.924266</td>\n",
              "      <td>-0.606003</td>\n",
              "      <td>0.339070</td>\n",
              "      <td>-0.873016</td>\n",
              "      <td>0.288320</td>\n",
              "      <td>-0.083559</td>\n",
              "      <td>-0.458332</td>\n",
              "      <td>0.146200</td>\n",
              "      <td>0.288113</td>\n",
              "      <td>0.622151</td>\n",
              "      <td>0.394387</td>\n",
              "      <td>-0.545939</td>\n",
              "      <td>0.260252</td>\n",
              "      <td>0.092373</td>\n",
              "      <td>18.000000</td>\n",
              "    </tr>\n",
              "    <tr>\n",
              "      <th>max</th>\n",
              "      <td>0.671887</td>\n",
              "      <td>0.246106</td>\n",
              "      <td>0.494114</td>\n",
              "      <td>0.465299</td>\n",
              "      <td>1.000000</td>\n",
              "      <td>0.489703</td>\n",
              "      <td>0.439657</td>\n",
              "      <td>1.000000</td>\n",
              "      <td>0.427958</td>\n",
              "      <td>0.786436</td>\n",
              "      <td>0.674711</td>\n",
              "      <td>0.384516</td>\n",
              "      <td>0.854911</td>\n",
              "      <td>0.707630</td>\n",
              "      <td>0.854277</td>\n",
              "      <td>0.485138</td>\n",
              "      <td>0.074741</td>\n",
              "      <td>-0.233803</td>\n",
              "      <td>-0.013052</td>\n",
              "      <td>0.494036</td>\n",
              "      <td>0.656637</td>\n",
              "      <td>0.794889</td>\n",
              "      <td>1.000000</td>\n",
              "      <td>0.724769</td>\n",
              "      <td>0.916093</td>\n",
              "      <td>0.806831</td>\n",
              "      <td>1.000000</td>\n",
              "      <td>0.907824</td>\n",
              "      <td>0.879107</td>\n",
              "      <td>0.719314</td>\n",
              "      <td>0.780362</td>\n",
              "      <td>0.896917</td>\n",
              "      <td>0.724131</td>\n",
              "      <td>1.000000</td>\n",
              "      <td>0.840130</td>\n",
              "      <td>1.000000</td>\n",
              "      <td>0.641694</td>\n",
              "      <td>0.978553</td>\n",
              "      <td>0.966847</td>\n",
              "      <td>0.994405</td>\n",
              "      <td>...</td>\n",
              "      <td>0.440527</td>\n",
              "      <td>0.846989</td>\n",
              "      <td>0.714286</td>\n",
              "      <td>1.000000</td>\n",
              "      <td>0.971221</td>\n",
              "      <td>0.948518</td>\n",
              "      <td>0.197313</td>\n",
              "      <td>0.977144</td>\n",
              "      <td>0.490264</td>\n",
              "      <td>1.000000</td>\n",
              "      <td>0.023390</td>\n",
              "      <td>0.197313</td>\n",
              "      <td>0.735111</td>\n",
              "      <td>0.334113</td>\n",
              "      <td>0.877272</td>\n",
              "      <td>0.128205</td>\n",
              "      <td>0.977755</td>\n",
              "      <td>1.000000</td>\n",
              "      <td>1.000000</td>\n",
              "      <td>0.233995</td>\n",
              "      <td>0.286516</td>\n",
              "      <td>0.388784</td>\n",
              "      <td>0.379665</td>\n",
              "      <td>0.557422</td>\n",
              "      <td>0.233995</td>\n",
              "      <td>-0.278263</td>\n",
              "      <td>0.386844</td>\n",
              "      <td>0.838320</td>\n",
              "      <td>1.000000</td>\n",
              "      <td>1.000000</td>\n",
              "      <td>1.000000</td>\n",
              "      <td>1.000000</td>\n",
              "      <td>0.998898</td>\n",
              "      <td>0.986347</td>\n",
              "      <td>1.000000</td>\n",
              "      <td>1.000000</td>\n",
              "      <td>0.833180</td>\n",
              "      <td>1.000000</td>\n",
              "      <td>0.973113</td>\n",
              "      <td>24.000000</td>\n",
              "    </tr>\n",
              "  </tbody>\n",
              "</table>\n",
              "<p>8 rows × 562 columns</p>\n",
              "</div>"
            ],
            "text/plain": [
              "       tBodyAcc-mean()-X  tBodyAcc-mean()-Y  ...  angle(Z,gravityMean)      subject\n",
              "count        2947.000000        2947.000000  ...           2947.000000  2947.000000\n",
              "mean            0.273996          -0.017863  ...             -0.048720    12.986427\n",
              "std             0.060570           0.025745  ...              0.241467     6.950984\n",
              "min            -0.592004          -0.362884  ...             -0.949228     2.000000\n",
              "25%             0.262075          -0.024961  ...             -0.098485     9.000000\n",
              "50%             0.277113          -0.016967  ...             -0.010671    12.000000\n",
              "75%             0.288097          -0.010143  ...              0.092373    18.000000\n",
              "max             0.671887           0.246106  ...              0.973113    24.000000\n",
              "\n",
              "[8 rows x 562 columns]"
            ]
          },
          "metadata": {
            "tags": []
          },
          "execution_count": 10
        }
      ]
    },
    {
      "cell_type": "code",
      "metadata": {
        "colab": {
          "base_uri": "https://localhost:8080/"
        },
        "id": "a-_9AfsTWSne",
        "outputId": "21fd743f-c24b-4cde-e0c4-07f17b70ec35"
      },
      "source": [
        "# Plotting data\n",
        "label_counts = label.value_counts()\n",
        "\n",
        "# Get colors\n",
        "n = label_counts.shape[0]\n",
        "colormap = get_cmap('viridis')\n",
        "colors = [rgb2hex(colormap(col)) for col in np.arange(0, 1.01, 1/(n-1))]\n",
        "\n",
        "# Create plot\n",
        "data = go.Bar(x = label_counts.index,\n",
        "              y = label_counts,\n",
        "              marker = dict(color = colors))\n",
        "\n",
        "layout = go.Layout(title = 'Smartphone Activity Label Distribution',\n",
        "                   xaxis = dict(title = 'Activity'),\n",
        "                   yaxis = dict(title = 'Count'))\n",
        "\n",
        "plt = go.Figure(data=[data], layout=layout)\n",
        "plt.show()"
      ],
      "execution_count": null,
      "outputs": [
        {
          "output_type": "display_data",
          "data": {
            "application/vnd.plotly.v1+json": {
              "config": {
                "plotlyServerURL": "https://plot.ly"
              },
              "data": [
                {
                  "marker": {
                    "color": [
                      "#440154",
                      "#414487",
                      "#2a788e",
                      "#22a884",
                      "#7ad151",
                      "#fde725"
                    ]
                  },
                  "type": "bar",
                  "x": [
                    "LAYING",
                    "STANDING",
                    "SITTING",
                    "WALKING",
                    "WALKING_UPSTAIRS",
                    "WALKING_DOWNSTAIRS"
                  ],
                  "y": [
                    1944,
                    1906,
                    1777,
                    1722,
                    1544,
                    1406
                  ]
                }
              ],
              "layout": {
                "template": {
                  "data": {
                    "bar": [
                      {
                        "error_x": {
                          "color": "#2a3f5f"
                        },
                        "error_y": {
                          "color": "#2a3f5f"
                        },
                        "marker": {
                          "line": {
                            "color": "#E5ECF6",
                            "width": 0.5
                          }
                        },
                        "type": "bar"
                      }
                    ],
                    "barpolar": [
                      {
                        "marker": {
                          "line": {
                            "color": "#E5ECF6",
                            "width": 0.5
                          }
                        },
                        "type": "barpolar"
                      }
                    ],
                    "carpet": [
                      {
                        "aaxis": {
                          "endlinecolor": "#2a3f5f",
                          "gridcolor": "white",
                          "linecolor": "white",
                          "minorgridcolor": "white",
                          "startlinecolor": "#2a3f5f"
                        },
                        "baxis": {
                          "endlinecolor": "#2a3f5f",
                          "gridcolor": "white",
                          "linecolor": "white",
                          "minorgridcolor": "white",
                          "startlinecolor": "#2a3f5f"
                        },
                        "type": "carpet"
                      }
                    ],
                    "choropleth": [
                      {
                        "colorbar": {
                          "outlinewidth": 0,
                          "ticks": ""
                        },
                        "type": "choropleth"
                      }
                    ],
                    "contour": [
                      {
                        "colorbar": {
                          "outlinewidth": 0,
                          "ticks": ""
                        },
                        "colorscale": [
                          [
                            0,
                            "#0d0887"
                          ],
                          [
                            0.1111111111111111,
                            "#46039f"
                          ],
                          [
                            0.2222222222222222,
                            "#7201a8"
                          ],
                          [
                            0.3333333333333333,
                            "#9c179e"
                          ],
                          [
                            0.4444444444444444,
                            "#bd3786"
                          ],
                          [
                            0.5555555555555556,
                            "#d8576b"
                          ],
                          [
                            0.6666666666666666,
                            "#ed7953"
                          ],
                          [
                            0.7777777777777778,
                            "#fb9f3a"
                          ],
                          [
                            0.8888888888888888,
                            "#fdca26"
                          ],
                          [
                            1,
                            "#f0f921"
                          ]
                        ],
                        "type": "contour"
                      }
                    ],
                    "contourcarpet": [
                      {
                        "colorbar": {
                          "outlinewidth": 0,
                          "ticks": ""
                        },
                        "type": "contourcarpet"
                      }
                    ],
                    "heatmap": [
                      {
                        "colorbar": {
                          "outlinewidth": 0,
                          "ticks": ""
                        },
                        "colorscale": [
                          [
                            0,
                            "#0d0887"
                          ],
                          [
                            0.1111111111111111,
                            "#46039f"
                          ],
                          [
                            0.2222222222222222,
                            "#7201a8"
                          ],
                          [
                            0.3333333333333333,
                            "#9c179e"
                          ],
                          [
                            0.4444444444444444,
                            "#bd3786"
                          ],
                          [
                            0.5555555555555556,
                            "#d8576b"
                          ],
                          [
                            0.6666666666666666,
                            "#ed7953"
                          ],
                          [
                            0.7777777777777778,
                            "#fb9f3a"
                          ],
                          [
                            0.8888888888888888,
                            "#fdca26"
                          ],
                          [
                            1,
                            "#f0f921"
                          ]
                        ],
                        "type": "heatmap"
                      }
                    ],
                    "heatmapgl": [
                      {
                        "colorbar": {
                          "outlinewidth": 0,
                          "ticks": ""
                        },
                        "colorscale": [
                          [
                            0,
                            "#0d0887"
                          ],
                          [
                            0.1111111111111111,
                            "#46039f"
                          ],
                          [
                            0.2222222222222222,
                            "#7201a8"
                          ],
                          [
                            0.3333333333333333,
                            "#9c179e"
                          ],
                          [
                            0.4444444444444444,
                            "#bd3786"
                          ],
                          [
                            0.5555555555555556,
                            "#d8576b"
                          ],
                          [
                            0.6666666666666666,
                            "#ed7953"
                          ],
                          [
                            0.7777777777777778,
                            "#fb9f3a"
                          ],
                          [
                            0.8888888888888888,
                            "#fdca26"
                          ],
                          [
                            1,
                            "#f0f921"
                          ]
                        ],
                        "type": "heatmapgl"
                      }
                    ],
                    "histogram": [
                      {
                        "marker": {
                          "colorbar": {
                            "outlinewidth": 0,
                            "ticks": ""
                          }
                        },
                        "type": "histogram"
                      }
                    ],
                    "histogram2d": [
                      {
                        "colorbar": {
                          "outlinewidth": 0,
                          "ticks": ""
                        },
                        "colorscale": [
                          [
                            0,
                            "#0d0887"
                          ],
                          [
                            0.1111111111111111,
                            "#46039f"
                          ],
                          [
                            0.2222222222222222,
                            "#7201a8"
                          ],
                          [
                            0.3333333333333333,
                            "#9c179e"
                          ],
                          [
                            0.4444444444444444,
                            "#bd3786"
                          ],
                          [
                            0.5555555555555556,
                            "#d8576b"
                          ],
                          [
                            0.6666666666666666,
                            "#ed7953"
                          ],
                          [
                            0.7777777777777778,
                            "#fb9f3a"
                          ],
                          [
                            0.8888888888888888,
                            "#fdca26"
                          ],
                          [
                            1,
                            "#f0f921"
                          ]
                        ],
                        "type": "histogram2d"
                      }
                    ],
                    "histogram2dcontour": [
                      {
                        "colorbar": {
                          "outlinewidth": 0,
                          "ticks": ""
                        },
                        "colorscale": [
                          [
                            0,
                            "#0d0887"
                          ],
                          [
                            0.1111111111111111,
                            "#46039f"
                          ],
                          [
                            0.2222222222222222,
                            "#7201a8"
                          ],
                          [
                            0.3333333333333333,
                            "#9c179e"
                          ],
                          [
                            0.4444444444444444,
                            "#bd3786"
                          ],
                          [
                            0.5555555555555556,
                            "#d8576b"
                          ],
                          [
                            0.6666666666666666,
                            "#ed7953"
                          ],
                          [
                            0.7777777777777778,
                            "#fb9f3a"
                          ],
                          [
                            0.8888888888888888,
                            "#fdca26"
                          ],
                          [
                            1,
                            "#f0f921"
                          ]
                        ],
                        "type": "histogram2dcontour"
                      }
                    ],
                    "mesh3d": [
                      {
                        "colorbar": {
                          "outlinewidth": 0,
                          "ticks": ""
                        },
                        "type": "mesh3d"
                      }
                    ],
                    "parcoords": [
                      {
                        "line": {
                          "colorbar": {
                            "outlinewidth": 0,
                            "ticks": ""
                          }
                        },
                        "type": "parcoords"
                      }
                    ],
                    "pie": [
                      {
                        "automargin": true,
                        "type": "pie"
                      }
                    ],
                    "scatter": [
                      {
                        "marker": {
                          "colorbar": {
                            "outlinewidth": 0,
                            "ticks": ""
                          }
                        },
                        "type": "scatter"
                      }
                    ],
                    "scatter3d": [
                      {
                        "line": {
                          "colorbar": {
                            "outlinewidth": 0,
                            "ticks": ""
                          }
                        },
                        "marker": {
                          "colorbar": {
                            "outlinewidth": 0,
                            "ticks": ""
                          }
                        },
                        "type": "scatter3d"
                      }
                    ],
                    "scattercarpet": [
                      {
                        "marker": {
                          "colorbar": {
                            "outlinewidth": 0,
                            "ticks": ""
                          }
                        },
                        "type": "scattercarpet"
                      }
                    ],
                    "scattergeo": [
                      {
                        "marker": {
                          "colorbar": {
                            "outlinewidth": 0,
                            "ticks": ""
                          }
                        },
                        "type": "scattergeo"
                      }
                    ],
                    "scattergl": [
                      {
                        "marker": {
                          "colorbar": {
                            "outlinewidth": 0,
                            "ticks": ""
                          }
                        },
                        "type": "scattergl"
                      }
                    ],
                    "scattermapbox": [
                      {
                        "marker": {
                          "colorbar": {
                            "outlinewidth": 0,
                            "ticks": ""
                          }
                        },
                        "type": "scattermapbox"
                      }
                    ],
                    "scatterpolar": [
                      {
                        "marker": {
                          "colorbar": {
                            "outlinewidth": 0,
                            "ticks": ""
                          }
                        },
                        "type": "scatterpolar"
                      }
                    ],
                    "scatterpolargl": [
                      {
                        "marker": {
                          "colorbar": {
                            "outlinewidth": 0,
                            "ticks": ""
                          }
                        },
                        "type": "scatterpolargl"
                      }
                    ],
                    "scatterternary": [
                      {
                        "marker": {
                          "colorbar": {
                            "outlinewidth": 0,
                            "ticks": ""
                          }
                        },
                        "type": "scatterternary"
                      }
                    ],
                    "surface": [
                      {
                        "colorbar": {
                          "outlinewidth": 0,
                          "ticks": ""
                        },
                        "colorscale": [
                          [
                            0,
                            "#0d0887"
                          ],
                          [
                            0.1111111111111111,
                            "#46039f"
                          ],
                          [
                            0.2222222222222222,
                            "#7201a8"
                          ],
                          [
                            0.3333333333333333,
                            "#9c179e"
                          ],
                          [
                            0.4444444444444444,
                            "#bd3786"
                          ],
                          [
                            0.5555555555555556,
                            "#d8576b"
                          ],
                          [
                            0.6666666666666666,
                            "#ed7953"
                          ],
                          [
                            0.7777777777777778,
                            "#fb9f3a"
                          ],
                          [
                            0.8888888888888888,
                            "#fdca26"
                          ],
                          [
                            1,
                            "#f0f921"
                          ]
                        ],
                        "type": "surface"
                      }
                    ],
                    "table": [
                      {
                        "cells": {
                          "fill": {
                            "color": "#EBF0F8"
                          },
                          "line": {
                            "color": "white"
                          }
                        },
                        "header": {
                          "fill": {
                            "color": "#C8D4E3"
                          },
                          "line": {
                            "color": "white"
                          }
                        },
                        "type": "table"
                      }
                    ]
                  },
                  "layout": {
                    "annotationdefaults": {
                      "arrowcolor": "#2a3f5f",
                      "arrowhead": 0,
                      "arrowwidth": 1
                    },
                    "coloraxis": {
                      "colorbar": {
                        "outlinewidth": 0,
                        "ticks": ""
                      }
                    },
                    "colorscale": {
                      "diverging": [
                        [
                          0,
                          "#8e0152"
                        ],
                        [
                          0.1,
                          "#c51b7d"
                        ],
                        [
                          0.2,
                          "#de77ae"
                        ],
                        [
                          0.3,
                          "#f1b6da"
                        ],
                        [
                          0.4,
                          "#fde0ef"
                        ],
                        [
                          0.5,
                          "#f7f7f7"
                        ],
                        [
                          0.6,
                          "#e6f5d0"
                        ],
                        [
                          0.7,
                          "#b8e186"
                        ],
                        [
                          0.8,
                          "#7fbc41"
                        ],
                        [
                          0.9,
                          "#4d9221"
                        ],
                        [
                          1,
                          "#276419"
                        ]
                      ],
                      "sequential": [
                        [
                          0,
                          "#0d0887"
                        ],
                        [
                          0.1111111111111111,
                          "#46039f"
                        ],
                        [
                          0.2222222222222222,
                          "#7201a8"
                        ],
                        [
                          0.3333333333333333,
                          "#9c179e"
                        ],
                        [
                          0.4444444444444444,
                          "#bd3786"
                        ],
                        [
                          0.5555555555555556,
                          "#d8576b"
                        ],
                        [
                          0.6666666666666666,
                          "#ed7953"
                        ],
                        [
                          0.7777777777777778,
                          "#fb9f3a"
                        ],
                        [
                          0.8888888888888888,
                          "#fdca26"
                        ],
                        [
                          1,
                          "#f0f921"
                        ]
                      ],
                      "sequentialminus": [
                        [
                          0,
                          "#0d0887"
                        ],
                        [
                          0.1111111111111111,
                          "#46039f"
                        ],
                        [
                          0.2222222222222222,
                          "#7201a8"
                        ],
                        [
                          0.3333333333333333,
                          "#9c179e"
                        ],
                        [
                          0.4444444444444444,
                          "#bd3786"
                        ],
                        [
                          0.5555555555555556,
                          "#d8576b"
                        ],
                        [
                          0.6666666666666666,
                          "#ed7953"
                        ],
                        [
                          0.7777777777777778,
                          "#fb9f3a"
                        ],
                        [
                          0.8888888888888888,
                          "#fdca26"
                        ],
                        [
                          1,
                          "#f0f921"
                        ]
                      ]
                    },
                    "colorway": [
                      "#636efa",
                      "#EF553B",
                      "#00cc96",
                      "#ab63fa",
                      "#FFA15A",
                      "#19d3f3",
                      "#FF6692",
                      "#B6E880",
                      "#FF97FF",
                      "#FECB52"
                    ],
                    "font": {
                      "color": "#2a3f5f"
                    },
                    "geo": {
                      "bgcolor": "white",
                      "lakecolor": "white",
                      "landcolor": "#E5ECF6",
                      "showlakes": true,
                      "showland": true,
                      "subunitcolor": "white"
                    },
                    "hoverlabel": {
                      "align": "left"
                    },
                    "hovermode": "closest",
                    "mapbox": {
                      "style": "light"
                    },
                    "paper_bgcolor": "white",
                    "plot_bgcolor": "#E5ECF6",
                    "polar": {
                      "angularaxis": {
                        "gridcolor": "white",
                        "linecolor": "white",
                        "ticks": ""
                      },
                      "bgcolor": "#E5ECF6",
                      "radialaxis": {
                        "gridcolor": "white",
                        "linecolor": "white",
                        "ticks": ""
                      }
                    },
                    "scene": {
                      "xaxis": {
                        "backgroundcolor": "#E5ECF6",
                        "gridcolor": "white",
                        "gridwidth": 2,
                        "linecolor": "white",
                        "showbackground": true,
                        "ticks": "",
                        "zerolinecolor": "white"
                      },
                      "yaxis": {
                        "backgroundcolor": "#E5ECF6",
                        "gridcolor": "white",
                        "gridwidth": 2,
                        "linecolor": "white",
                        "showbackground": true,
                        "ticks": "",
                        "zerolinecolor": "white"
                      },
                      "zaxis": {
                        "backgroundcolor": "#E5ECF6",
                        "gridcolor": "white",
                        "gridwidth": 2,
                        "linecolor": "white",
                        "showbackground": true,
                        "ticks": "",
                        "zerolinecolor": "white"
                      }
                    },
                    "shapedefaults": {
                      "line": {
                        "color": "#2a3f5f"
                      }
                    },
                    "ternary": {
                      "aaxis": {
                        "gridcolor": "white",
                        "linecolor": "white",
                        "ticks": ""
                      },
                      "baxis": {
                        "gridcolor": "white",
                        "linecolor": "white",
                        "ticks": ""
                      },
                      "bgcolor": "#E5ECF6",
                      "caxis": {
                        "gridcolor": "white",
                        "linecolor": "white",
                        "ticks": ""
                      }
                    },
                    "title": {
                      "x": 0.05
                    },
                    "xaxis": {
                      "automargin": true,
                      "gridcolor": "white",
                      "linecolor": "white",
                      "ticks": "",
                      "title": {
                        "standoff": 15
                      },
                      "zerolinecolor": "white",
                      "zerolinewidth": 2
                    },
                    "yaxis": {
                      "automargin": true,
                      "gridcolor": "white",
                      "linecolor": "white",
                      "ticks": "",
                      "title": {
                        "standoff": 15
                      },
                      "zerolinecolor": "white",
                      "zerolinewidth": 2
                    }
                  }
                },
                "title": {
                  "text": "Smartphone Activity Label Distribution"
                },
                "xaxis": {
                  "title": {
                    "text": "Activity"
                  }
                },
                "yaxis": {
                  "title": {
                    "text": "Count"
                  }
                }
              }
            },
            "text/html": [
              "<div>\n",
              "        \n",
              "        \n",
              "            <div id=\"caaa6e05-9639-4e7c-9327-539d4007b798\" class=\"plotly-graph-div\" style=\"height:525px; width:100%;\"></div>\n",
              "            <script type=\"text/javascript\">\n",
              "                require([\"plotly\"], function(Plotly) {\n",
              "                    window.PLOTLYENV=window.PLOTLYENV || {};\n",
              "                    \n",
              "                if (document.getElementById(\"caaa6e05-9639-4e7c-9327-539d4007b798\")) {\n",
              "                    Plotly.newPlot(\n",
              "                        'caaa6e05-9639-4e7c-9327-539d4007b798',\n",
              "                        [{\"marker\": {\"color\": [\"#440154\", \"#414487\", \"#2a788e\", \"#22a884\", \"#7ad151\", \"#fde725\"]}, \"type\": \"bar\", \"x\": [\"LAYING\", \"STANDING\", \"SITTING\", \"WALKING\", \"WALKING_UPSTAIRS\", \"WALKING_DOWNSTAIRS\"], \"y\": [1944, 1906, 1777, 1722, 1544, 1406]}],\n",
              "                        {\"template\": {\"data\": {\"bar\": [{\"error_x\": {\"color\": \"#2a3f5f\"}, \"error_y\": {\"color\": \"#2a3f5f\"}, \"marker\": {\"line\": {\"color\": \"#E5ECF6\", \"width\": 0.5}}, \"type\": \"bar\"}], \"barpolar\": [{\"marker\": {\"line\": {\"color\": \"#E5ECF6\", \"width\": 0.5}}, \"type\": \"barpolar\"}], \"carpet\": [{\"aaxis\": {\"endlinecolor\": \"#2a3f5f\", \"gridcolor\": \"white\", \"linecolor\": \"white\", \"minorgridcolor\": \"white\", \"startlinecolor\": \"#2a3f5f\"}, \"baxis\": {\"endlinecolor\": \"#2a3f5f\", \"gridcolor\": \"white\", \"linecolor\": \"white\", \"minorgridcolor\": \"white\", \"startlinecolor\": \"#2a3f5f\"}, \"type\": \"carpet\"}], \"choropleth\": [{\"colorbar\": {\"outlinewidth\": 0, \"ticks\": \"\"}, \"type\": \"choropleth\"}], \"contour\": [{\"colorbar\": {\"outlinewidth\": 0, \"ticks\": \"\"}, \"colorscale\": [[0.0, \"#0d0887\"], [0.1111111111111111, \"#46039f\"], [0.2222222222222222, \"#7201a8\"], [0.3333333333333333, \"#9c179e\"], [0.4444444444444444, \"#bd3786\"], [0.5555555555555556, \"#d8576b\"], [0.6666666666666666, \"#ed7953\"], [0.7777777777777778, \"#fb9f3a\"], [0.8888888888888888, \"#fdca26\"], [1.0, \"#f0f921\"]], \"type\": \"contour\"}], \"contourcarpet\": [{\"colorbar\": {\"outlinewidth\": 0, \"ticks\": \"\"}, \"type\": \"contourcarpet\"}], \"heatmap\": [{\"colorbar\": {\"outlinewidth\": 0, \"ticks\": \"\"}, \"colorscale\": [[0.0, \"#0d0887\"], [0.1111111111111111, \"#46039f\"], [0.2222222222222222, \"#7201a8\"], [0.3333333333333333, \"#9c179e\"], [0.4444444444444444, \"#bd3786\"], [0.5555555555555556, \"#d8576b\"], [0.6666666666666666, \"#ed7953\"], [0.7777777777777778, \"#fb9f3a\"], [0.8888888888888888, \"#fdca26\"], [1.0, \"#f0f921\"]], \"type\": \"heatmap\"}], \"heatmapgl\": [{\"colorbar\": {\"outlinewidth\": 0, \"ticks\": \"\"}, \"colorscale\": [[0.0, \"#0d0887\"], [0.1111111111111111, \"#46039f\"], [0.2222222222222222, \"#7201a8\"], [0.3333333333333333, \"#9c179e\"], [0.4444444444444444, \"#bd3786\"], [0.5555555555555556, \"#d8576b\"], [0.6666666666666666, \"#ed7953\"], [0.7777777777777778, \"#fb9f3a\"], [0.8888888888888888, \"#fdca26\"], [1.0, \"#f0f921\"]], \"type\": \"heatmapgl\"}], \"histogram\": [{\"marker\": {\"colorbar\": {\"outlinewidth\": 0, \"ticks\": \"\"}}, \"type\": \"histogram\"}], \"histogram2d\": [{\"colorbar\": {\"outlinewidth\": 0, \"ticks\": \"\"}, \"colorscale\": [[0.0, \"#0d0887\"], [0.1111111111111111, \"#46039f\"], [0.2222222222222222, \"#7201a8\"], [0.3333333333333333, \"#9c179e\"], [0.4444444444444444, \"#bd3786\"], [0.5555555555555556, \"#d8576b\"], [0.6666666666666666, \"#ed7953\"], [0.7777777777777778, \"#fb9f3a\"], [0.8888888888888888, \"#fdca26\"], [1.0, \"#f0f921\"]], \"type\": \"histogram2d\"}], \"histogram2dcontour\": [{\"colorbar\": {\"outlinewidth\": 0, \"ticks\": \"\"}, \"colorscale\": [[0.0, \"#0d0887\"], [0.1111111111111111, \"#46039f\"], [0.2222222222222222, \"#7201a8\"], [0.3333333333333333, \"#9c179e\"], [0.4444444444444444, \"#bd3786\"], [0.5555555555555556, \"#d8576b\"], [0.6666666666666666, \"#ed7953\"], [0.7777777777777778, \"#fb9f3a\"], [0.8888888888888888, \"#fdca26\"], [1.0, \"#f0f921\"]], \"type\": \"histogram2dcontour\"}], \"mesh3d\": [{\"colorbar\": {\"outlinewidth\": 0, \"ticks\": \"\"}, \"type\": \"mesh3d\"}], \"parcoords\": [{\"line\": {\"colorbar\": {\"outlinewidth\": 0, \"ticks\": \"\"}}, \"type\": \"parcoords\"}], \"pie\": [{\"automargin\": true, \"type\": \"pie\"}], \"scatter\": [{\"marker\": {\"colorbar\": {\"outlinewidth\": 0, \"ticks\": \"\"}}, \"type\": \"scatter\"}], \"scatter3d\": [{\"line\": {\"colorbar\": {\"outlinewidth\": 0, \"ticks\": \"\"}}, \"marker\": {\"colorbar\": {\"outlinewidth\": 0, \"ticks\": \"\"}}, \"type\": \"scatter3d\"}], \"scattercarpet\": [{\"marker\": {\"colorbar\": {\"outlinewidth\": 0, \"ticks\": \"\"}}, \"type\": \"scattercarpet\"}], \"scattergeo\": [{\"marker\": {\"colorbar\": {\"outlinewidth\": 0, \"ticks\": \"\"}}, \"type\": \"scattergeo\"}], \"scattergl\": [{\"marker\": {\"colorbar\": {\"outlinewidth\": 0, \"ticks\": \"\"}}, \"type\": \"scattergl\"}], \"scattermapbox\": [{\"marker\": {\"colorbar\": {\"outlinewidth\": 0, \"ticks\": \"\"}}, \"type\": \"scattermapbox\"}], \"scatterpolar\": [{\"marker\": {\"colorbar\": {\"outlinewidth\": 0, \"ticks\": \"\"}}, \"type\": \"scatterpolar\"}], \"scatterpolargl\": [{\"marker\": {\"colorbar\": {\"outlinewidth\": 0, \"ticks\": \"\"}}, \"type\": \"scatterpolargl\"}], \"scatterternary\": [{\"marker\": {\"colorbar\": {\"outlinewidth\": 0, \"ticks\": \"\"}}, \"type\": \"scatterternary\"}], \"surface\": [{\"colorbar\": {\"outlinewidth\": 0, \"ticks\": \"\"}, \"colorscale\": [[0.0, \"#0d0887\"], [0.1111111111111111, \"#46039f\"], [0.2222222222222222, \"#7201a8\"], [0.3333333333333333, \"#9c179e\"], [0.4444444444444444, \"#bd3786\"], [0.5555555555555556, \"#d8576b\"], [0.6666666666666666, \"#ed7953\"], [0.7777777777777778, \"#fb9f3a\"], [0.8888888888888888, \"#fdca26\"], [1.0, \"#f0f921\"]], \"type\": \"surface\"}], \"table\": [{\"cells\": {\"fill\": {\"color\": \"#EBF0F8\"}, \"line\": {\"color\": \"white\"}}, \"header\": {\"fill\": {\"color\": \"#C8D4E3\"}, \"line\": {\"color\": \"white\"}}, \"type\": \"table\"}]}, \"layout\": {\"annotationdefaults\": {\"arrowcolor\": \"#2a3f5f\", \"arrowhead\": 0, \"arrowwidth\": 1}, \"coloraxis\": {\"colorbar\": {\"outlinewidth\": 0, \"ticks\": \"\"}}, \"colorscale\": {\"diverging\": [[0, \"#8e0152\"], [0.1, \"#c51b7d\"], [0.2, \"#de77ae\"], [0.3, \"#f1b6da\"], [0.4, \"#fde0ef\"], [0.5, \"#f7f7f7\"], [0.6, \"#e6f5d0\"], [0.7, \"#b8e186\"], [0.8, \"#7fbc41\"], [0.9, \"#4d9221\"], [1, \"#276419\"]], \"sequential\": [[0.0, \"#0d0887\"], [0.1111111111111111, \"#46039f\"], [0.2222222222222222, \"#7201a8\"], [0.3333333333333333, \"#9c179e\"], [0.4444444444444444, \"#bd3786\"], [0.5555555555555556, \"#d8576b\"], [0.6666666666666666, \"#ed7953\"], [0.7777777777777778, \"#fb9f3a\"], [0.8888888888888888, \"#fdca26\"], [1.0, \"#f0f921\"]], \"sequentialminus\": [[0.0, \"#0d0887\"], [0.1111111111111111, \"#46039f\"], [0.2222222222222222, \"#7201a8\"], [0.3333333333333333, \"#9c179e\"], [0.4444444444444444, \"#bd3786\"], [0.5555555555555556, \"#d8576b\"], [0.6666666666666666, \"#ed7953\"], [0.7777777777777778, \"#fb9f3a\"], [0.8888888888888888, \"#fdca26\"], [1.0, \"#f0f921\"]]}, \"colorway\": [\"#636efa\", \"#EF553B\", \"#00cc96\", \"#ab63fa\", \"#FFA15A\", \"#19d3f3\", \"#FF6692\", \"#B6E880\", \"#FF97FF\", \"#FECB52\"], \"font\": {\"color\": \"#2a3f5f\"}, \"geo\": {\"bgcolor\": \"white\", \"lakecolor\": \"white\", \"landcolor\": \"#E5ECF6\", \"showlakes\": true, \"showland\": true, \"subunitcolor\": \"white\"}, \"hoverlabel\": {\"align\": \"left\"}, \"hovermode\": \"closest\", \"mapbox\": {\"style\": \"light\"}, \"paper_bgcolor\": \"white\", \"plot_bgcolor\": \"#E5ECF6\", \"polar\": {\"angularaxis\": {\"gridcolor\": \"white\", \"linecolor\": \"white\", \"ticks\": \"\"}, \"bgcolor\": \"#E5ECF6\", \"radialaxis\": {\"gridcolor\": \"white\", \"linecolor\": \"white\", \"ticks\": \"\"}}, \"scene\": {\"xaxis\": {\"backgroundcolor\": \"#E5ECF6\", \"gridcolor\": \"white\", \"gridwidth\": 2, \"linecolor\": \"white\", \"showbackground\": true, \"ticks\": \"\", \"zerolinecolor\": \"white\"}, \"yaxis\": {\"backgroundcolor\": \"#E5ECF6\", \"gridcolor\": \"white\", \"gridwidth\": 2, \"linecolor\": \"white\", \"showbackground\": true, \"ticks\": \"\", \"zerolinecolor\": \"white\"}, \"zaxis\": {\"backgroundcolor\": \"#E5ECF6\", \"gridcolor\": \"white\", \"gridwidth\": 2, \"linecolor\": \"white\", \"showbackground\": true, \"ticks\": \"\", \"zerolinecolor\": \"white\"}}, \"shapedefaults\": {\"line\": {\"color\": \"#2a3f5f\"}}, \"ternary\": {\"aaxis\": {\"gridcolor\": \"white\", \"linecolor\": \"white\", \"ticks\": \"\"}, \"baxis\": {\"gridcolor\": \"white\", \"linecolor\": \"white\", \"ticks\": \"\"}, \"bgcolor\": \"#E5ECF6\", \"caxis\": {\"gridcolor\": \"white\", \"linecolor\": \"white\", \"ticks\": \"\"}}, \"title\": {\"x\": 0.05}, \"xaxis\": {\"automargin\": true, \"gridcolor\": \"white\", \"linecolor\": \"white\", \"ticks\": \"\", \"title\": {\"standoff\": 15}, \"zerolinecolor\": \"white\", \"zerolinewidth\": 2}, \"yaxis\": {\"automargin\": true, \"gridcolor\": \"white\", \"linecolor\": \"white\", \"ticks\": \"\", \"title\": {\"standoff\": 15}, \"zerolinecolor\": \"white\", \"zerolinewidth\": 2}}}, \"title\": {\"text\": \"Smartphone Activity Label Distribution\"}, \"xaxis\": {\"title\": {\"text\": \"Activity\"}}, \"yaxis\": {\"title\": {\"text\": \"Count\"}}},\n",
              "                        {\"responsive\": true}\n",
              "                    ).then(function(){\n",
              "                            \n",
              "var gd = document.getElementById('caaa6e05-9639-4e7c-9327-539d4007b798');\n",
              "var x = new MutationObserver(function (mutations, observer) {{\n",
              "        var display = window.getComputedStyle(gd).display;\n",
              "        if (!display || display === 'none') {{\n",
              "            console.log([gd, 'removed!']);\n",
              "            Plotly.purge(gd);\n",
              "            observer.disconnect();\n",
              "        }}\n",
              "}});\n",
              "\n",
              "// Listen for the removal of the full notebook cells\n",
              "var notebookContainer = gd.closest('#notebook-container');\n",
              "if (notebookContainer) {{\n",
              "    x.observe(notebookContainer, {childList: true});\n",
              "}}\n",
              "\n",
              "// Listen for the clearing of the current output cell\n",
              "var outputEl = gd.closest('.output');\n",
              "if (outputEl) {{\n",
              "    x.observe(outputEl, {childList: true});\n",
              "}}\n",
              "\n",
              "                        })\n",
              "                };\n",
              "                });\n",
              "            </script>\n",
              "        </div>"
            ]
          },
          "metadata": {
            "tags": []
          }
        }
      ]
    },
    {
      "cell_type": "code",
      "metadata": {
        "id": "T9LmczyzXOKR"
      },
      "source": [
        "# # Create datasets\n",
        "# tsne_data = both_df.copy()\n",
        "# data_data = tsne_data.pop('Data')\n",
        "# subject_data = tsne_data.pop('subject')\n",
        "\n",
        "# # Scale data\n",
        "# scl = StandardScaler()\n",
        "# tsne_data = scl.fit_transform(tsne_data)\n",
        "\n",
        "# # Reduce dimensions (speed up)\n",
        "# pca = PCA(n_components=0.9, random_state=3)\n",
        "# tsne_data = pca.fit_transform(tsne_data)\n",
        "\n",
        "# # Transform data\n",
        "# tsne = TSNE(random_state=3)\n",
        "# tsne_transformed = tsne.fit_transform(tsne_data)\n",
        "\n",
        "\n",
        "# # Create subplots\n",
        "# #fig, axarr = plt.subplots(2, figsize=(15,10))\n",
        "\n",
        "# axarr = plt.subplots(2, figsize=(15,10))\n",
        "# fig, axarr = axarr[0], axarr[1:]\n",
        "\n",
        "\n",
        "# ### Plot Activities\n",
        "# # Get colors\n",
        "# n = label.unique().shape[0]\n",
        "# colormap = get_cmap('viridis')\n",
        "# colors = [rgb2hex(colormap(col)) for col in np.arange(0, 1.01, 1/(n-1))]\n",
        "\n",
        "# # Plot each activity\n",
        "# for i, group in enumerate(label_counts.index):\n",
        "#     # Mask to separate sets\n",
        "#     mask = (label==group).values\n",
        "#     axarr[0].scatter(x=tsne_transformed[mask][:,0], y=tsne_transformed[mask][:,1], c=colors[i], alpha=0.5, label=group)\n",
        "# axarr[0].set_title('t-SNE: Activity Visualisation')\n",
        "# axarr[0].legend()\n",
        "\n",
        "\n",
        "# ### Plot Subjects\n",
        "# # Get colors\n",
        "# n = subject_data.unique().shape[0]\n",
        "# colormap = get_cmap('gist_ncar')\n",
        "# colors = [rgb2hex(colormap(col)) for col in np.arange(0, 1.01, 1/(n-1))]\n",
        "\n",
        "# # Plot each participant\n",
        "# for i, group in enumerate(subject_data.unique()):\n",
        "#     # Mask to separate sets\n",
        "#     mask = (subject_data==group).values\n",
        "#     axarr[1].scatter(x=tsne_transformed[mask][:,0], y=tsne_transformed[mask][:,1], c=colors[i], alpha=0.5, label=group)\n",
        "\n",
        "# axarr[1].set_title('t-SNE: Participant Visualisation')\n",
        "# plt.show()"
      ],
      "execution_count": null,
      "outputs": []
    },
    {
      "cell_type": "code",
      "metadata": {
        "colab": {
          "base_uri": "https://localhost:8080/"
        },
        "id": "GGV1-ttSXONP",
        "outputId": "6e54ca22-7688-43e0-af81-e0d4961b561f"
      },
      "source": [
        "feature_cols = train.columns[: -1]   #exclude the Activity column\n",
        "#Calculate the correlation values\n",
        "correlated_values = train[feature_cols].corr()\n",
        "#stack the data and convert to a dataframe\n",
        "\n",
        "correlated_values = (correlated_values.stack().to_frame().reset_index()\n",
        "                    .rename(columns={'level_0': 'Feature_1', 'level_1': 'Feature_2', 0:'Correlations'}))\n",
        "correlated_values.head()"
      ],
      "execution_count": null,
      "outputs": [
        {
          "output_type": "execute_result",
          "data": {
            "text/html": [
              "<div>\n",
              "<style scoped>\n",
              "    .dataframe tbody tr th:only-of-type {\n",
              "        vertical-align: middle;\n",
              "    }\n",
              "\n",
              "    .dataframe tbody tr th {\n",
              "        vertical-align: top;\n",
              "    }\n",
              "\n",
              "    .dataframe thead th {\n",
              "        text-align: right;\n",
              "    }\n",
              "</style>\n",
              "<table border=\"1\" class=\"dataframe\">\n",
              "  <thead>\n",
              "    <tr style=\"text-align: right;\">\n",
              "      <th></th>\n",
              "      <th>Feature_1</th>\n",
              "      <th>Feature_2</th>\n",
              "      <th>Correlations</th>\n",
              "    </tr>\n",
              "  </thead>\n",
              "  <tbody>\n",
              "    <tr>\n",
              "      <th>0</th>\n",
              "      <td>tBodyAcc-mean()-X</td>\n",
              "      <td>tBodyAcc-mean()-X</td>\n",
              "      <td>1.000000</td>\n",
              "    </tr>\n",
              "    <tr>\n",
              "      <th>1</th>\n",
              "      <td>tBodyAcc-mean()-X</td>\n",
              "      <td>tBodyAcc-mean()-Y</td>\n",
              "      <td>0.148061</td>\n",
              "    </tr>\n",
              "    <tr>\n",
              "      <th>2</th>\n",
              "      <td>tBodyAcc-mean()-X</td>\n",
              "      <td>tBodyAcc-mean()-Z</td>\n",
              "      <td>-0.256952</td>\n",
              "    </tr>\n",
              "    <tr>\n",
              "      <th>3</th>\n",
              "      <td>tBodyAcc-mean()-X</td>\n",
              "      <td>tBodyAcc-std()-X</td>\n",
              "      <td>0.000619</td>\n",
              "    </tr>\n",
              "    <tr>\n",
              "      <th>4</th>\n",
              "      <td>tBodyAcc-mean()-X</td>\n",
              "      <td>tBodyAcc-std()-Y</td>\n",
              "      <td>-0.021903</td>\n",
              "    </tr>\n",
              "  </tbody>\n",
              "</table>\n",
              "</div>"
            ],
            "text/plain": [
              "           Feature_1          Feature_2  Correlations\n",
              "0  tBodyAcc-mean()-X  tBodyAcc-mean()-X      1.000000\n",
              "1  tBodyAcc-mean()-X  tBodyAcc-mean()-Y      0.148061\n",
              "2  tBodyAcc-mean()-X  tBodyAcc-mean()-Z     -0.256952\n",
              "3  tBodyAcc-mean()-X   tBodyAcc-std()-X      0.000619\n",
              "4  tBodyAcc-mean()-X   tBodyAcc-std()-Y     -0.021903"
            ]
          },
          "metadata": {
            "tags": []
          },
          "execution_count": 13
        }
      ]
    },
    {
      "cell_type": "code",
      "metadata": {
        "colab": {
          "base_uri": "https://localhost:8080/"
        },
        "id": "-NXWf69ZXOQV",
        "outputId": "fda3711f-68cb-46fd-f079-db3c057946e9"
      },
      "source": [
        "#create an abs_correlation column\n",
        "correlated_values['abs_correlation'] = correlated_values.Correlations.abs()\n",
        "correlated_values.head()"
      ],
      "execution_count": null,
      "outputs": [
        {
          "output_type": "execute_result",
          "data": {
            "text/html": [
              "<div>\n",
              "<style scoped>\n",
              "    .dataframe tbody tr th:only-of-type {\n",
              "        vertical-align: middle;\n",
              "    }\n",
              "\n",
              "    .dataframe tbody tr th {\n",
              "        vertical-align: top;\n",
              "    }\n",
              "\n",
              "    .dataframe thead th {\n",
              "        text-align: right;\n",
              "    }\n",
              "</style>\n",
              "<table border=\"1\" class=\"dataframe\">\n",
              "  <thead>\n",
              "    <tr style=\"text-align: right;\">\n",
              "      <th></th>\n",
              "      <th>Feature_1</th>\n",
              "      <th>Feature_2</th>\n",
              "      <th>Correlations</th>\n",
              "      <th>abs_correlation</th>\n",
              "    </tr>\n",
              "  </thead>\n",
              "  <tbody>\n",
              "    <tr>\n",
              "      <th>0</th>\n",
              "      <td>tBodyAcc-mean()-X</td>\n",
              "      <td>tBodyAcc-mean()-X</td>\n",
              "      <td>1.000000</td>\n",
              "      <td>1.000000</td>\n",
              "    </tr>\n",
              "    <tr>\n",
              "      <th>1</th>\n",
              "      <td>tBodyAcc-mean()-X</td>\n",
              "      <td>tBodyAcc-mean()-Y</td>\n",
              "      <td>0.148061</td>\n",
              "      <td>0.148061</td>\n",
              "    </tr>\n",
              "    <tr>\n",
              "      <th>2</th>\n",
              "      <td>tBodyAcc-mean()-X</td>\n",
              "      <td>tBodyAcc-mean()-Z</td>\n",
              "      <td>-0.256952</td>\n",
              "      <td>0.256952</td>\n",
              "    </tr>\n",
              "    <tr>\n",
              "      <th>3</th>\n",
              "      <td>tBodyAcc-mean()-X</td>\n",
              "      <td>tBodyAcc-std()-X</td>\n",
              "      <td>0.000619</td>\n",
              "      <td>0.000619</td>\n",
              "    </tr>\n",
              "    <tr>\n",
              "      <th>4</th>\n",
              "      <td>tBodyAcc-mean()-X</td>\n",
              "      <td>tBodyAcc-std()-Y</td>\n",
              "      <td>-0.021903</td>\n",
              "      <td>0.021903</td>\n",
              "    </tr>\n",
              "  </tbody>\n",
              "</table>\n",
              "</div>"
            ],
            "text/plain": [
              "           Feature_1          Feature_2  Correlations  abs_correlation\n",
              "0  tBodyAcc-mean()-X  tBodyAcc-mean()-X      1.000000         1.000000\n",
              "1  tBodyAcc-mean()-X  tBodyAcc-mean()-Y      0.148061         0.148061\n",
              "2  tBodyAcc-mean()-X  tBodyAcc-mean()-Z     -0.256952         0.256952\n",
              "3  tBodyAcc-mean()-X   tBodyAcc-std()-X      0.000619         0.000619\n",
              "4  tBodyAcc-mean()-X   tBodyAcc-std()-Y     -0.021903         0.021903"
            ]
          },
          "metadata": {
            "tags": []
          },
          "execution_count": 14
        }
      ]
    },
    {
      "cell_type": "code",
      "metadata": {
        "colab": {
          "base_uri": "https://localhost:8080/"
        },
        "id": "ZkzT_8shXOTb",
        "outputId": "29b0ef78-49eb-43e4-e42c-8a87bcb9d020"
      },
      "source": [
        "#Picking most correlated features\n",
        "train_fields = correlated_values.sort_values('Correlations', ascending = False).query('abs_correlation>0.8')\n",
        "train_fields.sample(5)"
      ],
      "execution_count": null,
      "outputs": [
        {
          "output_type": "execute_result",
          "data": {
            "text/html": [
              "<div>\n",
              "<style scoped>\n",
              "    .dataframe tbody tr th:only-of-type {\n",
              "        vertical-align: middle;\n",
              "    }\n",
              "\n",
              "    .dataframe tbody tr th {\n",
              "        vertical-align: top;\n",
              "    }\n",
              "\n",
              "    .dataframe thead th {\n",
              "        text-align: right;\n",
              "    }\n",
              "</style>\n",
              "<table border=\"1\" class=\"dataframe\">\n",
              "  <thead>\n",
              "    <tr style=\"text-align: right;\">\n",
              "      <th></th>\n",
              "      <th>Feature_1</th>\n",
              "      <th>Feature_2</th>\n",
              "      <th>Correlations</th>\n",
              "      <th>abs_correlation</th>\n",
              "    </tr>\n",
              "  </thead>\n",
              "  <tbody>\n",
              "    <tr>\n",
              "      <th>282653</th>\n",
              "      <td>fBodyAccMag-mean()</td>\n",
              "      <td>fBodyBodyGyroMag-std()</td>\n",
              "      <td>0.861804</td>\n",
              "      <td>0.861804</td>\n",
              "    </tr>\n",
              "    <tr>\n",
              "      <th>50933</th>\n",
              "      <td>tBodyAccJerk-max()-Y</td>\n",
              "      <td>fBodyAccJerk-max()-X</td>\n",
              "      <td>0.887934</td>\n",
              "      <td>0.887934</td>\n",
              "    </tr>\n",
              "    <tr>\n",
              "      <th>8837</th>\n",
              "      <td>tBodyAcc-sma()</td>\n",
              "      <td>fBodyAccJerk-bandsEnergy()-1,24.1</td>\n",
              "      <td>0.839024</td>\n",
              "      <td>0.839024</td>\n",
              "    </tr>\n",
              "    <tr>\n",
              "      <th>292474</th>\n",
              "      <td>fBodyBodyAccJerkMag-sma()</td>\n",
              "      <td>tBodyAccJerkMag-entropy()</td>\n",
              "      <td>0.930540</td>\n",
              "      <td>0.930540</td>\n",
              "    </tr>\n",
              "    <tr>\n",
              "      <th>53665</th>\n",
              "      <td>tBodyAccJerk-sma()</td>\n",
              "      <td>fBodyAcc-max()-Y</td>\n",
              "      <td>0.868040</td>\n",
              "      <td>0.868040</td>\n",
              "    </tr>\n",
              "  </tbody>\n",
              "</table>\n",
              "</div>"
            ],
            "text/plain": [
              "                        Feature_1  ... abs_correlation\n",
              "282653         fBodyAccMag-mean()  ...        0.861804\n",
              "50933        tBodyAccJerk-max()-Y  ...        0.887934\n",
              "8837               tBodyAcc-sma()  ...        0.839024\n",
              "292474  fBodyBodyAccJerkMag-sma()  ...        0.930540\n",
              "53665          tBodyAccJerk-sma()  ...        0.868040\n",
              "\n",
              "[5 rows x 4 columns]"
            ]
          },
          "metadata": {
            "tags": []
          },
          "execution_count": 15
        }
      ]
    },
    {
      "cell_type": "code",
      "metadata": {
        "id": "a3EMpIWcXOWB"
      },
      "source": [
        "# import libraries for visualization\n",
        "import matplotlib.pyplot as plt\n",
        "import seaborn as sns\n",
        "\n",
        "sns.set_style('whitegrid')\n",
        "plt.rcParams['font.family'] = 'Dejavu Sans'"
      ],
      "execution_count": null,
      "outputs": []
    },
    {
      "cell_type": "code",
      "metadata": {
        "colab": {
          "base_uri": "https://localhost:8080/"
        },
        "id": "IKTQFRHWXOZC",
        "outputId": "59d140a2-1ebc-4b2b-feb8-fd7610c65905"
      },
      "source": [
        "plt.figure(figsize=(16,8))\n",
        "plt.title('Data provided by each user', fontsize=20)\n",
        "sns.countplot(x='subject',hue='Activity', data = train)\n",
        "plt.show()"
      ],
      "execution_count": null,
      "outputs": [
        {
          "output_type": "display_data",
          "data": {
            "image/png": "[encoded data removed]",
            "text/plain": [
              "<Figure size 1152x576 with 1 Axes>"
            ]
          },
          "metadata": {
            "tags": []
          }
        }
      ]
    },
    {
      "cell_type": "code",
      "metadata": {
        "id": "TeF6n65P1EVj"
      },
      "source": [
        ""
      ],
      "execution_count": null,
      "outputs": []
    },
    {
      "cell_type": "markdown",
      "metadata": {
        "id": "e3Hv879f1Zpn"
      },
      "source": [
        "# Functions\n"
      ]
    },
    {
      "cell_type": "code",
      "metadata": {
        "id": "JMNLhA2h1gsL"
      },
      "source": [
        "# get X_train and y_train from csv files\n",
        "X_train = train.drop(['subject', 'Activity', 'Data'], axis=1)\n",
        "y_train = train.Activity"
      ],
      "execution_count": null,
      "outputs": []
    },
    {
      "cell_type": "code",
      "metadata": {
        "colab": {
          "base_uri": "https://localhost:8080/",
          "height": 286
        },
        "id": "9-3487Fo1l_F",
        "outputId": "0d96cf2e-e3b7-4430-85dc-5d108a37088b"
      },
      "source": [
        "X_train.head()"
      ],
      "execution_count": null,
      "outputs": [
        {
          "output_type": "execute_result",
          "data": {
            "text/html": [
              "<div>\n",
              "<style scoped>\n",
              "    .dataframe tbody tr th:only-of-type {\n",
              "        vertical-align: middle;\n",
              "    }\n",
              "\n",
              "    .dataframe tbody tr th {\n",
              "        vertical-align: top;\n",
              "    }\n",
              "\n",
              "    .dataframe thead th {\n",
              "        text-align: right;\n",
              "    }\n",
              "</style>\n",
              "<table border=\"1\" class=\"dataframe\">\n",
              "  <thead>\n",
              "    <tr style=\"text-align: right;\">\n",
              "      <th></th>\n",
              "      <th>tBodyAcc-mean()-X</th>\n",
              "      <th>tBodyAcc-mean()-Y</th>\n",
              "      <th>tBodyAcc-mean()-Z</th>\n",
              "      <th>tBodyAcc-std()-X</th>\n",
              "      <th>tBodyAcc-std()-Y</th>\n",
              "      <th>tBodyAcc-std()-Z</th>\n",
              "      <th>tBodyAcc-mad()-X</th>\n",
              "      <th>tBodyAcc-mad()-Y</th>\n",
              "      <th>tBodyAcc-mad()-Z</th>\n",
              "      <th>tBodyAcc-max()-X</th>\n",
              "      <th>tBodyAcc-max()-Y</th>\n",
              "      <th>tBodyAcc-max()-Z</th>\n",
              "      <th>tBodyAcc-min()-X</th>\n",
              "      <th>tBodyAcc-min()-Y</th>\n",
              "      <th>tBodyAcc-min()-Z</th>\n",
              "      <th>tBodyAcc-sma()</th>\n",
              "      <th>tBodyAcc-energy()-X</th>\n",
              "      <th>tBodyAcc-energy()-Y</th>\n",
              "      <th>tBodyAcc-energy()-Z</th>\n",
              "      <th>tBodyAcc-iqr()-X</th>\n",
              "      <th>tBodyAcc-iqr()-Y</th>\n",
              "      <th>tBodyAcc-iqr()-Z</th>\n",
              "      <th>tBodyAcc-entropy()-X</th>\n",
              "      <th>tBodyAcc-entropy()-Y</th>\n",
              "      <th>tBodyAcc-entropy()-Z</th>\n",
              "      <th>tBodyAcc-arCoeff()-X,1</th>\n",
              "      <th>tBodyAcc-arCoeff()-X,2</th>\n",
              "      <th>tBodyAcc-arCoeff()-X,3</th>\n",
              "      <th>tBodyAcc-arCoeff()-X,4</th>\n",
              "      <th>tBodyAcc-arCoeff()-Y,1</th>\n",
              "      <th>tBodyAcc-arCoeff()-Y,2</th>\n",
              "      <th>tBodyAcc-arCoeff()-Y,3</th>\n",
              "      <th>tBodyAcc-arCoeff()-Y,4</th>\n",
              "      <th>tBodyAcc-arCoeff()-Z,1</th>\n",
              "      <th>tBodyAcc-arCoeff()-Z,2</th>\n",
              "      <th>tBodyAcc-arCoeff()-Z,3</th>\n",
              "      <th>tBodyAcc-arCoeff()-Z,4</th>\n",
              "      <th>tBodyAcc-correlation()-X,Y</th>\n",
              "      <th>tBodyAcc-correlation()-X,Z</th>\n",
              "      <th>tBodyAcc-correlation()-Y,Z</th>\n",
              "      <th>...</th>\n",
              "      <th>fBodyBodyAccJerkMag-energy()</th>\n",
              "      <th>fBodyBodyAccJerkMag-iqr()</th>\n",
              "      <th>fBodyBodyAccJerkMag-entropy()</th>\n",
              "      <th>fBodyBodyAccJerkMag-maxInds</th>\n",
              "      <th>fBodyBodyAccJerkMag-meanFreq()</th>\n",
              "      <th>fBodyBodyAccJerkMag-skewness()</th>\n",
              "      <th>fBodyBodyAccJerkMag-kurtosis()</th>\n",
              "      <th>fBodyBodyGyroMag-mean()</th>\n",
              "      <th>fBodyBodyGyroMag-std()</th>\n",
              "      <th>fBodyBodyGyroMag-mad()</th>\n",
              "      <th>fBodyBodyGyroMag-max()</th>\n",
              "      <th>fBodyBodyGyroMag-min()</th>\n",
              "      <th>fBodyBodyGyroMag-sma()</th>\n",
              "      <th>fBodyBodyGyroMag-energy()</th>\n",
              "      <th>fBodyBodyGyroMag-iqr()</th>\n",
              "      <th>fBodyBodyGyroMag-entropy()</th>\n",
              "      <th>fBodyBodyGyroMag-maxInds</th>\n",
              "      <th>fBodyBodyGyroMag-meanFreq()</th>\n",
              "      <th>fBodyBodyGyroMag-skewness()</th>\n",
              "      <th>fBodyBodyGyroMag-kurtosis()</th>\n",
              "      <th>fBodyBodyGyroJerkMag-mean()</th>\n",
              "      <th>fBodyBodyGyroJerkMag-std()</th>\n",
              "      <th>fBodyBodyGyroJerkMag-mad()</th>\n",
              "      <th>fBodyBodyGyroJerkMag-max()</th>\n",
              "      <th>fBodyBodyGyroJerkMag-min()</th>\n",
              "      <th>fBodyBodyGyroJerkMag-sma()</th>\n",
              "      <th>fBodyBodyGyroJerkMag-energy()</th>\n",
              "      <th>fBodyBodyGyroJerkMag-iqr()</th>\n",
              "      <th>fBodyBodyGyroJerkMag-entropy()</th>\n",
              "      <th>fBodyBodyGyroJerkMag-maxInds</th>\n",
              "      <th>fBodyBodyGyroJerkMag-meanFreq()</th>\n",
              "      <th>fBodyBodyGyroJerkMag-skewness()</th>\n",
              "      <th>fBodyBodyGyroJerkMag-kurtosis()</th>\n",
              "      <th>angle(tBodyAccMean,gravity)</th>\n",
              "      <th>angle(tBodyAccJerkMean),gravityMean)</th>\n",
              "      <th>angle(tBodyGyroMean,gravityMean)</th>\n",
              "      <th>angle(tBodyGyroJerkMean,gravityMean)</th>\n",
              "      <th>angle(X,gravityMean)</th>\n",
              "      <th>angle(Y,gravityMean)</th>\n",
              "      <th>angle(Z,gravityMean)</th>\n",
              "    </tr>\n",
              "  </thead>\n",
              "  <tbody>\n",
              "    <tr>\n",
              "      <th>0</th>\n",
              "      <td>0.288585</td>\n",
              "      <td>-0.020294</td>\n",
              "      <td>-0.132905</td>\n",
              "      <td>-0.995279</td>\n",
              "      <td>-0.983111</td>\n",
              "      <td>-0.913526</td>\n",
              "      <td>-0.995112</td>\n",
              "      <td>-0.983185</td>\n",
              "      <td>-0.923527</td>\n",
              "      <td>-0.934724</td>\n",
              "      <td>-0.567378</td>\n",
              "      <td>-0.744413</td>\n",
              "      <td>0.852947</td>\n",
              "      <td>0.685845</td>\n",
              "      <td>0.814263</td>\n",
              "      <td>-0.965523</td>\n",
              "      <td>-0.999945</td>\n",
              "      <td>-0.999863</td>\n",
              "      <td>-0.994612</td>\n",
              "      <td>-0.994231</td>\n",
              "      <td>-0.987614</td>\n",
              "      <td>-0.943220</td>\n",
              "      <td>-0.407747</td>\n",
              "      <td>-0.679338</td>\n",
              "      <td>-0.602122</td>\n",
              "      <td>0.929294</td>\n",
              "      <td>-0.853011</td>\n",
              "      <td>0.359910</td>\n",
              "      <td>-0.058526</td>\n",
              "      <td>0.256892</td>\n",
              "      <td>-0.224848</td>\n",
              "      <td>0.264106</td>\n",
              "      <td>-0.095246</td>\n",
              "      <td>0.278851</td>\n",
              "      <td>-0.465085</td>\n",
              "      <td>0.491936</td>\n",
              "      <td>-0.190884</td>\n",
              "      <td>0.376314</td>\n",
              "      <td>0.435129</td>\n",
              "      <td>0.660790</td>\n",
              "      <td>...</td>\n",
              "      <td>-0.999918</td>\n",
              "      <td>-0.991364</td>\n",
              "      <td>-1.0</td>\n",
              "      <td>-0.936508</td>\n",
              "      <td>0.346989</td>\n",
              "      <td>-0.516080</td>\n",
              "      <td>-0.802760</td>\n",
              "      <td>-0.980135</td>\n",
              "      <td>-0.961309</td>\n",
              "      <td>-0.973653</td>\n",
              "      <td>-0.952264</td>\n",
              "      <td>-0.989498</td>\n",
              "      <td>-0.980135</td>\n",
              "      <td>-0.999240</td>\n",
              "      <td>-0.992656</td>\n",
              "      <td>-0.701291</td>\n",
              "      <td>-1.000000</td>\n",
              "      <td>-0.128989</td>\n",
              "      <td>0.586156</td>\n",
              "      <td>0.374605</td>\n",
              "      <td>-0.991990</td>\n",
              "      <td>-0.990697</td>\n",
              "      <td>-0.989941</td>\n",
              "      <td>-0.992448</td>\n",
              "      <td>-0.991048</td>\n",
              "      <td>-0.991990</td>\n",
              "      <td>-0.999937</td>\n",
              "      <td>-0.990458</td>\n",
              "      <td>-0.871306</td>\n",
              "      <td>-1.000000</td>\n",
              "      <td>-0.074323</td>\n",
              "      <td>-0.298676</td>\n",
              "      <td>-0.710304</td>\n",
              "      <td>-0.112754</td>\n",
              "      <td>0.030400</td>\n",
              "      <td>-0.464761</td>\n",
              "      <td>-0.018446</td>\n",
              "      <td>-0.841247</td>\n",
              "      <td>0.179941</td>\n",
              "      <td>-0.058627</td>\n",
              "    </tr>\n",
              "    <tr>\n",
              "      <th>1</th>\n",
              "      <td>0.278419</td>\n",
              "      <td>-0.016411</td>\n",
              "      <td>-0.123520</td>\n",
              "      <td>-0.998245</td>\n",
              "      <td>-0.975300</td>\n",
              "      <td>-0.960322</td>\n",
              "      <td>-0.998807</td>\n",
              "      <td>-0.974914</td>\n",
              "      <td>-0.957686</td>\n",
              "      <td>-0.943068</td>\n",
              "      <td>-0.557851</td>\n",
              "      <td>-0.818409</td>\n",
              "      <td>0.849308</td>\n",
              "      <td>0.685845</td>\n",
              "      <td>0.822637</td>\n",
              "      <td>-0.981930</td>\n",
              "      <td>-0.999991</td>\n",
              "      <td>-0.999788</td>\n",
              "      <td>-0.998405</td>\n",
              "      <td>-0.999150</td>\n",
              "      <td>-0.977866</td>\n",
              "      <td>-0.948225</td>\n",
              "      <td>-0.714892</td>\n",
              "      <td>-0.500930</td>\n",
              "      <td>-0.570979</td>\n",
              "      <td>0.611627</td>\n",
              "      <td>-0.329549</td>\n",
              "      <td>0.284213</td>\n",
              "      <td>0.284595</td>\n",
              "      <td>0.115705</td>\n",
              "      <td>-0.090963</td>\n",
              "      <td>0.294310</td>\n",
              "      <td>-0.281211</td>\n",
              "      <td>0.085988</td>\n",
              "      <td>-0.022153</td>\n",
              "      <td>-0.016657</td>\n",
              "      <td>-0.220643</td>\n",
              "      <td>-0.013429</td>\n",
              "      <td>-0.072692</td>\n",
              "      <td>0.579382</td>\n",
              "      <td>...</td>\n",
              "      <td>-0.999867</td>\n",
              "      <td>-0.991134</td>\n",
              "      <td>-1.0</td>\n",
              "      <td>-0.841270</td>\n",
              "      <td>0.532061</td>\n",
              "      <td>-0.624871</td>\n",
              "      <td>-0.900160</td>\n",
              "      <td>-0.988296</td>\n",
              "      <td>-0.983322</td>\n",
              "      <td>-0.982659</td>\n",
              "      <td>-0.986321</td>\n",
              "      <td>-0.991829</td>\n",
              "      <td>-0.988296</td>\n",
              "      <td>-0.999811</td>\n",
              "      <td>-0.993979</td>\n",
              "      <td>-0.720683</td>\n",
              "      <td>-0.948718</td>\n",
              "      <td>-0.271958</td>\n",
              "      <td>-0.336310</td>\n",
              "      <td>-0.720015</td>\n",
              "      <td>-0.995854</td>\n",
              "      <td>-0.996399</td>\n",
              "      <td>-0.995442</td>\n",
              "      <td>-0.996866</td>\n",
              "      <td>-0.994440</td>\n",
              "      <td>-0.995854</td>\n",
              "      <td>-0.999981</td>\n",
              "      <td>-0.994544</td>\n",
              "      <td>-1.000000</td>\n",
              "      <td>-1.000000</td>\n",
              "      <td>0.158075</td>\n",
              "      <td>-0.595051</td>\n",
              "      <td>-0.861499</td>\n",
              "      <td>0.053477</td>\n",
              "      <td>-0.007435</td>\n",
              "      <td>-0.732626</td>\n",
              "      <td>0.703511</td>\n",
              "      <td>-0.844788</td>\n",
              "      <td>0.180289</td>\n",
              "      <td>-0.054317</td>\n",
              "    </tr>\n",
              "    <tr>\n",
              "      <th>2</th>\n",
              "      <td>0.279653</td>\n",
              "      <td>-0.019467</td>\n",
              "      <td>-0.113462</td>\n",
              "      <td>-0.995380</td>\n",
              "      <td>-0.967187</td>\n",
              "      <td>-0.978944</td>\n",
              "      <td>-0.996520</td>\n",
              "      <td>-0.963668</td>\n",
              "      <td>-0.977469</td>\n",
              "      <td>-0.938692</td>\n",
              "      <td>-0.557851</td>\n",
              "      <td>-0.818409</td>\n",
              "      <td>0.843609</td>\n",
              "      <td>0.682401</td>\n",
              "      <td>0.839344</td>\n",
              "      <td>-0.983478</td>\n",
              "      <td>-0.999969</td>\n",
              "      <td>-0.999660</td>\n",
              "      <td>-0.999470</td>\n",
              "      <td>-0.997130</td>\n",
              "      <td>-0.964810</td>\n",
              "      <td>-0.974675</td>\n",
              "      <td>-0.592235</td>\n",
              "      <td>-0.485821</td>\n",
              "      <td>-0.570979</td>\n",
              "      <td>0.273025</td>\n",
              "      <td>-0.086309</td>\n",
              "      <td>0.337202</td>\n",
              "      <td>-0.164739</td>\n",
              "      <td>0.017150</td>\n",
              "      <td>-0.074507</td>\n",
              "      <td>0.342256</td>\n",
              "      <td>-0.332564</td>\n",
              "      <td>0.239281</td>\n",
              "      <td>-0.136204</td>\n",
              "      <td>0.173863</td>\n",
              "      <td>-0.299493</td>\n",
              "      <td>-0.124698</td>\n",
              "      <td>-0.181105</td>\n",
              "      <td>0.608900</td>\n",
              "      <td>...</td>\n",
              "      <td>-0.999845</td>\n",
              "      <td>-0.986658</td>\n",
              "      <td>-1.0</td>\n",
              "      <td>-0.904762</td>\n",
              "      <td>0.660795</td>\n",
              "      <td>-0.724697</td>\n",
              "      <td>-0.928539</td>\n",
              "      <td>-0.989255</td>\n",
              "      <td>-0.986028</td>\n",
              "      <td>-0.984274</td>\n",
              "      <td>-0.990979</td>\n",
              "      <td>-0.995703</td>\n",
              "      <td>-0.989255</td>\n",
              "      <td>-0.999854</td>\n",
              "      <td>-0.993238</td>\n",
              "      <td>-0.736521</td>\n",
              "      <td>-0.794872</td>\n",
              "      <td>-0.212728</td>\n",
              "      <td>-0.535352</td>\n",
              "      <td>-0.871914</td>\n",
              "      <td>-0.995031</td>\n",
              "      <td>-0.995127</td>\n",
              "      <td>-0.994640</td>\n",
              "      <td>-0.996060</td>\n",
              "      <td>-0.995866</td>\n",
              "      <td>-0.995031</td>\n",
              "      <td>-0.999973</td>\n",
              "      <td>-0.993755</td>\n",
              "      <td>-1.000000</td>\n",
              "      <td>-0.555556</td>\n",
              "      <td>0.414503</td>\n",
              "      <td>-0.390748</td>\n",
              "      <td>-0.760104</td>\n",
              "      <td>-0.118559</td>\n",
              "      <td>0.177899</td>\n",
              "      <td>0.100699</td>\n",
              "      <td>0.808529</td>\n",
              "      <td>-0.848933</td>\n",
              "      <td>0.180637</td>\n",
              "      <td>-0.049118</td>\n",
              "    </tr>\n",
              "    <tr>\n",
              "      <th>3</th>\n",
              "      <td>0.279174</td>\n",
              "      <td>-0.026201</td>\n",
              "      <td>-0.123283</td>\n",
              "      <td>-0.996091</td>\n",
              "      <td>-0.983403</td>\n",
              "      <td>-0.990675</td>\n",
              "      <td>-0.997099</td>\n",
              "      <td>-0.982750</td>\n",
              "      <td>-0.989302</td>\n",
              "      <td>-0.938692</td>\n",
              "      <td>-0.576159</td>\n",
              "      <td>-0.829711</td>\n",
              "      <td>0.843609</td>\n",
              "      <td>0.682401</td>\n",
              "      <td>0.837869</td>\n",
              "      <td>-0.986093</td>\n",
              "      <td>-0.999976</td>\n",
              "      <td>-0.999736</td>\n",
              "      <td>-0.999504</td>\n",
              "      <td>-0.997180</td>\n",
              "      <td>-0.983799</td>\n",
              "      <td>-0.986007</td>\n",
              "      <td>-0.627446</td>\n",
              "      <td>-0.850930</td>\n",
              "      <td>-0.911872</td>\n",
              "      <td>0.061436</td>\n",
              "      <td>0.074840</td>\n",
              "      <td>0.198204</td>\n",
              "      <td>-0.264307</td>\n",
              "      <td>0.072545</td>\n",
              "      <td>-0.155320</td>\n",
              "      <td>0.323154</td>\n",
              "      <td>-0.170813</td>\n",
              "      <td>0.294938</td>\n",
              "      <td>-0.306081</td>\n",
              "      <td>0.482148</td>\n",
              "      <td>-0.470129</td>\n",
              "      <td>-0.305693</td>\n",
              "      <td>-0.362654</td>\n",
              "      <td>0.507459</td>\n",
              "      <td>...</td>\n",
              "      <td>-0.999895</td>\n",
              "      <td>-0.988055</td>\n",
              "      <td>-1.0</td>\n",
              "      <td>1.000000</td>\n",
              "      <td>0.678921</td>\n",
              "      <td>-0.701131</td>\n",
              "      <td>-0.909639</td>\n",
              "      <td>-0.989413</td>\n",
              "      <td>-0.987836</td>\n",
              "      <td>-0.986850</td>\n",
              "      <td>-0.986749</td>\n",
              "      <td>-0.996199</td>\n",
              "      <td>-0.989413</td>\n",
              "      <td>-0.999876</td>\n",
              "      <td>-0.989136</td>\n",
              "      <td>-0.720891</td>\n",
              "      <td>-1.000000</td>\n",
              "      <td>-0.035684</td>\n",
              "      <td>-0.230091</td>\n",
              "      <td>-0.511217</td>\n",
              "      <td>-0.995221</td>\n",
              "      <td>-0.995237</td>\n",
              "      <td>-0.995722</td>\n",
              "      <td>-0.995273</td>\n",
              "      <td>-0.995732</td>\n",
              "      <td>-0.995221</td>\n",
              "      <td>-0.999974</td>\n",
              "      <td>-0.995226</td>\n",
              "      <td>-0.955696</td>\n",
              "      <td>-0.936508</td>\n",
              "      <td>0.404573</td>\n",
              "      <td>-0.117290</td>\n",
              "      <td>-0.482845</td>\n",
              "      <td>-0.036788</td>\n",
              "      <td>-0.012892</td>\n",
              "      <td>0.640011</td>\n",
              "      <td>-0.485366</td>\n",
              "      <td>-0.848649</td>\n",
              "      <td>0.181935</td>\n",
              "      <td>-0.047663</td>\n",
              "    </tr>\n",
              "    <tr>\n",
              "      <th>4</th>\n",
              "      <td>0.276629</td>\n",
              "      <td>-0.016570</td>\n",
              "      <td>-0.115362</td>\n",
              "      <td>-0.998139</td>\n",
              "      <td>-0.980817</td>\n",
              "      <td>-0.990482</td>\n",
              "      <td>-0.998321</td>\n",
              "      <td>-0.979672</td>\n",
              "      <td>-0.990441</td>\n",
              "      <td>-0.942469</td>\n",
              "      <td>-0.569174</td>\n",
              "      <td>-0.824705</td>\n",
              "      <td>0.849095</td>\n",
              "      <td>0.683250</td>\n",
              "      <td>0.837869</td>\n",
              "      <td>-0.992653</td>\n",
              "      <td>-0.999991</td>\n",
              "      <td>-0.999856</td>\n",
              "      <td>-0.999757</td>\n",
              "      <td>-0.998004</td>\n",
              "      <td>-0.981232</td>\n",
              "      <td>-0.991325</td>\n",
              "      <td>-0.786553</td>\n",
              "      <td>-0.559477</td>\n",
              "      <td>-0.761434</td>\n",
              "      <td>0.313276</td>\n",
              "      <td>-0.131208</td>\n",
              "      <td>0.191161</td>\n",
              "      <td>0.086904</td>\n",
              "      <td>0.257615</td>\n",
              "      <td>-0.272505</td>\n",
              "      <td>0.434728</td>\n",
              "      <td>-0.315375</td>\n",
              "      <td>0.439744</td>\n",
              "      <td>-0.269069</td>\n",
              "      <td>0.179414</td>\n",
              "      <td>-0.088952</td>\n",
              "      <td>-0.155804</td>\n",
              "      <td>-0.189763</td>\n",
              "      <td>0.599213</td>\n",
              "      <td>...</td>\n",
              "      <td>-0.999941</td>\n",
              "      <td>-0.994169</td>\n",
              "      <td>-1.0</td>\n",
              "      <td>-1.000000</td>\n",
              "      <td>0.559058</td>\n",
              "      <td>-0.528901</td>\n",
              "      <td>-0.858933</td>\n",
              "      <td>-0.991433</td>\n",
              "      <td>-0.989059</td>\n",
              "      <td>-0.987744</td>\n",
              "      <td>-0.991462</td>\n",
              "      <td>-0.998353</td>\n",
              "      <td>-0.991433</td>\n",
              "      <td>-0.999902</td>\n",
              "      <td>-0.989321</td>\n",
              "      <td>-0.763372</td>\n",
              "      <td>-0.897436</td>\n",
              "      <td>-0.273582</td>\n",
              "      <td>-0.510282</td>\n",
              "      <td>-0.830702</td>\n",
              "      <td>-0.995093</td>\n",
              "      <td>-0.995465</td>\n",
              "      <td>-0.995279</td>\n",
              "      <td>-0.995609</td>\n",
              "      <td>-0.997418</td>\n",
              "      <td>-0.995093</td>\n",
              "      <td>-0.999974</td>\n",
              "      <td>-0.995487</td>\n",
              "      <td>-1.000000</td>\n",
              "      <td>-0.936508</td>\n",
              "      <td>0.087753</td>\n",
              "      <td>-0.351471</td>\n",
              "      <td>-0.699205</td>\n",
              "      <td>0.123320</td>\n",
              "      <td>0.122542</td>\n",
              "      <td>0.693578</td>\n",
              "      <td>-0.615971</td>\n",
              "      <td>-0.847865</td>\n",
              "      <td>0.185151</td>\n",
              "      <td>-0.043892</td>\n",
              "    </tr>\n",
              "  </tbody>\n",
              "</table>\n",
              "<p>5 rows × 561 columns</p>\n",
              "</div>"
            ],
            "text/plain": [
              "   tBodyAcc-mean()-X  ...  angle(Z,gravityMean)\n",
              "0           0.288585  ...             -0.058627\n",
              "1           0.278419  ...             -0.054317\n",
              "2           0.279653  ...             -0.049118\n",
              "3           0.279174  ...             -0.047663\n",
              "4           0.276629  ...             -0.043892\n",
              "\n",
              "[5 rows x 561 columns]"
            ]
          },
          "metadata": {
            "tags": []
          },
          "execution_count": 19
        }
      ]
    },
    {
      "cell_type": "code",
      "metadata": {
        "id": "--zZXalw1gu7"
      },
      "source": [
        "# get X_test and y_test from test csv file\n",
        "X_test = test.drop(['subject', 'Activity', 'Data'], axis=1)\n",
        "y_test = test.Activity"
      ],
      "execution_count": null,
      "outputs": []
    },
    {
      "cell_type": "code",
      "metadata": {
        "colab": {
          "base_uri": "https://localhost:8080/"
        },
        "id": "pgu-WQzd1-ox",
        "outputId": "d7fd0d15-b9f6-4e07-e172-1b833447c656"
      },
      "source": [
        "print('X_train and y_train : ({},{})'.format(X_train.shape, y_train.shape))\n",
        "print('X_test  and y_test  : ({},{})'.format(X_test.shape, y_test.shape))"
      ],
      "execution_count": null,
      "outputs": [
        {
          "output_type": "stream",
          "text": [
            "X_train and y_train : ((7352, 561),(7352,))\n",
            "X_test  and y_test  : ((2947, 561),(2947,))\n"
          ],
          "name": "stdout"
        }
      ]
    },
    {
      "cell_type": "markdown",
      "metadata": {
        "id": "_ljynqlZ2EJd"
      },
      "source": [
        "**Labels that are useful in plotting confusion matrix**"
      ]
    },
    {
      "cell_type": "code",
      "metadata": {
        "id": "fmBo35Fq1-rk"
      },
      "source": [
        "labels=['LAYING', 'SITTING','STANDING','WALKING','WALKING_DOWNSTAIRS','WALKING_UPSTAIRS']"
      ],
      "execution_count": null,
      "outputs": []
    },
    {
      "cell_type": "markdown",
      "metadata": {
        "id": "pLgPhKPD2Rwh"
      },
      "source": [
        "### **Function to plot the confusion matrix**"
      ]
    },
    {
      "cell_type": "code",
      "metadata": {
        "id": "gHAsSCEX1-un"
      },
      "source": [
        "\n",
        "plt.rcParams[\"font.family\"] = 'DejaVu Sans'\n",
        "\n",
        "def plot_confusion_matrix(cm, classes,\n",
        "                          normalize=False,\n",
        "                          title='Confusion matrix',\n",
        "                          cmap=plt.cm.Purples):\n",
        "    if normalize:\n",
        "        cm = cm.astype('float') / cm.sum(axis=1)[:, np.newaxis]\n",
        "\n",
        "    plt.imshow(cm, interpolation='nearest', cmap=cmap)\n",
        "    plt.title(title)\n",
        "    plt.colorbar()\n",
        "    tick_marks = np.arange(len(classes))\n",
        "    plt.xticks(tick_marks, classes, rotation=90)\n",
        "    plt.yticks(tick_marks, classes)\n",
        "\n",
        "    fmt = '.2f' if normalize else 'd'\n",
        "    thresh = cm.max() / 2.\n",
        "    for i, j in itertools.product(range(cm.shape[0]), range(cm.shape[1])):\n",
        "        plt.text(j, i, format(cm[i, j], fmt),\n",
        "                 horizontalalignment=\"center\",\n",
        "                 color=\"white\" if cm[i, j] > thresh else \"black\")\n",
        "\n",
        "    plt.tight_layout()\n",
        "    plt.ylabel('True label')\n",
        "    plt.xlabel('Predicted label')"
      ],
      "execution_count": null,
      "outputs": []
    },
    {
      "cell_type": "markdown",
      "metadata": {
        "id": "ZfHVVnVX24ZY"
      },
      "source": [
        "### **Generic function to run any model specified**"
      ]
    },
    {
      "cell_type": "code",
      "metadata": {
        "id": "C36eN18B1-xi"
      },
      "source": [
        "from datetime import datetime\n",
        "def perform_model(model, X_train, y_train, X_test, y_test, class_labels, cm_normalize=True, average='micro',\\\n",
        "                 print_cm=True, cm_cmap=plt.cm.Oranges):\n",
        "    \n",
        "    \n",
        "    # to store results at various phases\n",
        "    results = dict()\n",
        "    \n",
        "    # time at which model starts training \n",
        "    train_start_time = datetime.now()\n",
        "    print('training the model..')\n",
        "    model.fit(X_train, y_train)\n",
        "    print('Done \\n \\n')\n",
        "    train_end_time = datetime.now()\n",
        "    results['training_time'] =  train_end_time - train_start_time\n",
        "    print('training_time(HH:MM:SS.ms) - {}\\n\\n'.format(results['training_time']))\n",
        "    \n",
        "    \n",
        "    # predict test data\n",
        "    print('Predicting test data')\n",
        "    test_start_time = datetime.now()\n",
        "    y_pred = model.predict(X_test)\n",
        "    test_end_time = datetime.now()\n",
        "    print('Done \\n \\n')\n",
        "    results['testing_time'] = test_end_time - test_start_time\n",
        "    print('testing time(HH:MM:SS:ms) - {}\\n\\n'.format(results['testing_time']))\n",
        "    results['predicted'] = y_pred\n",
        "   \n",
        "\n",
        "    # calculate overall accuracy of the model\n",
        "    accuracy = metrics.accuracy_score(y_true=y_test, y_pred=y_pred)\n",
        "    # store accuracy in results\n",
        "    results['accuracy'] = accuracy\n",
        "    print('---------------------')\n",
        "    print('|      Accuracy      |')\n",
        "    print('---------------------')\n",
        "    print('\\n    {}\\n\\n'.format(accuracy))\n",
        "\n",
        "\n",
        "    # calculate overall F1 score of the model\n",
        "    f1_score = metrics.f1_score(y_true=y_test, y_pred=y_pred, average='macro')\n",
        "    # store accuracy in results\n",
        "    results['f1_score'] = f1_score\n",
        "    print('---------------------')\n",
        "    print('|      F1 Score      |')\n",
        "    print('---------------------')\n",
        "    print('\\n    {}\\n\\n'.format(f1_score))\n",
        "\n",
        "    \n",
        "    # confusion matrix\n",
        "    cm = metrics.confusion_matrix(y_test, y_pred)\n",
        "    results['confusion_matrix'] = cm\n",
        "    if print_cm: \n",
        "        print('--------------------')\n",
        "        print('| Confusion Matrix |')\n",
        "        print('--------------------')\n",
        "        print('\\n {}'.format(cm))\n",
        "        \n",
        "    # plot confusin matrix\n",
        "    plt.figure(figsize=(8,8))\n",
        "    plt.grid(b=False)\n",
        "    plot_confusion_matrix(cm, classes=class_labels, normalize=True, title='Normalized confusion matrix', cmap = cm_cmap)\n",
        "    plt.show()\n",
        "    \n",
        "    # get classification report\n",
        "    print('-------------------------')\n",
        "    print('| Classifiction Report |')\n",
        "    print('-------------------------')\n",
        "    classification_report = metrics.classification_report(y_test, y_pred)\n",
        "    # store report in results\n",
        "    results['classification_report'] = classification_report\n",
        "    print(classification_report)\n",
        "    \n",
        "    # add the trained  model to the results\n",
        "    results['model'] = model\n",
        "    \n",
        "    return results"
      ],
      "execution_count": null,
      "outputs": []
    },
    {
      "cell_type": "markdown",
      "metadata": {
        "id": "DLuB9Aab3L4R"
      },
      "source": [
        "\n",
        "### **Function to plot Train and Test AUC Curve**"
      ]
    },
    {
      "cell_type": "code",
      "metadata": {
        "id": "FwpJAFRx3IdJ"
      },
      "source": [
        "from sklearn.metrics import roc_curve, auc\n",
        "\n",
        "def best_model(model, X_train, Y_train, X_test, Y_test):\n",
        "  classifier = model.best_estimator_\n",
        "  print(classifier)\n",
        "  classifier.fit(X_train, Y_train)\n",
        "\n",
        "  try:\n",
        "    y_train_pred = classifier.predict_proba(X_train)[:,1]\n",
        "    y_test_pred = classifier.predict_proba(X_test)[:,1]\n",
        "  except:\n",
        "    y_train_pred = classifier.decision_function(X_train)\n",
        "    y_test_pred = classifier.decision_function(X_test)\n",
        "\n",
        "  train_fpr, train_tpr, tr_thresholds = roc_curve(Y_train, y_train_pred)\n",
        "  test_fpr, test_tpr, te_thresholds = roc_curve(Y_test, y_test_pred)\n",
        "\n",
        "  ### --- This is test AUC for TFIDF\n",
        "  auc_bow = auc(test_fpr, test_tpr)\n",
        "\n",
        "  plt.plot(train_fpr, train_tpr, label=\"train AUC =\"+str(auc(train_fpr, train_tpr)))\n",
        "  plt.plot(test_fpr, test_tpr, label=\"test AUC =\"+str(auc(test_fpr, test_tpr)))\n",
        "  plt.legend()\n",
        "  plt.xlabel(\"FPR\")\n",
        "  plt.ylabel(\"TPR\")\n",
        "  plt.title(\"ERROR PLOTS\")\n",
        "  plt.grid()\n",
        "  plt.show()"
      ],
      "execution_count": null,
      "outputs": []
    },
    {
      "cell_type": "markdown",
      "metadata": {
        "id": "eEVrtrHd3SiO"
      },
      "source": [
        "### **Method to print the gridsearch Attributes**"
      ]
    },
    {
      "cell_type": "code",
      "metadata": {
        "id": "nl41ND363VDb"
      },
      "source": [
        "def print_grid_search_attributes(model):\n",
        "    # Estimator that gave highest score among all the estimators formed in GridSearch\n",
        "    print('--------------------------')\n",
        "    print('|      Best Estimator     |')\n",
        "    print('--------------------------')\n",
        "    print('\\n\\t{}\\n'.format(model.best_estimator_))\n",
        "\n",
        "\n",
        "    # parameters that gave best results while performing grid search\n",
        "    print('--------------------------')\n",
        "    print('|     Best parameters     |')\n",
        "    print('--------------------------')\n",
        "    print('\\tParameters of best estimator : \\n\\n\\t{}\\n'.format(model.best_params_))\n",
        "\n",
        "\n",
        "    #  number of cross validation splits\n",
        "    print('---------------------------------')\n",
        "    print('|   No of CrossValidation sets   |')\n",
        "    print('--------------------------------')\n",
        "    print('\\n\\tTotal number of cross validation sets: {}\\n'.format(model.n_splits_))\n",
        "\n",
        "\n",
        "    # Average cross validated score of the best estimator, from the Grid Search \n",
        "    print('--------------------------')\n",
        "    print('|        Best Score       |')\n",
        "    print('--------------------------')\n",
        "    print('\\n\\tAverage Cross Validate scores of best estimator : \\n\\n\\t{}\\n'.format(model.best_score_))"
      ],
      "execution_count": null,
      "outputs": []
    },
    {
      "cell_type": "markdown",
      "metadata": {
        "id": "MwE_zXKH_ET9"
      },
      "source": [
        "# Models\n"
      ]
    },
    {
      "cell_type": "code",
      "metadata": {
        "colab": {
          "base_uri": "https://localhost:8080/"
        },
        "id": "FZyX-AJi_JKP",
        "outputId": "e16d5517-9500-4aea-a6d5-25776c153227"
      },
      "source": [
        "scaler = StandardScaler()\n",
        "\n",
        "scaler.fit(X_train)\n",
        "\n",
        "X_train_scaled = scaler.transform(X_train)\n",
        "X_test_scaled = scaler.transform(X_test)\n",
        "\n",
        "print('X_train_scaled and y_train : ({},{})'.format(X_train_scaled.shape, y_train.shape))\n",
        "print('X_test_scaled and y_test  : ({},{})'.format(X_test_scaled.shape, y_test.shape))"
      ],
      "execution_count": null,
      "outputs": [
        {
          "output_type": "stream",
          "text": [
            "X_train_scaled and y_train : ((7352, 561),(7352,))\n",
            "X_test_scaled and y_test  : ((2947, 561),(2947,))\n"
          ],
          "name": "stdout"
        }
      ]
    },
    {
      "cell_type": "markdown",
      "metadata": {
        "id": "8rHgKtPc_GVZ"
      },
      "source": [
        "## 1 Logistic Regression with Grid Search\n"
      ]
    },
    {
      "cell_type": "code",
      "metadata": {
        "colab": {
          "base_uri": "https://localhost:8080/",
          "height": 1000
        },
        "id": "hFRZgvwo_P-t",
        "outputId": "f336203e-167a-44cd-b872-789f09fa84ed"
      },
      "source": [
        "\n",
        "# start Grid search\n",
        "parameters_LR = {'C':[0.01, 0.1, 1, 10, 20, 30], 'penalty':['l2','l1']}\n",
        "log_reg = linear_model.LogisticRegression(solver='lbfgs', max_iter=1000)\n",
        "log_reg_grid = GridSearchCV(log_reg, param_grid=parameters_LR, cv=10, verbose=1, return_train_score=True, n_jobs=-1)\n",
        "log_reg_grid_results =  perform_model(log_reg_grid, X_train, y_train, X_test, y_test, class_labels=labels)\n",
        "# observe the attributes of the model \n",
        "print_grid_search_attributes(log_reg_grid_results['model'])"
      ],
      "execution_count": null,
      "outputs": [
        {
          "output_type": "stream",
          "text": [
            "training the model..\n",
            "Fitting 10 folds for each of 12 candidates, totalling 120 fits\n"
          ],
          "name": "stdout"
        },
        {
          "output_type": "stream",
          "text": [
            "[Parallel(n_jobs=-1)]: Using backend LokyBackend with 2 concurrent workers.\n",
            "[Parallel(n_jobs=-1)]: Done  46 tasks      | elapsed:  4.9min\n",
            "[Parallel(n_jobs=-1)]: Done 120 out of 120 | elapsed: 13.0min finished\n",
            "/usr/local/lib/python3.7/dist-packages/sklearn/linear_model/_logistic.py:940: ConvergenceWarning:\n",
            "\n",
            "lbfgs failed to converge (status=1):\n",
            "STOP: TOTAL NO. of ITERATIONS REACHED LIMIT.\n",
            "\n",
            "Increase the number of iterations (max_iter) or scale the data as shown in:\n",
            "    https://scikit-learn.org/stable/modules/preprocessing.html\n",
            "Please also refer to the documentation for alternative solver options:\n",
            "    https://scikit-learn.org/stable/modules/linear_model.html#logistic-regression\n",
            "\n"
          ],
          "name": "stderr"
        },
        {
          "output_type": "stream",
          "text": [
            "Done \n",
            " \n",
            "\n",
            "training_time(HH:MM:SS.ms) - 0:13:27.268342\n",
            "\n",
            "\n",
            "Predicting test data\n",
            "Done \n",
            " \n",
            "\n",
            "testing time(HH:MM:SS:ms) - 0:00:00.011501\n",
            "\n",
            "\n",
            "---------------------\n",
            "|      Accuracy      |\n",
            "---------------------\n",
            "\n",
            "    0.9630132337970818\n",
            "\n",
            "\n",
            "---------------------\n",
            "|      F1 Score      |\n",
            "---------------------\n",
            "\n",
            "    0.9630853518230177\n",
            "\n",
            "\n",
            "--------------------\n",
            "| Confusion Matrix |\n",
            "--------------------\n",
            "\n",
            " [[537   0   0   0   0   0]\n",
            " [  2 434  52   0   0   3]\n",
            " [  0  12 519   1   0   0]\n",
            " [  0   0   0 493   3   0]\n",
            " [  0   0   1   3 408   8]\n",
            " [  0   0   0  24   0 447]]\n"
          ],
          "name": "stdout"
        },
        {
          "output_type": "display_data",
          "data": {
            "image/png": "[encoded data removed]",
            "text/plain": [
              "<Figure size 576x576 with 2 Axes>"
            ]
          },
          "metadata": {
            "tags": []
          }
        },
        {
          "output_type": "stream",
          "text": [
            "-------------------------\n",
            "| Classifiction Report |\n",
            "-------------------------\n",
            "                    precision    recall  f1-score   support\n",
            "\n",
            "            LAYING       1.00      1.00      1.00       537\n",
            "           SITTING       0.97      0.88      0.93       491\n",
            "          STANDING       0.91      0.98      0.94       532\n",
            "           WALKING       0.95      0.99      0.97       496\n",
            "WALKING_DOWNSTAIRS       0.99      0.97      0.98       420\n",
            "  WALKING_UPSTAIRS       0.98      0.95      0.96       471\n",
            "\n",
            "          accuracy                           0.96      2947\n",
            "         macro avg       0.97      0.96      0.96      2947\n",
            "      weighted avg       0.96      0.96      0.96      2947\n",
            "\n",
            "--------------------------\n",
            "|      Best Estimator     |\n",
            "--------------------------\n",
            "\n",
            "\tLogisticRegression(C=20, class_weight=None, dual=False, fit_intercept=True,\n",
            "                   intercept_scaling=1, l1_ratio=None, max_iter=1000,\n",
            "                   multi_class='auto', n_jobs=None, penalty='l2',\n",
            "                   random_state=None, solver='lbfgs', tol=0.0001, verbose=0,\n",
            "                   warm_start=False)\n",
            "\n",
            "--------------------------\n",
            "|     Best parameters     |\n",
            "--------------------------\n",
            "\tParameters of best estimator : \n",
            "\n",
            "\t{'C': 20, 'penalty': 'l2'}\n",
            "\n",
            "---------------------------------\n",
            "|   No of CrossValidation sets   |\n",
            "--------------------------------\n",
            "\n",
            "\tTotal number of cross validation sets: 10\n",
            "\n",
            "--------------------------\n",
            "|        Best Score       |\n",
            "--------------------------\n",
            "\n",
            "\tAverage Cross Validate scores of best estimator : \n",
            "\n",
            "\t0.9485917627920732\n",
            "\n"
          ],
          "name": "stdout"
        }
      ]
    },
    {
      "cell_type": "code",
      "metadata": {
        "colab": {
          "base_uri": "https://localhost:8080/",
          "height": 576
        },
        "id": "e87yuoTK_g-a",
        "outputId": "ade40c9c-e18c-46e2-86d0-d72a6a6be32f"
      },
      "source": [
        "plt.figure(figsize=(8,8))\n",
        "plt.grid(b=False)\n",
        "plot_confusion_matrix(log_reg_grid_results['confusion_matrix'], classes=labels, cmap=plt.cm.Purples, )\n",
        "plt.show()"
      ],
      "execution_count": null,
      "outputs": [
        {
          "output_type": "display_data",
          "data": {
            "image/png": "[encoded data removed]",
            "text/plain": [
              "<Figure size 576x576 with 2 Axes>"
            ]
          },
          "metadata": {
            "tags": []
          }
        }
      ]
    },
    {
      "cell_type": "code",
      "metadata": {
        "colab": {
          "base_uri": "https://localhost:8080/"
        },
        "id": "E5bHUZDrZxfA",
        "outputId": "cef6ed84-747b-4e6a-8b5a-f6224ffca7d3"
      },
      "source": [
        "joblib.dump(log_reg_grid_results, 'log_reg_grid_results.best_estimator_.pkl')\n",
        "## Load--->joblib.load(\"log_reg_grid_results.best_estimator_.pkl\")"
      ],
      "execution_count": null,
      "outputs": [
        {
          "output_type": "execute_result",
          "data": {
            "text/plain": [
              "['log_reg_grid_results.best_estimator_.pkl']"
            ]
          },
          "metadata": {
            "tags": []
          },
          "execution_count": 30
        }
      ]
    },
    {
      "cell_type": "markdown",
      "metadata": {
        "id": "El7SYP7eIaOs"
      },
      "source": [
        "## 2 Linear SVC with GridSearch\n"
      ]
    },
    {
      "cell_type": "code",
      "metadata": {
        "colab": {
          "base_uri": "https://localhost:8080/",
          "height": 1000
        },
        "id": "BKHOyRgNBnvB",
        "outputId": "deb8370d-2d6b-48c8-e7b3-b64b1bc63621"
      },
      "source": [
        "parameters_LSVC = {'C':[0.125, 0.5, 1, 2, 8, 16]}\n",
        "lr_svc = LinearSVC(tol=0.00005)\n",
        "lr_svc_grid = GridSearchCV(lr_svc, param_grid=parameters_LSVC, cv=10, n_jobs=-1, verbose=1, return_train_score=True)\n",
        "lr_svc_grid_results = perform_model(lr_svc_grid, X_train, y_train, X_test, y_test, class_labels=labels)\n",
        "\n",
        "print_grid_search_attributes(lr_svc_grid_results['model'])"
      ],
      "execution_count": null,
      "outputs": [
        {
          "output_type": "stream",
          "text": [
            "training the model..\n",
            "Fitting 10 folds for each of 6 candidates, totalling 60 fits\n"
          ],
          "name": "stdout"
        },
        {
          "output_type": "stream",
          "text": [
            "[Parallel(n_jobs=-1)]: Using backend LokyBackend with 2 concurrent workers.\n",
            "[Parallel(n_jobs=-1)]: Done  46 tasks      | elapsed:  2.0min\n",
            "[Parallel(n_jobs=-1)]: Done  60 out of  60 | elapsed:  2.6min finished\n",
            "/usr/local/lib/python3.7/dist-packages/sklearn/svm/_base.py:947: ConvergenceWarning:\n",
            "\n",
            "Liblinear failed to converge, increase the number of iterations.\n",
            "\n"
          ],
          "name": "stderr"
        },
        {
          "output_type": "stream",
          "text": [
            "Done \n",
            " \n",
            "\n",
            "training_time(HH:MM:SS.ms) - 0:02:41.514185\n",
            "\n",
            "\n",
            "Predicting test data\n",
            "Done \n",
            " \n",
            "\n",
            "testing time(HH:MM:SS:ms) - 0:00:00.010800\n",
            "\n",
            "\n",
            "---------------------\n",
            "|      Accuracy      |\n",
            "---------------------\n",
            "\n",
            "    0.9667458432304038\n",
            "\n",
            "\n",
            "---------------------\n",
            "|      F1 Score      |\n",
            "---------------------\n",
            "\n",
            "    0.967101153340384\n",
            "\n",
            "\n",
            "--------------------\n",
            "| Confusion Matrix |\n",
            "--------------------\n",
            "\n",
            " [[537   0   0   0   0   0]\n",
            " [  2 430  56   0   0   3]\n",
            " [  0  12 519   1   0   0]\n",
            " [  0   0   0 496   0   0]\n",
            " [  0   0   0   2 413   5]\n",
            " [  0   0   0  17   0 454]]\n"
          ],
          "name": "stdout"
        },
        {
          "output_type": "display_data",
          "data": {
            "image/png": "[encoded data removed]",
            "text/plain": [
              "<Figure size 576x576 with 2 Axes>"
            ]
          },
          "metadata": {
            "tags": []
          }
        },
        {
          "output_type": "stream",
          "text": [
            "-------------------------\n",
            "| Classifiction Report |\n",
            "-------------------------\n",
            "                    precision    recall  f1-score   support\n",
            "\n",
            "            LAYING       1.00      1.00      1.00       537\n",
            "           SITTING       0.97      0.88      0.92       491\n",
            "          STANDING       0.90      0.98      0.94       532\n",
            "           WALKING       0.96      1.00      0.98       496\n",
            "WALKING_DOWNSTAIRS       1.00      0.98      0.99       420\n",
            "  WALKING_UPSTAIRS       0.98      0.96      0.97       471\n",
            "\n",
            "          accuracy                           0.97      2947\n",
            "         macro avg       0.97      0.97      0.97      2947\n",
            "      weighted avg       0.97      0.97      0.97      2947\n",
            "\n",
            "--------------------------\n",
            "|      Best Estimator     |\n",
            "--------------------------\n",
            "\n",
            "\tLinearSVC(C=1, class_weight=None, dual=True, fit_intercept=True,\n",
            "          intercept_scaling=1, loss='squared_hinge', max_iter=1000,\n",
            "          multi_class='ovr', penalty='l2', random_state=None, tol=5e-05,\n",
            "          verbose=0)\n",
            "\n",
            "--------------------------\n",
            "|     Best parameters     |\n",
            "--------------------------\n",
            "\tParameters of best estimator : \n",
            "\n",
            "\t{'C': 1}\n",
            "\n",
            "---------------------------------\n",
            "|   No of CrossValidation sets   |\n",
            "--------------------------------\n",
            "\n",
            "\tTotal number of cross validation sets: 10\n",
            "\n",
            "--------------------------\n",
            "|        Best Score       |\n",
            "--------------------------\n",
            "\n",
            "\tAverage Cross Validate scores of best estimator : \n",
            "\n",
            "\t0.9521267746228927\n",
            "\n"
          ],
          "name": "stdout"
        }
      ]
    },
    {
      "cell_type": "code",
      "metadata": {
        "colab": {
          "base_uri": "https://localhost:8080/",
          "height": 576
        },
        "id": "SZeFVdNtIila",
        "outputId": "4f487305-7026-4cfa-f743-606170d03671"
      },
      "source": [
        "plt.figure(figsize=(8,8))\n",
        "plt.grid(b=False)\n",
        "plot_confusion_matrix(lr_svc_grid_results['confusion_matrix'], classes=labels, cmap=plt.cm.Purples, )\n",
        "plt.show()"
      ],
      "execution_count": null,
      "outputs": [
        {
          "output_type": "display_data",
          "data": {
            "image/png": "[encoded data removed]",
            "text/plain": [
              "<Figure size 576x576 with 2 Axes>"
            ]
          },
          "metadata": {
            "tags": []
          }
        }
      ]
    },
    {
      "cell_type": "code",
      "metadata": {
        "colab": {
          "base_uri": "https://localhost:8080/"
        },
        "id": "ZKKJYSIyZ7EV",
        "outputId": "bfabd0f9-8b4a-41e1-e3b1-1188b9d16dca"
      },
      "source": [
        "joblib.dump(lr_svc_grid_results, 'lr_svc_grid_results.best_estimator_.pkl')\n",
        "## Load--->joblib.load(\"lr_svc_grid_results.best_estimator_.pkl\")"
      ],
      "execution_count": null,
      "outputs": [
        {
          "output_type": "execute_result",
          "data": {
            "text/plain": [
              "['lr_svc_grid_results.best_estimator_.pkl']"
            ]
          },
          "metadata": {
            "tags": []
          },
          "execution_count": 33
        }
      ]
    },
    {
      "cell_type": "markdown",
      "metadata": {
        "id": "QmjF5yL5Jbq8"
      },
      "source": [
        "## 3 Kernel SVM with GridSearch"
      ]
    },
    {
      "cell_type": "code",
      "metadata": {
        "colab": {
          "background_save": true,
          "base_uri": "https://localhost:8080/"
        },
        "id": "u85Bw5fQIiqx",
        "outputId": "ba2efe52-ff46-4324-dea2-efcc31440ffe"
      },
      "source": [
        "from sklearn.svm import SVC\n",
        "parameters_ksvm = {'C':[2,8,16],\\\n",
        "              'gamma': [ 0.0078125, 0.125, 2]}\n",
        "rbf_svm = SVC(kernel='rbf')\n",
        "rbf_svm_grid = GridSearchCV(rbf_svm, param_grid=parameters_ksvm, cv=10, n_jobs=-1)\n",
        "rbf_svm_grid_results = perform_model(rbf_svm_grid, X_train, y_train, X_test, y_test, class_labels=labels)\n",
        "print_grid_search_attributes(rbf_svm_grid_results['model'])"
      ],
      "execution_count": null,
      "outputs": [
        {
          "output_type": "stream",
          "text": [
            "training the model..\n"
          ],
          "name": "stdout"
        }
      ]
    },
    {
      "cell_type": "code",
      "metadata": {
        "colab": {
          "background_save": true
        },
        "id": "hUIutESqj9h6"
      },
      "source": [
        "plt.figure(figsize=(8,8))\n",
        "plt.grid(b=False)\n",
        "plot_confusion_matrix(rbf_svm_grid_results['confusion_matrix'], classes=labels, cmap=plt.cm.Purples, )\n",
        "plt.show()"
      ],
      "execution_count": null,
      "outputs": []
    },
    {
      "cell_type": "code",
      "metadata": {
        "id": "T-18sPVSaAb9"
      },
      "source": [
        "joblib.dump(rbf_svm_grid_results, 'rbf_svm_grid_results.best_estimator_.pkl')\n",
        "## Load--->joblib.load(\"rbf_svm_grid_results.best_estimator_.pkl\")"
      ],
      "execution_count": null,
      "outputs": []
    },
    {
      "cell_type": "markdown",
      "metadata": {
        "id": "LhiVZVtwJmaW"
      },
      "source": [
        "## 4 Decision Trees with GridSearchCV"
      ]
    },
    {
      "cell_type": "code",
      "metadata": {
        "id": "v7fWV44GIiv7"
      },
      "source": [
        "parameters_DT = {'max_depth':np.arange(3,10,2)}\n",
        "dt = DecisionTreeClassifier()\n",
        "dt_grid = GridSearchCV(dt,param_grid=parameters_DT, cv=10, n_jobs=-1)\n",
        "dt_grid_results = perform_model(dt_grid, X_train, y_train, X_test, y_test, class_labels=labels)\n",
        "\n",
        "print_grid_search_attributes(dt_grid_results['model'])\n"
      ],
      "execution_count": null,
      "outputs": []
    },
    {
      "cell_type": "code",
      "metadata": {
        "colab": {
          "base_uri": "https://localhost:8080/",
          "height": 576
        },
        "id": "61lZwwx_kBXA",
        "outputId": "66067eab-adc3-4d03-90a1-da52831c3051"
      },
      "source": [
        "plt.figure(figsize=(8,8))\n",
        "plt.grid(b=False)\n",
        "plot_confusion_matrix(dt_grid_results['confusion_matrix'], classes=labels, cmap=plt.cm.Purples, )\n",
        "plt.show()"
      ],
      "execution_count": null,
      "outputs": [
        {
          "output_type": "display_data",
          "data": {
            "image/png": "[encoded data removed]",
            "text/plain": [
              "<Figure size 576x576 with 2 Axes>"
            ]
          },
          "metadata": {
            "tags": []
          }
        }
      ]
    },
    {
      "cell_type": "code",
      "metadata": {
        "id": "sZCBF-JtXx1v"
      },
      "source": [
        "joblib.dump(dt_grid_results, 'dt_grid_results.best_estimator_.pkl')\n",
        "## Load--->joblib.load(\"dt_grid_results.best_estimator_.pkl\")"
      ],
      "execution_count": null,
      "outputs": []
    },
    {
      "cell_type": "markdown",
      "metadata": {
        "id": "6Y5uQZrBKy3G"
      },
      "source": [
        "## 5 Random Forest Classifier with GridSearch"
      ]
    },
    {
      "cell_type": "code",
      "metadata": {
        "colab": {
          "background_save": true,
          "base_uri": "https://localhost:8080/"
        },
        "id": "sHg431v6K1Qz",
        "outputId": "cc50e228-4ac6-483c-941b-43213be99da7"
      },
      "source": [
        "\n",
        "from sklearn.ensemble import RandomForestClassifier\n",
        "params_RF = {'n_estimators': np.arange(10,201,20), 'max_depth':np.arange(3,15,2)}\n",
        "rfc = RandomForestClassifier()\n",
        "rfc_grid = GridSearchCV(rfc, cv=10, param_grid=params_RF, n_jobs=-1)\n",
        "rfc_grid_results = perform_model(rfc_grid, X_train, y_train, X_test, y_test, class_labels=labels)\n",
        "print_grid_search_attributes(rfc_grid_results['model'])"
      ],
      "execution_count": null,
      "outputs": [
        {
          "output_type": "stream",
          "text": [
            "training the model..\n"
          ],
          "name": "stdout"
        }
      ]
    },
    {
      "cell_type": "code",
      "metadata": {
        "colab": {
          "base_uri": "https://localhost:8080/",
          "height": 576
        },
        "id": "YPazBHDhkk3Z",
        "outputId": "0dade120-86cf-43ec-d009-367df23914a6"
      },
      "source": [
        "plt.figure(figsize=(8,8))\n",
        "plt.grid(b=False)\n",
        "plot_confusion_matrix(rfc_grid_results['confusion_matrix'], classes=labels, cmap=plt.cm.Purples, )\n",
        "plt.show()"
      ],
      "execution_count": null,
      "outputs": [
        {
          "output_type": "display_data",
          "data": {
            "image/png": "[encoded data removed]",
            "text/plain": [
              "<Figure size 576x576 with 2 Axes>"
            ]
          },
          "metadata": {
            "tags": []
          }
        }
      ]
    },
    {
      "cell_type": "code",
      "metadata": {
        "colab": {
          "base_uri": "https://localhost:8080/"
        },
        "id": "R9epTplHaMI-",
        "outputId": "74c2519f-f8e9-4360-a8be-6753017c80f5"
      },
      "source": [
        "joblib.dump(rfc_grid_results, 'rfc_grid_results.best_estimator_.pkl')\n",
        "## Load--->joblib.load(\"rfc_grid_results.best_estimator_.pkl\")"
      ],
      "execution_count": null,
      "outputs": [
        {
          "output_type": "execute_result",
          "data": {
            "text/plain": [
              "['rfc_grid_results.best_estimator_.pkl']"
            ]
          },
          "metadata": {
            "tags": []
          },
          "execution_count": 47
        }
      ]
    },
    {
      "cell_type": "markdown",
      "metadata": {
        "id": "9PZU79m2QOCH"
      },
      "source": [
        "## 6 Light GBM with GridSearch"
      ]
    },
    {
      "cell_type": "code",
      "metadata": {
        "colab": {
          "background_save": true,
          "base_uri": "https://localhost:8080/"
        },
        "id": "Ry80kYtSK1X0",
        "outputId": "a94e446c-5f69-4cf8-b905-79cfa1889638"
      },
      "source": [
        "from lightgbm import LGBMClassifier\n",
        "parameters_lgbm = {'max_depth': [1, 5, 10, 50], 'n_estimators':np.arange(10,121,20)}\n",
        "\n",
        "lgbm = LGBMClassifier()\n",
        "lgbm_grid = GridSearchCV(lgbm,param_grid=parameters_lgbm, cv=10, verbose=1, n_jobs=-1, return_train_score=True)\n",
        "lgbm_grid_results = perform_model(lgbm_grid, X_train, y_train, X_test, y_test, class_labels=labels)\n",
        "print_grid_search_attributes(lgbm_grid_results['model'])"
      ],
      "execution_count": null,
      "outputs": [
        {
          "output_type": "stream",
          "text": [
            "training the model..\n",
            "Fitting 10 folds for each of 24 candidates, totalling 240 fits\n"
          ],
          "name": "stdout"
        },
        {
          "output_type": "stream",
          "text": [
            "[Parallel(n_jobs=-1)]: Using backend LokyBackend with 2 concurrent workers.\n",
            "[Parallel(n_jobs=-1)]: Done  46 tasks      | elapsed:  2.5min\n",
            "[Parallel(n_jobs=-1)]: Done 196 tasks      | elapsed: 66.2min\n",
            "[Parallel(n_jobs=-1)]: Done 240 out of 240 | elapsed: 100.9min finished\n"
          ],
          "name": "stderr"
        },
        {
          "output_type": "stream",
          "text": [
            "Done \n",
            " \n",
            "\n",
            "training_time(HH:MM:SS.ms) - 1:41:35.821726\n",
            "\n",
            "\n",
            "Predicting test data\n",
            "Done \n",
            " \n",
            "\n",
            "testing time(HH:MM:SS:ms) - 0:00:00.100070\n",
            "\n",
            "\n",
            "---------------------\n",
            "|      Accuracy      |\n",
            "---------------------\n",
            "\n",
            "    0.9358669833729216\n",
            "\n",
            "\n",
            "---------------------\n",
            "|      F1 Score      |\n",
            "---------------------\n",
            "\n",
            "    0.9352586612395445\n",
            "\n",
            "\n",
            "--------------------\n",
            "| Confusion Matrix |\n",
            "--------------------\n",
            "\n",
            " [[537   0   0   0   0   0]\n",
            " [  0 414  77   0   0   0]\n",
            " [  0  34 498   0   0   0]\n",
            " [  0   0   0 487   5   4]\n",
            " [  0   0   0   8 384  28]\n",
            " [  0   0   0  27   6 438]]\n"
          ],
          "name": "stdout"
        },
        {
          "output_type": "display_data",
          "data": {
            "image/png": "[encoded data removed]",
            "text/plain": [
              "<Figure size 576x576 with 2 Axes>"
            ]
          },
          "metadata": {
            "tags": []
          }
        },
        {
          "output_type": "stream",
          "text": [
            "-------------------------\n",
            "| Classifiction Report |\n",
            "-------------------------\n",
            "                    precision    recall  f1-score   support\n",
            "\n",
            "            LAYING       1.00      1.00      1.00       537\n",
            "           SITTING       0.92      0.84      0.88       491\n",
            "          STANDING       0.87      0.94      0.90       532\n",
            "           WALKING       0.93      0.98      0.96       496\n",
            "WALKING_DOWNSTAIRS       0.97      0.91      0.94       420\n",
            "  WALKING_UPSTAIRS       0.93      0.93      0.93       471\n",
            "\n",
            "          accuracy                           0.94      2947\n",
            "         macro avg       0.94      0.93      0.94      2947\n",
            "      weighted avg       0.94      0.94      0.94      2947\n",
            "\n",
            "--------------------------\n",
            "|      Best Estimator     |\n",
            "--------------------------\n",
            "\n",
            "\tLGBMClassifier(boosting_type='gbdt', class_weight=None, colsample_bytree=1.0,\n",
            "               importance_type='split', learning_rate=0.1, max_depth=5,\n",
            "               min_child_samples=20, min_child_weight=0.001, min_split_gain=0.0,\n",
            "               n_estimators=110, n_jobs=-1, num_leaves=31, objective=None,\n",
            "               random_state=None, reg_alpha=0.0, reg_lambda=0.0, silent=True,\n",
            "               subsample=1.0, subsample_for_bin=200000, subsample_freq=0)\n",
            "\n",
            "--------------------------\n",
            "|     Best parameters     |\n",
            "--------------------------\n",
            "\tParameters of best estimator : \n",
            "\n",
            "\t{'max_depth': 5, 'n_estimators': 110}\n",
            "\n",
            "---------------------------------\n",
            "|   No of CrossValidation sets   |\n",
            "--------------------------------\n",
            "\n",
            "\tTotal number of cross validation sets: 10\n",
            "\n",
            "--------------------------\n",
            "|        Best Score       |\n",
            "--------------------------\n",
            "\n",
            "\tAverage Cross Validate scores of best estimator : \n",
            "\n",
            "\t0.9396103223898254\n",
            "\n"
          ],
          "name": "stdout"
        }
      ]
    },
    {
      "cell_type": "code",
      "metadata": {
        "colab": {
          "background_save": true
        },
        "id": "F9KdpHR-kpgr",
        "outputId": "5894da12-3079-45c2-c587-abb7c2e38e43"
      },
      "source": [
        "plt.figure(figsize=(8,8))\n",
        "plt.grid(b=False)\n",
        "plot_confusion_matrix(lgbm_grid_results['confusion_matrix'], classes=labels, cmap=plt.cm.Purples, )\n",
        "plt.show()"
      ],
      "execution_count": null,
      "outputs": [
        {
          "output_type": "display_data",
          "data": {
            "image/png": "[encoded data removed]",
            "text/plain": [
              "<Figure size 576x576 with 2 Axes>"
            ]
          },
          "metadata": {
            "tags": []
          }
        }
      ]
    },
    {
      "cell_type": "code",
      "metadata": {
        "id": "fcoPQQJWaRZH",
        "colab": {
          "base_uri": "https://localhost:8080/"
        },
        "outputId": "aec0a14f-4f91-43fe-857a-980d127fb772"
      },
      "source": [
        "joblib.dump(lgbm_grid_results, 'lgbm_grid_results.best_estimator_.pkl')\n",
        "## Load--->joblib.load(\"lgbm_grid_results.best_estimator_.pkl\")"
      ],
      "execution_count": null,
      "outputs": [
        {
          "output_type": "execute_result",
          "data": {
            "text/plain": [
              "['lgbm_grid_results.best_estimator_.pkl']"
            ]
          },
          "metadata": {
            "tags": []
          },
          "execution_count": 51
        }
      ]
    },
    {
      "cell_type": "markdown",
      "metadata": {
        "id": "9cIaSmR6QbRy"
      },
      "source": [
        "## 7 KNN with Grid Search"
      ]
    },
    {
      "cell_type": "code",
      "metadata": {
        "colab": {
          "base_uri": "https://localhost:8080/",
          "height": 2038
        },
        "id": "Jpb9QHxmQcME",
        "outputId": "a17d43b0-1e9f-45ba-d7ad-36a7f5cb3f63"
      },
      "source": [
        "import matplotlib.pyplot as plt\n",
        "from sklearn.neighbors import KNeighborsClassifier\n",
        "from sklearn.metrics import roc_auc_score\n",
        "\n",
        "# start Grid search\n",
        "parameters_KNN = {'n_neighbors':[3, 15, 25, 51, 101]}\n",
        "KNN_Class = KNeighborsClassifier()\n",
        "KNN_Class_grid = GridSearchCV(KNN_Class, param_grid=parameters_KNN, cv=10, verbose=1, n_jobs=-1, return_train_score=True)\n",
        "KNN_Class_grid_results =  perform_model(KNN_Class_grid, X_train, y_train, X_test, y_test, class_labels=labels)\n",
        "print_grid_search_attributes(KNN_Class_grid_results['model'])"
      ],
      "execution_count": null,
      "outputs": [
        {
          "output_type": "stream",
          "text": [
            "training the model..\n",
            "Fitting 10 folds for each of 5 candidates, totalling 50 fits\n"
          ],
          "name": "stdout"
        },
        {
          "output_type": "stream",
          "text": [
            "[Parallel(n_jobs=-1)]: Using backend LokyBackend with 2 concurrent workers.\n",
            "[Parallel(n_jobs=-1)]: Done  46 tasks      | elapsed: 15.6min\n",
            "[Parallel(n_jobs=-1)]: Done  50 out of  50 | elapsed: 16.8min finished\n"
          ],
          "name": "stderr"
        },
        {
          "output_type": "stream",
          "text": [
            "Done \n",
            " \n",
            "\n",
            "training_time(HH:MM:SS.ms) - 0:16:50.783396\n",
            "\n",
            "\n",
            "Predicting test data\n",
            "Done \n",
            " \n",
            "\n",
            "testing time(HH:MM:SS:ms) - 0:00:13.346534\n",
            "\n",
            "\n",
            "---------------------\n",
            "|      Accuracy      |\n",
            "---------------------\n",
            "\n",
            "    0.9046487953851374\n",
            "\n",
            "\n",
            "---------------------\n",
            "|      F1 Score      |\n",
            "---------------------\n",
            "\n",
            "    0.9013623831600138\n",
            "\n",
            "\n",
            "--------------------\n",
            "| Confusion Matrix |\n",
            "--------------------\n",
            "\n",
            " [[535   1   1   0   0   0]\n",
            " [  0 389  98   0   0   4]\n",
            " [  0  31 501   0   0   0]\n",
            " [  0   0   0 488   8   0]\n",
            " [  0   0   0  51 328  41]\n",
            " [  0   0   0  39   7 425]]\n"
          ],
          "name": "stdout"
        },
        {
          "output_type": "display_data",
          "data": {
            "image/png": "[encoded data removed]",
            "text/plain": [
              "<Figure size 576x576 with 2 Axes>"
            ]
          },
          "metadata": {
            "tags": []
          }
        },
        {
          "output_type": "stream",
          "text": [
            "-------------------------\n",
            "| Classifiction Report |\n",
            "-------------------------\n",
            "                    precision    recall  f1-score   support\n",
            "\n",
            "            LAYING       1.00      1.00      1.00       537\n",
            "           SITTING       0.92      0.79      0.85       491\n",
            "          STANDING       0.83      0.94      0.89       532\n",
            "           WALKING       0.84      0.98      0.91       496\n",
            "WALKING_DOWNSTAIRS       0.96      0.78      0.86       420\n",
            "  WALKING_UPSTAIRS       0.90      0.90      0.90       471\n",
            "\n",
            "          accuracy                           0.90      2947\n",
            "         macro avg       0.91      0.90      0.90      2947\n",
            "      weighted avg       0.91      0.90      0.90      2947\n",
            "\n",
            "--------------------------\n",
            "|      Best Estimator     |\n",
            "--------------------------\n",
            "\n",
            "\tKNeighborsClassifier(algorithm='auto', leaf_size=30, metric='minkowski',\n",
            "                     metric_params=None, n_jobs=None, n_neighbors=15, p=2,\n",
            "                     weights='uniform')\n",
            "\n",
            "--------------------------\n",
            "|     Best parameters     |\n",
            "--------------------------\n",
            "\tParameters of best estimator : \n",
            "\n",
            "\t{'n_neighbors': 15}\n",
            "\n",
            "---------------------------------\n",
            "|   No of CrossValidation sets   |\n",
            "--------------------------------\n",
            "\n",
            "\tTotal number of cross validation sets: 10\n",
            "\n",
            "--------------------------\n",
            "|        Best Score       |\n",
            "--------------------------\n",
            "\n",
            "\tAverage Cross Validate scores of best estimator : \n",
            "\n",
            "\t0.908330190771961\n",
            "\n"
          ],
          "name": "stdout"
        }
      ]
    },
    {
      "cell_type": "code",
      "metadata": {
        "colab": {
          "base_uri": "https://localhost:8080/",
          "height": 576
        },
        "id": "togDvzBykt1d",
        "outputId": "223cad7f-1b8a-41f1-c142-0879ba6f2425"
      },
      "source": [
        "plt.figure(figsize=(8,8))\n",
        "plt.grid(b=False)\n",
        "plot_confusion_matrix(KNN_Class_grid_results['confusion_matrix'], classes=labels, cmap=plt.cm.Purples, )\n",
        "plt.show()"
      ],
      "execution_count": null,
      "outputs": [
        {
          "output_type": "display_data",
          "data": {
            "image/png": "[encoded data removed]",
            "text/plain": [
              "<Figure size 576x576 with 2 Axes>"
            ]
          },
          "metadata": {
            "tags": []
          }
        }
      ]
    },
    {
      "cell_type": "code",
      "metadata": {
        "id": "jp7dBtFMaUvO",
        "colab": {
          "base_uri": "https://localhost:8080/"
        },
        "outputId": "b135731c-40f0-4c6b-d6b0-35ad9075877b"
      },
      "source": [
        "joblib.dump(KNN_Class_grid_results, 'KNN_Class_grid_results.best_estimator_.pkl')\n",
        "## Load--->joblib.load(\"KNN_Class_grid_results.best_estimator_.pkl\")"
      ],
      "execution_count": null,
      "outputs": [
        {
          "output_type": "execute_result",
          "data": {
            "text/plain": [
              "['KNN_Class_grid_results.best_estimator_.pkl']"
            ]
          },
          "metadata": {
            "tags": []
          },
          "execution_count": 54
        }
      ]
    },
    {
      "cell_type": "markdown",
      "metadata": {
        "id": "JENOhC5BQngC"
      },
      "source": [
        "# Comparing Models"
      ]
    },
    {
      "cell_type": "code",
      "metadata": {
        "colab": {
          "base_uri": "https://localhost:8080/"
        },
        "id": "h2sPp1MXQm8q",
        "outputId": "7c4f321d-6ca6-4245-bf59-9972552b9953"
      },
      "source": [
        "\n",
        "print('\\n                     Accuracy     Error     F1 Score')\n",
        "print('                     ----------   --------   ---------')\n",
        "print('Logistic Regression   : {:.04}%       {:.04}%    {:.04}%'.format(log_reg_grid_results['accuracy'] * 100,\\\n",
        "                                                          100-(log_reg_grid_results['accuracy'] * 100),\\\n",
        "                                                  (log_reg_grid_results['f1_score'] * 100)))\n",
        "\n",
        "print('Linear SVC            : {:.04}%      {:.04}%    {:.04}%'.format(lr_svc_grid_results['accuracy'] * 100,\\\n",
        "                                                          100-(lr_svc_grid_results['accuracy'] * 100),\\\n",
        "                                                  (lr_svc_grid_results['f1_score'] * 100)))\n",
        "\n",
        "print('Kernel SVM classifier : {:.04}%      {:.04}%    {:.04}%'.format(rbf_svm_grid_results['accuracy'] * 100,\\\n",
        "                                                          100-(rbf_svm_grid_results['accuracy'] * 100),\\\n",
        "                                                  (rbf_svm_grid_results['f1_score'] * 100)))\n",
        "\n",
        "print('DecisionTree          : {:.04}%      {:.04}%    {:.04}%'.format(dt_grid_results['accuracy'] * 100,\\\n",
        "                                                          100-(dt_grid_results['accuracy'] * 100),\\\n",
        "                                                  (dt_grid_results['f1_score'] * 100)))\n",
        "\n",
        "print('Random Forest         : {:.04}%      {:.04}%    {:.04}%'.format(rfc_grid_results['accuracy'] * 100,\\\n",
        "                                                           100-(rfc_grid_results['accuracy'] * 100),\\\n",
        "                                                  (rfc_grid_results['f1_score'] * 100)))\n",
        "\n",
        "\n",
        "print('Light GBM             : {:.04}%      {:.04}%    {:.04}%'.format(lgbm_grid_results['accuracy'] * 100,\\\n",
        "                                                            100-(lgbm_grid_results['accuracy'] * 100),\\\n",
        "                                                  (lgbm_grid_results['f1_score'] * 100)))\n",
        "\n",
        "print('KNN                   : {:.04}%      {:.04}%    {:.04}%'.format(KNN_Class_grid_results['accuracy'] * 100,\\\n",
        "                                                          100-(KNN_Class_grid_results['accuracy'] * 100),\\\n",
        "                                                  (KNN_Class_grid_results['f1_score'] * 100)))\n",
        "\n",
        "\n",
        "\n",
        "\n"
      ],
      "execution_count": null,
      "outputs": [
        {
          "output_type": "stream",
          "text": [
            "\n",
            "                     Accuracy     Error     F1 Score\n",
            "                     ----------   --------   ---------\n",
            "Logistic Regression   : 96.3%       3.699%    96.31%\n",
            "Linear SVC            : 96.67%      3.325%    96.71%\n",
            "Kernel SVM classifier : 96.27%      3.733%    96.23%\n",
            "DecisionTree          : 86.49%      13.51%    86.22%\n",
            "Random Forest         : 92.64%      7.363%    92.43%\n",
            "Light GBM             : 93.59%      6.413%    93.53%\n",
            "KNN                   : 90.46%      9.535%    90.14%\n"
          ],
          "name": "stdout"
        }
      ]
    }
  ]
}